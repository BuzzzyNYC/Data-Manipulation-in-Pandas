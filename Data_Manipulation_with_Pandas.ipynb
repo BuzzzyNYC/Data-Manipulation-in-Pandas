{
  "cells": [
    {
      "cell_type": "markdown",
      "metadata": {
        "id": "view-in-github",
        "colab_type": "text"
      },
      "source": [
        "<a href=\"https://colab.research.google.com/github/BuzzzyNYC/Data-Manipulation-in-Pandas/blob/main/Data_Manipulation_with_Pandas.ipynb\" target=\"_parent\"><img src=\"https://colab.research.google.com/assets/colab-badge.svg\" alt=\"Open In Colab\"/></a>"
      ]
    },
    {
      "cell_type": "markdown",
      "metadata": {
        "id": "uQZ5FyJ1FfAF"
      },
      "source": [
        ""
      ]
    },
    {
      "cell_type": "code",
      "execution_count": null,
      "metadata": {
        "id": "sv3yHy0DFwdm"
      },
      "outputs": [],
      "source": [
        "from google.colab import files\n",
        "files.upload()"
      ]
    },
    {
      "cell_type": "code",
      "execution_count": null,
      "metadata": {
        "id": "QRKfmccn-2k8"
      },
      "outputs": [],
      "source": [
        "# We will mainly use pandas and numpy\n",
        "import pandas as pd\n",
        "import numpy as np"
      ]
    },
    {
      "cell_type": "markdown",
      "metadata": {
        "id": "Oa-w5HduFgQx"
      },
      "source": [
        "# Inspecting a DataFrame"
      ]
    },
    {
      "cell_type": "markdown",
      "metadata": {
        "id": "TUmtvwf2FjBK"
      },
      "source": [
        "* `.head()` returns the first few rows (the “head” of the DataFrame).\n",
        "* `.info()` shows information on each of the columns, such as the data type and number of missing values.\n",
        "* `.shape` returns the number of rows and columns of the DataFrame.\n",
        "* `.describe()` calculates a few summary statistics for each column.\n",
        "\n"
      ]
    },
    {
      "cell_type": "code",
      "execution_count": null,
      "metadata": {
        "id": "3kdfKH70FYVv"
      },
      "outputs": [],
      "source": [
        "import pandas as pd\n",
        "# Load data\n",
        "homelessness = pd.read_csv('homelessness.csv', index_col=0)\n",
        "# Specify the index_col = 0, so that the first column is used as row labels."
      ]
    },
    {
      "cell_type": "code",
      "execution_count": null,
      "metadata": {
        "colab": {
          "base_uri": "https://localhost:8080/",
          "height": 206
        },
        "id": "sskoKZ3GGqU_",
        "outputId": "43f6db80-8ad1-48e6-d729-92d919875567"
      },
      "outputs": [
        {
          "data": {
            "text/html": [
              "\n",
              "  <div id=\"df-1df9323c-27dd-4b70-a994-67976a8ab378\">\n",
              "    <div class=\"colab-df-container\">\n",
              "      <div>\n",
              "<style scoped>\n",
              "    .dataframe tbody tr th:only-of-type {\n",
              "        vertical-align: middle;\n",
              "    }\n",
              "\n",
              "    .dataframe tbody tr th {\n",
              "        vertical-align: top;\n",
              "    }\n",
              "\n",
              "    .dataframe thead th {\n",
              "        text-align: right;\n",
              "    }\n",
              "</style>\n",
              "<table border=\"1\" class=\"dataframe\">\n",
              "  <thead>\n",
              "    <tr style=\"text-align: right;\">\n",
              "      <th></th>\n",
              "      <th>region</th>\n",
              "      <th>state</th>\n",
              "      <th>individuals</th>\n",
              "      <th>family_members</th>\n",
              "      <th>state_pop</th>\n",
              "    </tr>\n",
              "  </thead>\n",
              "  <tbody>\n",
              "    <tr>\n",
              "      <th>0</th>\n",
              "      <td>East South Central</td>\n",
              "      <td>Alabama</td>\n",
              "      <td>2570.0</td>\n",
              "      <td>864.0</td>\n",
              "      <td>4887681</td>\n",
              "    </tr>\n",
              "    <tr>\n",
              "      <th>1</th>\n",
              "      <td>Pacific</td>\n",
              "      <td>Alaska</td>\n",
              "      <td>1434.0</td>\n",
              "      <td>582.0</td>\n",
              "      <td>735139</td>\n",
              "    </tr>\n",
              "    <tr>\n",
              "      <th>2</th>\n",
              "      <td>Mountain</td>\n",
              "      <td>Arizona</td>\n",
              "      <td>7259.0</td>\n",
              "      <td>2606.0</td>\n",
              "      <td>7158024</td>\n",
              "    </tr>\n",
              "    <tr>\n",
              "      <th>3</th>\n",
              "      <td>West South Central</td>\n",
              "      <td>Arkansas</td>\n",
              "      <td>2280.0</td>\n",
              "      <td>432.0</td>\n",
              "      <td>3009733</td>\n",
              "    </tr>\n",
              "    <tr>\n",
              "      <th>4</th>\n",
              "      <td>Pacific</td>\n",
              "      <td>California</td>\n",
              "      <td>109008.0</td>\n",
              "      <td>20964.0</td>\n",
              "      <td>39461588</td>\n",
              "    </tr>\n",
              "  </tbody>\n",
              "</table>\n",
              "</div>\n",
              "      <button class=\"colab-df-convert\" onclick=\"convertToInteractive('df-1df9323c-27dd-4b70-a994-67976a8ab378')\"\n",
              "              title=\"Convert this dataframe to an interactive table.\"\n",
              "              style=\"display:none;\">\n",
              "        \n",
              "  <svg xmlns=\"http://www.w3.org/2000/svg\" height=\"24px\"viewBox=\"0 0 24 24\"\n",
              "       width=\"24px\">\n",
              "    <path d=\"M0 0h24v24H0V0z\" fill=\"none\"/>\n",
              "    <path d=\"M18.56 5.44l.94 2.06.94-2.06 2.06-.94-2.06-.94-.94-2.06-.94 2.06-2.06.94zm-11 1L8.5 8.5l.94-2.06 2.06-.94-2.06-.94L8.5 2.5l-.94 2.06-2.06.94zm10 10l.94 2.06.94-2.06 2.06-.94-2.06-.94-.94-2.06-.94 2.06-2.06.94z\"/><path d=\"M17.41 7.96l-1.37-1.37c-.4-.4-.92-.59-1.43-.59-.52 0-1.04.2-1.43.59L10.3 9.45l-7.72 7.72c-.78.78-.78 2.05 0 2.83L4 21.41c.39.39.9.59 1.41.59.51 0 1.02-.2 1.41-.59l7.78-7.78 2.81-2.81c.8-.78.8-2.07 0-2.86zM5.41 20L4 18.59l7.72-7.72 1.47 1.35L5.41 20z\"/>\n",
              "  </svg>\n",
              "      </button>\n",
              "      \n",
              "  <style>\n",
              "    .colab-df-container {\n",
              "      display:flex;\n",
              "      flex-wrap:wrap;\n",
              "      gap: 12px;\n",
              "    }\n",
              "\n",
              "    .colab-df-convert {\n",
              "      background-color: #E8F0FE;\n",
              "      border: none;\n",
              "      border-radius: 50%;\n",
              "      cursor: pointer;\n",
              "      display: none;\n",
              "      fill: #1967D2;\n",
              "      height: 32px;\n",
              "      padding: 0 0 0 0;\n",
              "      width: 32px;\n",
              "    }\n",
              "\n",
              "    .colab-df-convert:hover {\n",
              "      background-color: #E2EBFA;\n",
              "      box-shadow: 0px 1px 2px rgba(60, 64, 67, 0.3), 0px 1px 3px 1px rgba(60, 64, 67, 0.15);\n",
              "      fill: #174EA6;\n",
              "    }\n",
              "\n",
              "    [theme=dark] .colab-df-convert {\n",
              "      background-color: #3B4455;\n",
              "      fill: #D2E3FC;\n",
              "    }\n",
              "\n",
              "    [theme=dark] .colab-df-convert:hover {\n",
              "      background-color: #434B5C;\n",
              "      box-shadow: 0px 1px 3px 1px rgba(0, 0, 0, 0.15);\n",
              "      filter: drop-shadow(0px 1px 2px rgba(0, 0, 0, 0.3));\n",
              "      fill: #FFFFFF;\n",
              "    }\n",
              "  </style>\n",
              "\n",
              "      <script>\n",
              "        const buttonEl =\n",
              "          document.querySelector('#df-1df9323c-27dd-4b70-a994-67976a8ab378 button.colab-df-convert');\n",
              "        buttonEl.style.display =\n",
              "          google.colab.kernel.accessAllowed ? 'block' : 'none';\n",
              "\n",
              "        async function convertToInteractive(key) {\n",
              "          const element = document.querySelector('#df-1df9323c-27dd-4b70-a994-67976a8ab378');\n",
              "          const dataTable =\n",
              "            await google.colab.kernel.invokeFunction('convertToInteractive',\n",
              "                                                     [key], {});\n",
              "          if (!dataTable) return;\n",
              "\n",
              "          const docLinkHtml = 'Like what you see? Visit the ' +\n",
              "            '<a target=\"_blank\" href=https://colab.research.google.com/notebooks/data_table.ipynb>data table notebook</a>'\n",
              "            + ' to learn more about interactive tables.';\n",
              "          element.innerHTML = '';\n",
              "          dataTable['output_type'] = 'display_data';\n",
              "          await google.colab.output.renderOutput(dataTable, element);\n",
              "          const docLink = document.createElement('div');\n",
              "          docLink.innerHTML = docLinkHtml;\n",
              "          element.appendChild(docLink);\n",
              "        }\n",
              "      </script>\n",
              "    </div>\n",
              "  </div>\n",
              "  "
            ],
            "text/plain": [
              "               region       state  individuals  family_members  state_pop\n",
              "0  East South Central     Alabama       2570.0           864.0    4887681\n",
              "1             Pacific      Alaska       1434.0           582.0     735139\n",
              "2            Mountain     Arizona       7259.0          2606.0    7158024\n",
              "3  West South Central    Arkansas       2280.0           432.0    3009733\n",
              "4             Pacific  California     109008.0         20964.0   39461588"
            ]
          },
          "execution_count": 3,
          "metadata": {},
          "output_type": "execute_result"
        }
      ],
      "source": [
        "# Get the first 5 rows of data\n",
        "homelessness.head()"
      ]
    },
    {
      "cell_type": "code",
      "execution_count": null,
      "metadata": {
        "colab": {
          "base_uri": "https://localhost:8080/"
        },
        "id": "SrQOfBSiG9ZL",
        "outputId": "2675ce38-0fde-4755-9da9-866684e80c28"
      },
      "outputs": [
        {
          "name": "stdout",
          "output_type": "stream",
          "text": [
            "<class 'pandas.core.frame.DataFrame'>\n",
            "Int64Index: 51 entries, 0 to 50\n",
            "Data columns (total 5 columns):\n",
            " #   Column          Non-Null Count  Dtype  \n",
            "---  ------          --------------  -----  \n",
            " 0   region          51 non-null     object \n",
            " 1   state           51 non-null     object \n",
            " 2   individuals     51 non-null     float64\n",
            " 3   family_members  51 non-null     float64\n",
            " 4   state_pop       51 non-null     int64  \n",
            "dtypes: float64(2), int64(1), object(2)\n",
            "memory usage: 2.4+ KB\n"
          ]
        }
      ],
      "source": [
        "# Get info\n",
        "homelessness.info()"
      ]
    },
    {
      "cell_type": "code",
      "execution_count": null,
      "metadata": {
        "colab": {
          "base_uri": "https://localhost:8080/"
        },
        "id": "OZ5N9ygoHDg0",
        "outputId": "35a0c443-cacc-4eba-abe2-4daba8a1f9b0"
      },
      "outputs": [
        {
          "data": {
            "text/plain": [
              "(51, 5)"
            ]
          },
          "execution_count": 5,
          "metadata": {},
          "output_type": "execute_result"
        }
      ],
      "source": [
        "# Get shape\n",
        "homelessness.shape"
      ]
    },
    {
      "cell_type": "code",
      "execution_count": null,
      "metadata": {
        "colab": {
          "base_uri": "https://localhost:8080/",
          "height": 300
        },
        "id": "dR1bltH4HGSx",
        "outputId": "b4d869a8-a642-46b5-8222-b27996ecaa3e"
      },
      "outputs": [
        {
          "data": {
            "text/html": [
              "\n",
              "  <div id=\"df-7c0002b9-cc12-4af0-a2e7-e5a8331812c4\">\n",
              "    <div class=\"colab-df-container\">\n",
              "      <div>\n",
              "<style scoped>\n",
              "    .dataframe tbody tr th:only-of-type {\n",
              "        vertical-align: middle;\n",
              "    }\n",
              "\n",
              "    .dataframe tbody tr th {\n",
              "        vertical-align: top;\n",
              "    }\n",
              "\n",
              "    .dataframe thead th {\n",
              "        text-align: right;\n",
              "    }\n",
              "</style>\n",
              "<table border=\"1\" class=\"dataframe\">\n",
              "  <thead>\n",
              "    <tr style=\"text-align: right;\">\n",
              "      <th></th>\n",
              "      <th>individuals</th>\n",
              "      <th>family_members</th>\n",
              "      <th>state_pop</th>\n",
              "    </tr>\n",
              "  </thead>\n",
              "  <tbody>\n",
              "    <tr>\n",
              "      <th>count</th>\n",
              "      <td>51.000000</td>\n",
              "      <td>51.000000</td>\n",
              "      <td>5.100000e+01</td>\n",
              "    </tr>\n",
              "    <tr>\n",
              "      <th>mean</th>\n",
              "      <td>7225.784314</td>\n",
              "      <td>3504.882353</td>\n",
              "      <td>6.405637e+06</td>\n",
              "    </tr>\n",
              "    <tr>\n",
              "      <th>std</th>\n",
              "      <td>15991.025083</td>\n",
              "      <td>7805.411811</td>\n",
              "      <td>7.327258e+06</td>\n",
              "    </tr>\n",
              "    <tr>\n",
              "      <th>min</th>\n",
              "      <td>434.000000</td>\n",
              "      <td>75.000000</td>\n",
              "      <td>5.776010e+05</td>\n",
              "    </tr>\n",
              "    <tr>\n",
              "      <th>25%</th>\n",
              "      <td>1446.500000</td>\n",
              "      <td>592.000000</td>\n",
              "      <td>1.777414e+06</td>\n",
              "    </tr>\n",
              "    <tr>\n",
              "      <th>50%</th>\n",
              "      <td>3082.000000</td>\n",
              "      <td>1482.000000</td>\n",
              "      <td>4.461153e+06</td>\n",
              "    </tr>\n",
              "    <tr>\n",
              "      <th>75%</th>\n",
              "      <td>6781.500000</td>\n",
              "      <td>3196.000000</td>\n",
              "      <td>7.340946e+06</td>\n",
              "    </tr>\n",
              "    <tr>\n",
              "      <th>max</th>\n",
              "      <td>109008.000000</td>\n",
              "      <td>52070.000000</td>\n",
              "      <td>3.946159e+07</td>\n",
              "    </tr>\n",
              "  </tbody>\n",
              "</table>\n",
              "</div>\n",
              "      <button class=\"colab-df-convert\" onclick=\"convertToInteractive('df-7c0002b9-cc12-4af0-a2e7-e5a8331812c4')\"\n",
              "              title=\"Convert this dataframe to an interactive table.\"\n",
              "              style=\"display:none;\">\n",
              "        \n",
              "  <svg xmlns=\"http://www.w3.org/2000/svg\" height=\"24px\"viewBox=\"0 0 24 24\"\n",
              "       width=\"24px\">\n",
              "    <path d=\"M0 0h24v24H0V0z\" fill=\"none\"/>\n",
              "    <path d=\"M18.56 5.44l.94 2.06.94-2.06 2.06-.94-2.06-.94-.94-2.06-.94 2.06-2.06.94zm-11 1L8.5 8.5l.94-2.06 2.06-.94-2.06-.94L8.5 2.5l-.94 2.06-2.06.94zm10 10l.94 2.06.94-2.06 2.06-.94-2.06-.94-.94-2.06-.94 2.06-2.06.94z\"/><path d=\"M17.41 7.96l-1.37-1.37c-.4-.4-.92-.59-1.43-.59-.52 0-1.04.2-1.43.59L10.3 9.45l-7.72 7.72c-.78.78-.78 2.05 0 2.83L4 21.41c.39.39.9.59 1.41.59.51 0 1.02-.2 1.41-.59l7.78-7.78 2.81-2.81c.8-.78.8-2.07 0-2.86zM5.41 20L4 18.59l7.72-7.72 1.47 1.35L5.41 20z\"/>\n",
              "  </svg>\n",
              "      </button>\n",
              "      \n",
              "  <style>\n",
              "    .colab-df-container {\n",
              "      display:flex;\n",
              "      flex-wrap:wrap;\n",
              "      gap: 12px;\n",
              "    }\n",
              "\n",
              "    .colab-df-convert {\n",
              "      background-color: #E8F0FE;\n",
              "      border: none;\n",
              "      border-radius: 50%;\n",
              "      cursor: pointer;\n",
              "      display: none;\n",
              "      fill: #1967D2;\n",
              "      height: 32px;\n",
              "      padding: 0 0 0 0;\n",
              "      width: 32px;\n",
              "    }\n",
              "\n",
              "    .colab-df-convert:hover {\n",
              "      background-color: #E2EBFA;\n",
              "      box-shadow: 0px 1px 2px rgba(60, 64, 67, 0.3), 0px 1px 3px 1px rgba(60, 64, 67, 0.15);\n",
              "      fill: #174EA6;\n",
              "    }\n",
              "\n",
              "    [theme=dark] .colab-df-convert {\n",
              "      background-color: #3B4455;\n",
              "      fill: #D2E3FC;\n",
              "    }\n",
              "\n",
              "    [theme=dark] .colab-df-convert:hover {\n",
              "      background-color: #434B5C;\n",
              "      box-shadow: 0px 1px 3px 1px rgba(0, 0, 0, 0.15);\n",
              "      filter: drop-shadow(0px 1px 2px rgba(0, 0, 0, 0.3));\n",
              "      fill: #FFFFFF;\n",
              "    }\n",
              "  </style>\n",
              "\n",
              "      <script>\n",
              "        const buttonEl =\n",
              "          document.querySelector('#df-7c0002b9-cc12-4af0-a2e7-e5a8331812c4 button.colab-df-convert');\n",
              "        buttonEl.style.display =\n",
              "          google.colab.kernel.accessAllowed ? 'block' : 'none';\n",
              "\n",
              "        async function convertToInteractive(key) {\n",
              "          const element = document.querySelector('#df-7c0002b9-cc12-4af0-a2e7-e5a8331812c4');\n",
              "          const dataTable =\n",
              "            await google.colab.kernel.invokeFunction('convertToInteractive',\n",
              "                                                     [key], {});\n",
              "          if (!dataTable) return;\n",
              "\n",
              "          const docLinkHtml = 'Like what you see? Visit the ' +\n",
              "            '<a target=\"_blank\" href=https://colab.research.google.com/notebooks/data_table.ipynb>data table notebook</a>'\n",
              "            + ' to learn more about interactive tables.';\n",
              "          element.innerHTML = '';\n",
              "          dataTable['output_type'] = 'display_data';\n",
              "          await google.colab.output.renderOutput(dataTable, element);\n",
              "          const docLink = document.createElement('div');\n",
              "          docLink.innerHTML = docLinkHtml;\n",
              "          element.appendChild(docLink);\n",
              "        }\n",
              "      </script>\n",
              "    </div>\n",
              "  </div>\n",
              "  "
            ],
            "text/plain": [
              "         individuals  family_members     state_pop\n",
              "count      51.000000       51.000000  5.100000e+01\n",
              "mean     7225.784314     3504.882353  6.405637e+06\n",
              "std     15991.025083     7805.411811  7.327258e+06\n",
              "min       434.000000       75.000000  5.776010e+05\n",
              "25%      1446.500000      592.000000  1.777414e+06\n",
              "50%      3082.000000     1482.000000  4.461153e+06\n",
              "75%      6781.500000     3196.000000  7.340946e+06\n",
              "max    109008.000000    52070.000000  3.946159e+07"
            ]
          },
          "execution_count": 6,
          "metadata": {},
          "output_type": "execute_result"
        }
      ],
      "source": [
        "# Data description\n",
        "homelessness.describe()"
      ]
    },
    {
      "cell_type": "markdown",
      "metadata": {
        "id": "taXCAUCxGGGz"
      },
      "source": [
        "# Parts of a DataFrame"
      ]
    },
    {
      "cell_type": "markdown",
      "metadata": {
        "id": "AyENqUOHGKY_"
      },
      "source": [
        "A FataFrame is consist of three components, stored as attributes:\n",
        "\n",
        "* `.values`: A two-dimensional NumPy array of values.\n",
        "* `.columns`: An index of columns: the column names.\n",
        "* `.index`: An index for the rows: either row numbers or row names."
      ]
    },
    {
      "cell_type": "code",
      "execution_count": null,
      "metadata": {
        "id": "Gzh-CHOmG5eb"
      },
      "outputs": [],
      "source": [
        "# Import pandas using the alias pd\n",
        "# import pandas as pd\n",
        "\n",
        "# Print a 2D NumPy array of the values in homelessness\n",
        "print(homelessness.values)\n",
        "\n",
        "# Print the column name/column index of homelessness\n",
        "print(homelessness.columns)\n",
        "\n",
        "# Print the row index of homelessness\n",
        "print(homelessness.index)"
      ]
    },
    {
      "cell_type": "markdown",
      "metadata": {
        "id": "iOzbWFk9Jr3z"
      },
      "source": [
        "# Sorting and Subsetting"
      ]
    },
    {
      "cell_type": "markdown",
      "metadata": {
        "id": "XJxepDNQK0VY"
      },
      "source": [
        "## Sorting rows\n",
        "\n",
        "In cases where rows have the same value (this is common if you sort on a categorical variable), you may wish to break the ties by sorting on another column. You can sort on multiple columns in this way by passing a list of column names.\n",
        "```\n",
        "one column\t      df.sort_values(\"breed\")\n",
        "multiple columns\tdf.sort_values([\"breed\", \"weight_kg\"])\n",
        "```\n",
        "By combining `.sort_values()` with `.head()`, you can answer questions in the form, \"What are the top cases where…?\"."
      ]
    },
    {
      "cell_type": "markdown",
      "metadata": {
        "id": "N8hNRCuZMBBf"
      },
      "source": [
        "1. Sort homelessness by the number of homeless individuals, from smallest to largest, and save this as `homelessness_ind`.\n",
        "Print the head of the sorted DataFrame."
      ]
    },
    {
      "cell_type": "code",
      "execution_count": null,
      "metadata": {
        "colab": {
          "base_uri": "https://localhost:8080/"
        },
        "id": "PttRPw_SLQf5",
        "outputId": "f348f45c-dd6e-422a-c116-396a162644a2"
      },
      "outputs": [
        {
          "name": "stdout",
          "output_type": "stream",
          "text": [
            "                region         state  individuals  family_members  state_pop\n",
            "50            Mountain       Wyoming        434.0           205.0     577601\n",
            "34  West North Central  North Dakota        467.0            75.0     758080\n",
            "7       South Atlantic      Delaware        708.0           374.0     965479\n",
            "39         New England  Rhode Island        747.0           354.0    1058287\n",
            "45         New England       Vermont        780.0           511.0     624358\n"
          ]
        }
      ],
      "source": [
        "# Sort homelessness by individual\n",
        "homelessness_ind = homelessness.sort_values('individuals')\n",
        "\n",
        "# Print the top few rows\n",
        "print(homelessness_ind.head())"
      ]
    },
    {
      "cell_type": "markdown",
      "metadata": {
        "id": "F00_uA7YMH1-"
      },
      "source": [
        "2. Sort homelessness by the number of homeless `family_members` in `descending order`, and save this as `homelessness_fam`.\n",
        "Print the head of the sorted DataFrame."
      ]
    },
    {
      "cell_type": "code",
      "execution_count": null,
      "metadata": {
        "colab": {
          "base_uri": "https://localhost:8080/"
        },
        "id": "sh2EuDAhMP20",
        "outputId": "6a59365f-2ad3-4bae-89ec-565ac05cad5f"
      },
      "outputs": [
        {
          "name": "stdout",
          "output_type": "stream",
          "text": [
            "                region          state  individuals  family_members  state_pop\n",
            "32        Mid-Atlantic       New York      39827.0         52070.0   19530351\n",
            "4              Pacific     California     109008.0         20964.0   39461588\n",
            "21         New England  Massachusetts       6811.0         13257.0    6882635\n",
            "9       South Atlantic        Florida      21443.0          9587.0   21244317\n",
            "43  West South Central          Texas      19199.0          6111.0   28628666\n"
          ]
        }
      ],
      "source": [
        "# Sort homelessness by the family members\n",
        "homelessness_fam = homelessness.sort_values('family_members', ascending = False)\n",
        "\n",
        "# Print the top few rows\n",
        "print(homelessness_fam.head())"
      ]
    },
    {
      "cell_type": "markdown",
      "metadata": {
        "id": "9tdmiqvGNPac"
      },
      "source": [
        "3. Sort homelessness first by `region (ascending)`, and then by `number of family members (descending)`. Save this as `homelessness_reg_fam`.\n",
        "Print the head of the sorted DataFrame."
      ]
    },
    {
      "cell_type": "code",
      "execution_count": null,
      "metadata": {
        "colab": {
          "base_uri": "https://localhost:8080/"
        },
        "id": "2P4xLjUvMrt-",
        "outputId": "803e2033-9d6b-4d9a-e795-e7df6930f683"
      },
      "outputs": [
        {
          "name": "stdout",
          "output_type": "stream",
          "text": [
            "                region      state  individuals  family_members  state_pop\n",
            "13  East North Central   Illinois       6752.0          3891.0   12723071\n",
            "35  East North Central       Ohio       6929.0          3320.0   11676341\n",
            "22  East North Central   Michigan       5209.0          3142.0    9984072\n",
            "49  East North Central  Wisconsin       2740.0          2167.0    5807406\n",
            "14  East North Central    Indiana       3776.0          1482.0    6695497\n"
          ]
        }
      ],
      "source": [
        "# Sort homelessness by region, then descending family members\n",
        "homelessness_reg_fam = homelessness.sort_values(['region', 'family_members'], ascending=[True, False])\n",
        "\n",
        "# Print the top few rows\n",
        "print(homelessness_reg_fam.head())"
      ]
    },
    {
      "cell_type": "markdown",
      "metadata": {
        "id": "3V3SNYt0NyY7"
      },
      "source": [
        "## Subsetting columns\n",
        "When working with data, you may not need all of the variables in your dataset. Square brackets `([])` can be used to select only the columns that matter to you in an order that makes sense to you. To select only `\"col_a\"` of the DataFrame df, use\n",
        "```\n",
        "df[\"col_a\"]\n",
        "```\n",
        "\n",
        "To select `\"col_a\"` and `\"col_b\"` of `df`, use\n",
        "```\n",
        "df[[\"col_a\", \"col_b\"]]\n",
        "```"
      ]
    },
    {
      "cell_type": "markdown",
      "metadata": {
        "id": "SquXAFqtOIrq"
      },
      "source": [
        "1. Create a DataFrame called `individuals` that contains only the individuals column of `homelessness`.\n",
        "Print the head of the result."
      ]
    },
    {
      "cell_type": "code",
      "execution_count": null,
      "metadata": {
        "colab": {
          "base_uri": "https://localhost:8080/"
        },
        "id": "BwX0k_ImNsLD",
        "outputId": "1ca6850f-ff48-4e8a-8d9a-50c482d0136b"
      },
      "outputs": [
        {
          "name": "stdout",
          "output_type": "stream",
          "text": [
            "0      2570.0\n",
            "1      1434.0\n",
            "2      7259.0\n",
            "3      2280.0\n",
            "4    109008.0\n",
            "Name: individuals, dtype: float64\n"
          ]
        }
      ],
      "source": [
        "# Select the individuals column\n",
        "individuals = homelessness['individuals']\n",
        "\n",
        "# Print the head of the result\n",
        "print(individuals.head())"
      ]
    },
    {
      "cell_type": "markdown",
      "metadata": {
        "id": "Rz6jikcVOi8h"
      },
      "source": [
        "2. Create a DataFrame called `state_fam` that contains only the `state` and `family_members` columns of `homelessness`, in that order.\n",
        "Print the head of the result."
      ]
    },
    {
      "cell_type": "code",
      "execution_count": null,
      "metadata": {
        "colab": {
          "base_uri": "https://localhost:8080/"
        },
        "id": "-DC7mhzvOZnV",
        "outputId": "6406b24c-0d71-4353-dc2a-e8723d306135"
      },
      "outputs": [
        {
          "name": "stdout",
          "output_type": "stream",
          "text": [
            "        state  family_members\n",
            "0     Alabama           864.0\n",
            "1      Alaska           582.0\n",
            "2     Arizona          2606.0\n",
            "3    Arkansas           432.0\n",
            "4  California         20964.0\n"
          ]
        }
      ],
      "source": [
        "# Select the state and family_members columns\n",
        "state_fam = homelessness[['state', 'family_members']]\n",
        "\n",
        "# Print the head of the result\n",
        "print(state_fam.head())"
      ]
    },
    {
      "cell_type": "markdown",
      "metadata": {
        "id": "8L2hvX_VO-Wu"
      },
      "source": [
        "3. Create a DataFrame called `ind_state` that contains the individuals and state columns of homelessness, in that order.\n",
        "Print the head of the result."
      ]
    },
    {
      "cell_type": "code",
      "execution_count": null,
      "metadata": {
        "colab": {
          "base_uri": "https://localhost:8080/"
        },
        "id": "2EK1-4FqOz_0",
        "outputId": "edbd82fb-ff99-4691-9fc5-6486b68e2c2c"
      },
      "outputs": [
        {
          "name": "stdout",
          "output_type": "stream",
          "text": [
            "   individuals       state\n",
            "0       2570.0     Alabama\n",
            "1       1434.0      Alaska\n",
            "2       7259.0     Arizona\n",
            "3       2280.0    Arkansas\n",
            "4     109008.0  California\n"
          ]
        }
      ],
      "source": [
        "# Select only the individuals and state columns, in that order\n",
        "ind_state = homelessness[['individuals', 'state']]\n",
        "\n",
        "# Print the head of the result\n",
        "print(ind_state.head())"
      ]
    },
    {
      "cell_type": "markdown",
      "metadata": {
        "id": "9aBEFVLYPwkz"
      },
      "source": [
        "## Subsetting rows\n",
        "A large part of data science is about `finding which bits of your dataset are interesting.` One of the simplest techniques for this is to find a `subset of rows` that `match some criteria`. This is sometimes known as `filtering rows` or `selecting rows`.\n",
        "\n",
        "There are many ways to subset a DataFrame, perhaps the most common is to use relational operators to return True or False for each row, then pass that inside square brackets.\n",
        "```\n",
        "dogs[dogs[\"height_cm\"] > 60]\n",
        "dogs[dogs[\"color\"] == \"tan\"]\n",
        "```\n",
        "You can filter for multiple conditions at once by using the `\"bitwise and\"` operator, `&`.\n",
        "```\n",
        "dogs[(dogs[\"height_cm\"] > 60) & (dogs[\"color\"] == \"tan\")]\n",
        "```"
      ]
    },
    {
      "cell_type": "markdown",
      "metadata": {
        "id": "WwF4PoL3QNaR"
      },
      "source": [
        "1. Filter homelessness for cases where the number of `individuals` is `greater than ten thousand`, assigning to `ind_gt_10k`. View the printed result."
      ]
    },
    {
      "cell_type": "code",
      "execution_count": null,
      "metadata": {
        "colab": {
          "base_uri": "https://localhost:8080/"
        },
        "id": "ZO9w8iyBP7uK",
        "outputId": "f330f980-89ab-451a-af78-72a813c9f192"
      },
      "outputs": [
        {
          "name": "stdout",
          "output_type": "stream",
          "text": [
            "                region       state  individuals  family_members  state_pop\n",
            "4              Pacific  California     109008.0         20964.0   39461588\n",
            "9       South Atlantic     Florida      21443.0          9587.0   21244317\n",
            "32        Mid-Atlantic    New York      39827.0         52070.0   19530351\n",
            "37             Pacific      Oregon      11139.0          3337.0    4181886\n",
            "43  West South Central       Texas      19199.0          6111.0   28628666\n",
            "47             Pacific  Washington      16424.0          5880.0    7523869\n"
          ]
        }
      ],
      "source": [
        "# Filter for rows where individuals is greater than 10000\n",
        "ind_gt_10k = homelessness[homelessness['individuals'] > 10000]\n",
        "\n",
        "# Print the result\n",
        "print(ind_gt_10k)"
      ]
    },
    {
      "cell_type": "markdown",
      "metadata": {
        "id": "yCtovOAgRIKV"
      },
      "source": [
        "2. Filter homelessness for cases where the USA Census region is \"Mountain\", assigning to `mountain_reg`. View the printed result."
      ]
    },
    {
      "cell_type": "code",
      "execution_count": null,
      "metadata": {
        "colab": {
          "base_uri": "https://localhost:8080/"
        },
        "id": "8xS6hwwBPUGv",
        "outputId": "05ad531b-d774-4faa-d89a-abe97b212984"
      },
      "outputs": [
        {
          "name": "stdout",
          "output_type": "stream",
          "text": [
            "      region       state  individuals  family_members  state_pop\n",
            "2   Mountain     Arizona       7259.0          2606.0    7158024\n",
            "5   Mountain    Colorado       7607.0          3250.0    5691287\n",
            "12  Mountain       Idaho       1297.0           715.0    1750536\n",
            "26  Mountain     Montana        983.0           422.0    1060665\n",
            "28  Mountain      Nevada       7058.0           486.0    3027341\n",
            "31  Mountain  New Mexico       1949.0           602.0    2092741\n",
            "44  Mountain        Utah       1904.0           972.0    3153550\n",
            "50  Mountain     Wyoming        434.0           205.0     577601\n"
          ]
        }
      ],
      "source": [
        "# Filter for rows where region is Mountain\n",
        "mountain_reg = homelessness[homelessness['region']=='Mountain']\n",
        "\n",
        "# See the result\n",
        "print(mountain_reg)"
      ]
    },
    {
      "cell_type": "markdown",
      "metadata": {
        "id": "9TRHgHYsRto1"
      },
      "source": [
        "3. Filter homelessness for cases where the number of `family_members` is `less than one thousand` and the `region` is `\"Pacific\"`, assigning to `fam_lt_1k_pac`. View the printed result."
      ]
    },
    {
      "cell_type": "code",
      "execution_count": null,
      "metadata": {
        "colab": {
          "base_uri": "https://localhost:8080/"
        },
        "id": "UdpMStKHRZbf",
        "outputId": "ca51ff72-39ff-4155-bd29-579e537fd7d0"
      },
      "outputs": [
        {
          "name": "stdout",
          "output_type": "stream",
          "text": [
            "    region   state  individuals  family_members  state_pop\n",
            "1  Pacific  Alaska       1434.0           582.0     735139\n"
          ]
        }
      ],
      "source": [
        "# Filter for rows where family_members is less than 1000 and region is Pacific\n",
        "fam_lt_1k_pac = homelessness[(homelessness['family_members'] < 1000) & (homelessness['region'] == 'Pacific')]\n",
        "\n",
        "# See the result\n",
        "print(fam_lt_1k_pac)"
      ]
    },
    {
      "cell_type": "markdown",
      "metadata": {
        "id": "ni8bzkjZS36O"
      },
      "source": [
        "## Subsetting rows by categorical variables\n",
        "Subsetting data based on a categorical variable often involves using the `\"or\"` operator `(|)` to select rows from multiple categories. \n",
        "```\n",
        "df[(df[\"col\"] == \"value_1\") | (df[\"col\"] == \"value_2\")]\n",
        "```\n",
        "This can get tedious when you want all states in one of three different regions, for example. Instead, use the `.isin()` method, which will allow you to tackle this problem by writing one condition instead of three separate ones.\n",
        "```\n",
        "colors = [\"brown\", \"black\", \"tan\"]\n",
        "condition = dogs[\"color\"].isin(colors)\n",
        "dogs[condition]\n",
        "```\n",
        "\n",
        "```\n",
        "df[df[\"col\"].isin([\"value_1\", \"value_2\"])]\n",
        "```"
      ]
    },
    {
      "cell_type": "markdown",
      "metadata": {
        "id": "x8wjtfHgTAkZ"
      },
      "source": [
        "1. Filter homelessness for cases where the USA census region is `\"South Atlantic\"` or it is `\"Mid-Atlantic\"`, assigning to `south_mid_atlantic`. View the printed result."
      ]
    },
    {
      "cell_type": "code",
      "execution_count": null,
      "metadata": {
        "colab": {
          "base_uri": "https://localhost:8080/"
        },
        "id": "gKZEY5ZPTOjh",
        "outputId": "3acf1d62-29b6-43b0-c87b-13347255f790"
      },
      "outputs": [
        {
          "name": "stdout",
          "output_type": "stream",
          "text": [
            "            region                 state  ...  family_members  state_pop\n",
            "7   South Atlantic              Delaware  ...           374.0     965479\n",
            "8   South Atlantic  District of Columbia  ...          3134.0     701547\n",
            "9   South Atlantic               Florida  ...          9587.0   21244317\n",
            "10  South Atlantic               Georgia  ...          2556.0   10511131\n",
            "20  South Atlantic              Maryland  ...          2230.0    6035802\n",
            "30    Mid-Atlantic            New Jersey  ...          3350.0    8886025\n",
            "32    Mid-Atlantic              New York  ...         52070.0   19530351\n",
            "33  South Atlantic        North Carolina  ...          2817.0   10381615\n",
            "38    Mid-Atlantic          Pennsylvania  ...          5349.0   12800922\n",
            "40  South Atlantic        South Carolina  ...           851.0    5084156\n",
            "46  South Atlantic              Virginia  ...          2047.0    8501286\n",
            "48  South Atlantic         West Virginia  ...           222.0    1804291\n",
            "\n",
            "[12 rows x 5 columns]\n"
          ]
        }
      ],
      "source": [
        "# Subset for rows in South Atlantic or Mid-Atlantic regions\n",
        "south_mid_atlantic = homelessness[(homelessness['region'] == 'South Atlantic') | (homelessness['region'] == 'Mid-Atlantic')]\n",
        "\n",
        "# See the result\n",
        "print(south_mid_atlantic)"
      ]
    },
    {
      "cell_type": "markdown",
      "metadata": {
        "id": "Grrg_KEBUDmX"
      },
      "source": [
        "2. Filter homelessness for cases where the USA census `state` is in the list of Mojave states, `canu`, assigning to `mojave_homelessness`. View the printed result."
      ]
    },
    {
      "cell_type": "code",
      "execution_count": null,
      "metadata": {
        "colab": {
          "base_uri": "https://localhost:8080/"
        },
        "id": "w3JV_PYdUOn9",
        "outputId": "004c2bf4-5914-41d7-d4e6-b74816f8c961"
      },
      "outputs": [
        {
          "name": "stdout",
          "output_type": "stream",
          "text": [
            "      region       state  individuals  family_members  state_pop\n",
            "2   Mountain     Arizona       7259.0          2606.0    7158024\n",
            "4    Pacific  California     109008.0         20964.0   39461588\n",
            "28  Mountain      Nevada       7058.0           486.0    3027341\n",
            "44  Mountain        Utah       1904.0           972.0    3153550\n"
          ]
        }
      ],
      "source": [
        "# The Mojave Desert states\n",
        "canu = [\"California\", \"Arizona\", \"Nevada\", \"Utah\"]\n",
        "\n",
        "# Filter for rows in the Mojave Desert states\n",
        "mojave_homelessness = homelessness['state'].isin(canu)\n",
        "\n",
        "# See the result\n",
        "print(homelessness[mojave_homelessness])"
      ]
    },
    {
      "cell_type": "markdown",
      "metadata": {
        "id": "TFkJmynUVYct"
      },
      "source": [
        "# Adding new columns\n",
        "You aren't stuck with just the data you are given. Instead, you can add new columns to a DataFrame. This has many names, such as transforming, mutating, and feature engineering.\n",
        "\n",
        "You can create new columns from scratch, but it is also common to derive them from other columns, for example, by adding columns together or by changing their units.\n",
        "```\n",
        "df[\"new_col\"] = df[\"col_a\"] + df[\"col_b\"]\n",
        "```"
      ]
    },
    {
      "cell_type": "markdown",
      "metadata": {
        "id": "H_jogRGZW6Tu"
      },
      "source": [
        "1. Add a new column to homelessness, named `total`, containing the `sum of the individuals` and `family_members` columns.\n",
        "2. Add another column to homelessness, named `p_individuals`, containing the proportion of homeless people in each state who are individuals."
      ]
    },
    {
      "cell_type": "code",
      "execution_count": null,
      "metadata": {
        "colab": {
          "base_uri": "https://localhost:8080/",
          "height": 206
        },
        "id": "WMrcJTwxUbK1",
        "outputId": "32204035-f61a-4422-a0f6-1a069b545692"
      },
      "outputs": [
        {
          "data": {
            "text/html": [
              "\n",
              "  <div id=\"df-b5ae732b-164e-41a8-b8e8-3b5567eeedef\">\n",
              "    <div class=\"colab-df-container\">\n",
              "      <div>\n",
              "<style scoped>\n",
              "    .dataframe tbody tr th:only-of-type {\n",
              "        vertical-align: middle;\n",
              "    }\n",
              "\n",
              "    .dataframe tbody tr th {\n",
              "        vertical-align: top;\n",
              "    }\n",
              "\n",
              "    .dataframe thead th {\n",
              "        text-align: right;\n",
              "    }\n",
              "</style>\n",
              "<table border=\"1\" class=\"dataframe\">\n",
              "  <thead>\n",
              "    <tr style=\"text-align: right;\">\n",
              "      <th></th>\n",
              "      <th>region</th>\n",
              "      <th>state</th>\n",
              "      <th>individuals</th>\n",
              "      <th>family_members</th>\n",
              "      <th>state_pop</th>\n",
              "      <th>total</th>\n",
              "      <th>p_individuals</th>\n",
              "    </tr>\n",
              "  </thead>\n",
              "  <tbody>\n",
              "    <tr>\n",
              "      <th>0</th>\n",
              "      <td>East South Central</td>\n",
              "      <td>Alabama</td>\n",
              "      <td>2570.0</td>\n",
              "      <td>864.0</td>\n",
              "      <td>4887681</td>\n",
              "      <td>3434.0</td>\n",
              "      <td>0.748398</td>\n",
              "    </tr>\n",
              "    <tr>\n",
              "      <th>1</th>\n",
              "      <td>Pacific</td>\n",
              "      <td>Alaska</td>\n",
              "      <td>1434.0</td>\n",
              "      <td>582.0</td>\n",
              "      <td>735139</td>\n",
              "      <td>2016.0</td>\n",
              "      <td>0.711310</td>\n",
              "    </tr>\n",
              "    <tr>\n",
              "      <th>2</th>\n",
              "      <td>Mountain</td>\n",
              "      <td>Arizona</td>\n",
              "      <td>7259.0</td>\n",
              "      <td>2606.0</td>\n",
              "      <td>7158024</td>\n",
              "      <td>9865.0</td>\n",
              "      <td>0.735834</td>\n",
              "    </tr>\n",
              "    <tr>\n",
              "      <th>3</th>\n",
              "      <td>West South Central</td>\n",
              "      <td>Arkansas</td>\n",
              "      <td>2280.0</td>\n",
              "      <td>432.0</td>\n",
              "      <td>3009733</td>\n",
              "      <td>2712.0</td>\n",
              "      <td>0.840708</td>\n",
              "    </tr>\n",
              "    <tr>\n",
              "      <th>4</th>\n",
              "      <td>Pacific</td>\n",
              "      <td>California</td>\n",
              "      <td>109008.0</td>\n",
              "      <td>20964.0</td>\n",
              "      <td>39461588</td>\n",
              "      <td>129972.0</td>\n",
              "      <td>0.838704</td>\n",
              "    </tr>\n",
              "  </tbody>\n",
              "</table>\n",
              "</div>\n",
              "      <button class=\"colab-df-convert\" onclick=\"convertToInteractive('df-b5ae732b-164e-41a8-b8e8-3b5567eeedef')\"\n",
              "              title=\"Convert this dataframe to an interactive table.\"\n",
              "              style=\"display:none;\">\n",
              "        \n",
              "  <svg xmlns=\"http://www.w3.org/2000/svg\" height=\"24px\"viewBox=\"0 0 24 24\"\n",
              "       width=\"24px\">\n",
              "    <path d=\"M0 0h24v24H0V0z\" fill=\"none\"/>\n",
              "    <path d=\"M18.56 5.44l.94 2.06.94-2.06 2.06-.94-2.06-.94-.94-2.06-.94 2.06-2.06.94zm-11 1L8.5 8.5l.94-2.06 2.06-.94-2.06-.94L8.5 2.5l-.94 2.06-2.06.94zm10 10l.94 2.06.94-2.06 2.06-.94-2.06-.94-.94-2.06-.94 2.06-2.06.94z\"/><path d=\"M17.41 7.96l-1.37-1.37c-.4-.4-.92-.59-1.43-.59-.52 0-1.04.2-1.43.59L10.3 9.45l-7.72 7.72c-.78.78-.78 2.05 0 2.83L4 21.41c.39.39.9.59 1.41.59.51 0 1.02-.2 1.41-.59l7.78-7.78 2.81-2.81c.8-.78.8-2.07 0-2.86zM5.41 20L4 18.59l7.72-7.72 1.47 1.35L5.41 20z\"/>\n",
              "  </svg>\n",
              "      </button>\n",
              "      \n",
              "  <style>\n",
              "    .colab-df-container {\n",
              "      display:flex;\n",
              "      flex-wrap:wrap;\n",
              "      gap: 12px;\n",
              "    }\n",
              "\n",
              "    .colab-df-convert {\n",
              "      background-color: #E8F0FE;\n",
              "      border: none;\n",
              "      border-radius: 50%;\n",
              "      cursor: pointer;\n",
              "      display: none;\n",
              "      fill: #1967D2;\n",
              "      height: 32px;\n",
              "      padding: 0 0 0 0;\n",
              "      width: 32px;\n",
              "    }\n",
              "\n",
              "    .colab-df-convert:hover {\n",
              "      background-color: #E2EBFA;\n",
              "      box-shadow: 0px 1px 2px rgba(60, 64, 67, 0.3), 0px 1px 3px 1px rgba(60, 64, 67, 0.15);\n",
              "      fill: #174EA6;\n",
              "    }\n",
              "\n",
              "    [theme=dark] .colab-df-convert {\n",
              "      background-color: #3B4455;\n",
              "      fill: #D2E3FC;\n",
              "    }\n",
              "\n",
              "    [theme=dark] .colab-df-convert:hover {\n",
              "      background-color: #434B5C;\n",
              "      box-shadow: 0px 1px 3px 1px rgba(0, 0, 0, 0.15);\n",
              "      filter: drop-shadow(0px 1px 2px rgba(0, 0, 0, 0.3));\n",
              "      fill: #FFFFFF;\n",
              "    }\n",
              "  </style>\n",
              "\n",
              "      <script>\n",
              "        const buttonEl =\n",
              "          document.querySelector('#df-b5ae732b-164e-41a8-b8e8-3b5567eeedef button.colab-df-convert');\n",
              "        buttonEl.style.display =\n",
              "          google.colab.kernel.accessAllowed ? 'block' : 'none';\n",
              "\n",
              "        async function convertToInteractive(key) {\n",
              "          const element = document.querySelector('#df-b5ae732b-164e-41a8-b8e8-3b5567eeedef');\n",
              "          const dataTable =\n",
              "            await google.colab.kernel.invokeFunction('convertToInteractive',\n",
              "                                                     [key], {});\n",
              "          if (!dataTable) return;\n",
              "\n",
              "          const docLinkHtml = 'Like what you see? Visit the ' +\n",
              "            '<a target=\"_blank\" href=https://colab.research.google.com/notebooks/data_table.ipynb>data table notebook</a>'\n",
              "            + ' to learn more about interactive tables.';\n",
              "          element.innerHTML = '';\n",
              "          dataTable['output_type'] = 'display_data';\n",
              "          await google.colab.output.renderOutput(dataTable, element);\n",
              "          const docLink = document.createElement('div');\n",
              "          docLink.innerHTML = docLinkHtml;\n",
              "          element.appendChild(docLink);\n",
              "        }\n",
              "      </script>\n",
              "    </div>\n",
              "  </div>\n",
              "  "
            ],
            "text/plain": [
              "               region       state  ...     total  p_individuals\n",
              "0  East South Central     Alabama  ...    3434.0       0.748398\n",
              "1             Pacific      Alaska  ...    2016.0       0.711310\n",
              "2            Mountain     Arizona  ...    9865.0       0.735834\n",
              "3  West South Central    Arkansas  ...    2712.0       0.840708\n",
              "4             Pacific  California  ...  129972.0       0.838704\n",
              "\n",
              "[5 rows x 7 columns]"
            ]
          },
          "execution_count": 35,
          "metadata": {},
          "output_type": "execute_result"
        }
      ],
      "source": [
        "# Add total col as sum of individuals and family_members\n",
        "homelessness['total'] = homelessness['individuals'] + homelessness['family_members']\n",
        "\n",
        "# Add p_individuals col as proportion of individuals\n",
        "homelessness['p_individuals'] = homelessness['individuals'] / homelessness['total']\n",
        "\n",
        "# See the result\n",
        "homelessness.head()"
      ]
    },
    {
      "cell_type": "markdown",
      "metadata": {
        "id": "LCl_shYYYJLm"
      },
      "source": [
        "# Challenge\n",
        "You've seen the four most common types of data manipulation: \n",
        "* sorting rows, \n",
        "* subsetting columns, \n",
        "* subsetting rows, and \n",
        "* adding new columns. \n",
        "In a real-life data analysis, you can mix and match these four manipulations to answer a multitude of questions.\n",
        "\n",
        "In this exercise, you'll answer the question, `\"Which state has the highest number of homeless individuals per 10,000 people in the state?\"` Combine your new pandas skills to find out."
      ]
    },
    {
      "cell_type": "markdown",
      "metadata": {
        "id": "si7BkjxvbKYk"
      },
      "source": [
        "Ideas:\n",
        "\n",
        "Columns we need: state, individuals, state_pop\n",
        "\n",
        "Create new column: interval of 10000 people"
      ]
    },
    {
      "cell_type": "code",
      "execution_count": null,
      "metadata": {
        "colab": {
          "base_uri": "https://localhost:8080/",
          "height": 206
        },
        "id": "7G1DwohCX_VT",
        "outputId": "4aa6b375-8e14-4791-d46b-1bcbc1278c44"
      },
      "outputs": [
        {
          "data": {
            "text/html": [
              "\n",
              "  <div id=\"df-242ecc3a-2ff3-435b-818a-fe5abe7335bd\">\n",
              "    <div class=\"colab-df-container\">\n",
              "      <div>\n",
              "<style scoped>\n",
              "    .dataframe tbody tr th:only-of-type {\n",
              "        vertical-align: middle;\n",
              "    }\n",
              "\n",
              "    .dataframe tbody tr th {\n",
              "        vertical-align: top;\n",
              "    }\n",
              "\n",
              "    .dataframe thead th {\n",
              "        text-align: right;\n",
              "    }\n",
              "</style>\n",
              "<table border=\"1\" class=\"dataframe\">\n",
              "  <thead>\n",
              "    <tr style=\"text-align: right;\">\n",
              "      <th></th>\n",
              "      <th>region</th>\n",
              "      <th>state</th>\n",
              "      <th>individuals</th>\n",
              "      <th>family_members</th>\n",
              "      <th>state_pop</th>\n",
              "      <th>total</th>\n",
              "      <th>p_individuals</th>\n",
              "      <th>indiv_per_10k</th>\n",
              "    </tr>\n",
              "  </thead>\n",
              "  <tbody>\n",
              "    <tr>\n",
              "      <th>0</th>\n",
              "      <td>East South Central</td>\n",
              "      <td>Alabama</td>\n",
              "      <td>2570.0</td>\n",
              "      <td>864.0</td>\n",
              "      <td>4887681</td>\n",
              "      <td>3434.0</td>\n",
              "      <td>0.748398</td>\n",
              "      <td>5.258117</td>\n",
              "    </tr>\n",
              "    <tr>\n",
              "      <th>1</th>\n",
              "      <td>Pacific</td>\n",
              "      <td>Alaska</td>\n",
              "      <td>1434.0</td>\n",
              "      <td>582.0</td>\n",
              "      <td>735139</td>\n",
              "      <td>2016.0</td>\n",
              "      <td>0.711310</td>\n",
              "      <td>19.506515</td>\n",
              "    </tr>\n",
              "    <tr>\n",
              "      <th>2</th>\n",
              "      <td>Mountain</td>\n",
              "      <td>Arizona</td>\n",
              "      <td>7259.0</td>\n",
              "      <td>2606.0</td>\n",
              "      <td>7158024</td>\n",
              "      <td>9865.0</td>\n",
              "      <td>0.735834</td>\n",
              "      <td>10.141067</td>\n",
              "    </tr>\n",
              "    <tr>\n",
              "      <th>3</th>\n",
              "      <td>West South Central</td>\n",
              "      <td>Arkansas</td>\n",
              "      <td>2280.0</td>\n",
              "      <td>432.0</td>\n",
              "      <td>3009733</td>\n",
              "      <td>2712.0</td>\n",
              "      <td>0.840708</td>\n",
              "      <td>7.575423</td>\n",
              "    </tr>\n",
              "    <tr>\n",
              "      <th>4</th>\n",
              "      <td>Pacific</td>\n",
              "      <td>California</td>\n",
              "      <td>109008.0</td>\n",
              "      <td>20964.0</td>\n",
              "      <td>39461588</td>\n",
              "      <td>129972.0</td>\n",
              "      <td>0.838704</td>\n",
              "      <td>27.623825</td>\n",
              "    </tr>\n",
              "  </tbody>\n",
              "</table>\n",
              "</div>\n",
              "      <button class=\"colab-df-convert\" onclick=\"convertToInteractive('df-242ecc3a-2ff3-435b-818a-fe5abe7335bd')\"\n",
              "              title=\"Convert this dataframe to an interactive table.\"\n",
              "              style=\"display:none;\">\n",
              "        \n",
              "  <svg xmlns=\"http://www.w3.org/2000/svg\" height=\"24px\"viewBox=\"0 0 24 24\"\n",
              "       width=\"24px\">\n",
              "    <path d=\"M0 0h24v24H0V0z\" fill=\"none\"/>\n",
              "    <path d=\"M18.56 5.44l.94 2.06.94-2.06 2.06-.94-2.06-.94-.94-2.06-.94 2.06-2.06.94zm-11 1L8.5 8.5l.94-2.06 2.06-.94-2.06-.94L8.5 2.5l-.94 2.06-2.06.94zm10 10l.94 2.06.94-2.06 2.06-.94-2.06-.94-.94-2.06-.94 2.06-2.06.94z\"/><path d=\"M17.41 7.96l-1.37-1.37c-.4-.4-.92-.59-1.43-.59-.52 0-1.04.2-1.43.59L10.3 9.45l-7.72 7.72c-.78.78-.78 2.05 0 2.83L4 21.41c.39.39.9.59 1.41.59.51 0 1.02-.2 1.41-.59l7.78-7.78 2.81-2.81c.8-.78.8-2.07 0-2.86zM5.41 20L4 18.59l7.72-7.72 1.47 1.35L5.41 20z\"/>\n",
              "  </svg>\n",
              "      </button>\n",
              "      \n",
              "  <style>\n",
              "    .colab-df-container {\n",
              "      display:flex;\n",
              "      flex-wrap:wrap;\n",
              "      gap: 12px;\n",
              "    }\n",
              "\n",
              "    .colab-df-convert {\n",
              "      background-color: #E8F0FE;\n",
              "      border: none;\n",
              "      border-radius: 50%;\n",
              "      cursor: pointer;\n",
              "      display: none;\n",
              "      fill: #1967D2;\n",
              "      height: 32px;\n",
              "      padding: 0 0 0 0;\n",
              "      width: 32px;\n",
              "    }\n",
              "\n",
              "    .colab-df-convert:hover {\n",
              "      background-color: #E2EBFA;\n",
              "      box-shadow: 0px 1px 2px rgba(60, 64, 67, 0.3), 0px 1px 3px 1px rgba(60, 64, 67, 0.15);\n",
              "      fill: #174EA6;\n",
              "    }\n",
              "\n",
              "    [theme=dark] .colab-df-convert {\n",
              "      background-color: #3B4455;\n",
              "      fill: #D2E3FC;\n",
              "    }\n",
              "\n",
              "    [theme=dark] .colab-df-convert:hover {\n",
              "      background-color: #434B5C;\n",
              "      box-shadow: 0px 1px 3px 1px rgba(0, 0, 0, 0.15);\n",
              "      filter: drop-shadow(0px 1px 2px rgba(0, 0, 0, 0.3));\n",
              "      fill: #FFFFFF;\n",
              "    }\n",
              "  </style>\n",
              "\n",
              "      <script>\n",
              "        const buttonEl =\n",
              "          document.querySelector('#df-242ecc3a-2ff3-435b-818a-fe5abe7335bd button.colab-df-convert');\n",
              "        buttonEl.style.display =\n",
              "          google.colab.kernel.accessAllowed ? 'block' : 'none';\n",
              "\n",
              "        async function convertToInteractive(key) {\n",
              "          const element = document.querySelector('#df-242ecc3a-2ff3-435b-818a-fe5abe7335bd');\n",
              "          const dataTable =\n",
              "            await google.colab.kernel.invokeFunction('convertToInteractive',\n",
              "                                                     [key], {});\n",
              "          if (!dataTable) return;\n",
              "\n",
              "          const docLinkHtml = 'Like what you see? Visit the ' +\n",
              "            '<a target=\"_blank\" href=https://colab.research.google.com/notebooks/data_table.ipynb>data table notebook</a>'\n",
              "            + ' to learn more about interactive tables.';\n",
              "          element.innerHTML = '';\n",
              "          dataTable['output_type'] = 'display_data';\n",
              "          await google.colab.output.renderOutput(dataTable, element);\n",
              "          const docLink = document.createElement('div');\n",
              "          docLink.innerHTML = docLinkHtml;\n",
              "          element.appendChild(docLink);\n",
              "        }\n",
              "      </script>\n",
              "    </div>\n",
              "  </div>\n",
              "  "
            ],
            "text/plain": [
              "               region       state  ...  p_individuals  indiv_per_10k\n",
              "0  East South Central     Alabama  ...       0.748398       5.258117\n",
              "1             Pacific      Alaska  ...       0.711310      19.506515\n",
              "2            Mountain     Arizona  ...       0.735834      10.141067\n",
              "3  West South Central    Arkansas  ...       0.840708       7.575423\n",
              "4             Pacific  California  ...       0.838704      27.623825\n",
              "\n",
              "[5 rows x 8 columns]"
            ]
          },
          "execution_count": 36,
          "metadata": {},
          "output_type": "execute_result"
        }
      ],
      "source": [
        "# Create indiv_per_10k col as homeless individuals per 10k state pop\n",
        "homelessness['indiv_per_10k'] = 10000 * homelessness['individuals']/homelessness['state_pop']\n",
        "homelessness.head()"
      ]
    },
    {
      "cell_type": "code",
      "execution_count": null,
      "metadata": {
        "colab": {
          "base_uri": "https://localhost:8080/",
          "height": 268
        },
        "id": "GY4T-j1-dX2e",
        "outputId": "caccf756-a065-4820-e38d-444310cb1e1e"
      },
      "outputs": [
        {
          "data": {
            "text/html": [
              "\n",
              "  <div id=\"df-85706fa2-e8d5-423e-ac50-9f4cf3af8c1b\">\n",
              "    <div class=\"colab-df-container\">\n",
              "      <div>\n",
              "<style scoped>\n",
              "    .dataframe tbody tr th:only-of-type {\n",
              "        vertical-align: middle;\n",
              "    }\n",
              "\n",
              "    .dataframe tbody tr th {\n",
              "        vertical-align: top;\n",
              "    }\n",
              "\n",
              "    .dataframe thead th {\n",
              "        text-align: right;\n",
              "    }\n",
              "</style>\n",
              "<table border=\"1\" class=\"dataframe\">\n",
              "  <thead>\n",
              "    <tr style=\"text-align: right;\">\n",
              "      <th></th>\n",
              "      <th>region</th>\n",
              "      <th>state</th>\n",
              "      <th>individuals</th>\n",
              "      <th>family_members</th>\n",
              "      <th>state_pop</th>\n",
              "      <th>total</th>\n",
              "      <th>p_individuals</th>\n",
              "      <th>indiv_per_10k</th>\n",
              "    </tr>\n",
              "  </thead>\n",
              "  <tbody>\n",
              "    <tr>\n",
              "      <th>4</th>\n",
              "      <td>Pacific</td>\n",
              "      <td>California</td>\n",
              "      <td>109008.0</td>\n",
              "      <td>20964.0</td>\n",
              "      <td>39461588</td>\n",
              "      <td>129972.0</td>\n",
              "      <td>0.838704</td>\n",
              "      <td>27.623825</td>\n",
              "    </tr>\n",
              "    <tr>\n",
              "      <th>8</th>\n",
              "      <td>South Atlantic</td>\n",
              "      <td>District of Columbia</td>\n",
              "      <td>3770.0</td>\n",
              "      <td>3134.0</td>\n",
              "      <td>701547</td>\n",
              "      <td>6904.0</td>\n",
              "      <td>0.546060</td>\n",
              "      <td>53.738381</td>\n",
              "    </tr>\n",
              "    <tr>\n",
              "      <th>11</th>\n",
              "      <td>Pacific</td>\n",
              "      <td>Hawaii</td>\n",
              "      <td>4131.0</td>\n",
              "      <td>2399.0</td>\n",
              "      <td>1420593</td>\n",
              "      <td>6530.0</td>\n",
              "      <td>0.632619</td>\n",
              "      <td>29.079406</td>\n",
              "    </tr>\n",
              "    <tr>\n",
              "      <th>28</th>\n",
              "      <td>Mountain</td>\n",
              "      <td>Nevada</td>\n",
              "      <td>7058.0</td>\n",
              "      <td>486.0</td>\n",
              "      <td>3027341</td>\n",
              "      <td>7544.0</td>\n",
              "      <td>0.935578</td>\n",
              "      <td>23.314189</td>\n",
              "    </tr>\n",
              "    <tr>\n",
              "      <th>32</th>\n",
              "      <td>Mid-Atlantic</td>\n",
              "      <td>New York</td>\n",
              "      <td>39827.0</td>\n",
              "      <td>52070.0</td>\n",
              "      <td>19530351</td>\n",
              "      <td>91897.0</td>\n",
              "      <td>0.433387</td>\n",
              "      <td>20.392363</td>\n",
              "    </tr>\n",
              "    <tr>\n",
              "      <th>37</th>\n",
              "      <td>Pacific</td>\n",
              "      <td>Oregon</td>\n",
              "      <td>11139.0</td>\n",
              "      <td>3337.0</td>\n",
              "      <td>4181886</td>\n",
              "      <td>14476.0</td>\n",
              "      <td>0.769481</td>\n",
              "      <td>26.636307</td>\n",
              "    </tr>\n",
              "    <tr>\n",
              "      <th>47</th>\n",
              "      <td>Pacific</td>\n",
              "      <td>Washington</td>\n",
              "      <td>16424.0</td>\n",
              "      <td>5880.0</td>\n",
              "      <td>7523869</td>\n",
              "      <td>22304.0</td>\n",
              "      <td>0.736370</td>\n",
              "      <td>21.829195</td>\n",
              "    </tr>\n",
              "  </tbody>\n",
              "</table>\n",
              "</div>\n",
              "      <button class=\"colab-df-convert\" onclick=\"convertToInteractive('df-85706fa2-e8d5-423e-ac50-9f4cf3af8c1b')\"\n",
              "              title=\"Convert this dataframe to an interactive table.\"\n",
              "              style=\"display:none;\">\n",
              "        \n",
              "  <svg xmlns=\"http://www.w3.org/2000/svg\" height=\"24px\"viewBox=\"0 0 24 24\"\n",
              "       width=\"24px\">\n",
              "    <path d=\"M0 0h24v24H0V0z\" fill=\"none\"/>\n",
              "    <path d=\"M18.56 5.44l.94 2.06.94-2.06 2.06-.94-2.06-.94-.94-2.06-.94 2.06-2.06.94zm-11 1L8.5 8.5l.94-2.06 2.06-.94-2.06-.94L8.5 2.5l-.94 2.06-2.06.94zm10 10l.94 2.06.94-2.06 2.06-.94-2.06-.94-.94-2.06-.94 2.06-2.06.94z\"/><path d=\"M17.41 7.96l-1.37-1.37c-.4-.4-.92-.59-1.43-.59-.52 0-1.04.2-1.43.59L10.3 9.45l-7.72 7.72c-.78.78-.78 2.05 0 2.83L4 21.41c.39.39.9.59 1.41.59.51 0 1.02-.2 1.41-.59l7.78-7.78 2.81-2.81c.8-.78.8-2.07 0-2.86zM5.41 20L4 18.59l7.72-7.72 1.47 1.35L5.41 20z\"/>\n",
              "  </svg>\n",
              "      </button>\n",
              "      \n",
              "  <style>\n",
              "    .colab-df-container {\n",
              "      display:flex;\n",
              "      flex-wrap:wrap;\n",
              "      gap: 12px;\n",
              "    }\n",
              "\n",
              "    .colab-df-convert {\n",
              "      background-color: #E8F0FE;\n",
              "      border: none;\n",
              "      border-radius: 50%;\n",
              "      cursor: pointer;\n",
              "      display: none;\n",
              "      fill: #1967D2;\n",
              "      height: 32px;\n",
              "      padding: 0 0 0 0;\n",
              "      width: 32px;\n",
              "    }\n",
              "\n",
              "    .colab-df-convert:hover {\n",
              "      background-color: #E2EBFA;\n",
              "      box-shadow: 0px 1px 2px rgba(60, 64, 67, 0.3), 0px 1px 3px 1px rgba(60, 64, 67, 0.15);\n",
              "      fill: #174EA6;\n",
              "    }\n",
              "\n",
              "    [theme=dark] .colab-df-convert {\n",
              "      background-color: #3B4455;\n",
              "      fill: #D2E3FC;\n",
              "    }\n",
              "\n",
              "    [theme=dark] .colab-df-convert:hover {\n",
              "      background-color: #434B5C;\n",
              "      box-shadow: 0px 1px 3px 1px rgba(0, 0, 0, 0.15);\n",
              "      filter: drop-shadow(0px 1px 2px rgba(0, 0, 0, 0.3));\n",
              "      fill: #FFFFFF;\n",
              "    }\n",
              "  </style>\n",
              "\n",
              "      <script>\n",
              "        const buttonEl =\n",
              "          document.querySelector('#df-85706fa2-e8d5-423e-ac50-9f4cf3af8c1b button.colab-df-convert');\n",
              "        buttonEl.style.display =\n",
              "          google.colab.kernel.accessAllowed ? 'block' : 'none';\n",
              "\n",
              "        async function convertToInteractive(key) {\n",
              "          const element = document.querySelector('#df-85706fa2-e8d5-423e-ac50-9f4cf3af8c1b');\n",
              "          const dataTable =\n",
              "            await google.colab.kernel.invokeFunction('convertToInteractive',\n",
              "                                                     [key], {});\n",
              "          if (!dataTable) return;\n",
              "\n",
              "          const docLinkHtml = 'Like what you see? Visit the ' +\n",
              "            '<a target=\"_blank\" href=https://colab.research.google.com/notebooks/data_table.ipynb>data table notebook</a>'\n",
              "            + ' to learn more about interactive tables.';\n",
              "          element.innerHTML = '';\n",
              "          dataTable['output_type'] = 'display_data';\n",
              "          await google.colab.output.renderOutput(dataTable, element);\n",
              "          const docLink = document.createElement('div');\n",
              "          docLink.innerHTML = docLinkHtml;\n",
              "          element.appendChild(docLink);\n",
              "        }\n",
              "      </script>\n",
              "    </div>\n",
              "  </div>\n",
              "  "
            ],
            "text/plain": [
              "            region                 state  ...  p_individuals  indiv_per_10k\n",
              "4          Pacific            California  ...       0.838704      27.623825\n",
              "8   South Atlantic  District of Columbia  ...       0.546060      53.738381\n",
              "11         Pacific                Hawaii  ...       0.632619      29.079406\n",
              "28        Mountain                Nevada  ...       0.935578      23.314189\n",
              "32    Mid-Atlantic              New York  ...       0.433387      20.392363\n",
              "37         Pacific                Oregon  ...       0.769481      26.636307\n",
              "47         Pacific            Washington  ...       0.736370      21.829195\n",
              "\n",
              "[7 rows x 8 columns]"
            ]
          },
          "execution_count": 37,
          "metadata": {},
          "output_type": "execute_result"
        }
      ],
      "source": [
        "# Subset rows for indiv_per_10k greater than 20\n",
        "high_homelessness = homelessness[homelessness['indiv_per_10k'] > 20]\n",
        "high_homelessness"
      ]
    },
    {
      "cell_type": "code",
      "execution_count": null,
      "metadata": {
        "colab": {
          "base_uri": "https://localhost:8080/",
          "height": 206
        },
        "id": "7LJDz1jcdoLM",
        "outputId": "0e8913d8-ed44-454c-8359-d5463b2a6269"
      },
      "outputs": [
        {
          "data": {
            "text/html": [
              "\n",
              "  <div id=\"df-16ff7e02-361e-4781-804c-a882b2a3a80e\">\n",
              "    <div class=\"colab-df-container\">\n",
              "      <div>\n",
              "<style scoped>\n",
              "    .dataframe tbody tr th:only-of-type {\n",
              "        vertical-align: middle;\n",
              "    }\n",
              "\n",
              "    .dataframe tbody tr th {\n",
              "        vertical-align: top;\n",
              "    }\n",
              "\n",
              "    .dataframe thead th {\n",
              "        text-align: right;\n",
              "    }\n",
              "</style>\n",
              "<table border=\"1\" class=\"dataframe\">\n",
              "  <thead>\n",
              "    <tr style=\"text-align: right;\">\n",
              "      <th></th>\n",
              "      <th>region</th>\n",
              "      <th>state</th>\n",
              "      <th>individuals</th>\n",
              "      <th>family_members</th>\n",
              "      <th>state_pop</th>\n",
              "      <th>total</th>\n",
              "      <th>p_individuals</th>\n",
              "      <th>indiv_per_10k</th>\n",
              "    </tr>\n",
              "  </thead>\n",
              "  <tbody>\n",
              "    <tr>\n",
              "      <th>8</th>\n",
              "      <td>South Atlantic</td>\n",
              "      <td>District of Columbia</td>\n",
              "      <td>3770.0</td>\n",
              "      <td>3134.0</td>\n",
              "      <td>701547</td>\n",
              "      <td>6904.0</td>\n",
              "      <td>0.546060</td>\n",
              "      <td>53.738381</td>\n",
              "    </tr>\n",
              "    <tr>\n",
              "      <th>11</th>\n",
              "      <td>Pacific</td>\n",
              "      <td>Hawaii</td>\n",
              "      <td>4131.0</td>\n",
              "      <td>2399.0</td>\n",
              "      <td>1420593</td>\n",
              "      <td>6530.0</td>\n",
              "      <td>0.632619</td>\n",
              "      <td>29.079406</td>\n",
              "    </tr>\n",
              "    <tr>\n",
              "      <th>4</th>\n",
              "      <td>Pacific</td>\n",
              "      <td>California</td>\n",
              "      <td>109008.0</td>\n",
              "      <td>20964.0</td>\n",
              "      <td>39461588</td>\n",
              "      <td>129972.0</td>\n",
              "      <td>0.838704</td>\n",
              "      <td>27.623825</td>\n",
              "    </tr>\n",
              "    <tr>\n",
              "      <th>37</th>\n",
              "      <td>Pacific</td>\n",
              "      <td>Oregon</td>\n",
              "      <td>11139.0</td>\n",
              "      <td>3337.0</td>\n",
              "      <td>4181886</td>\n",
              "      <td>14476.0</td>\n",
              "      <td>0.769481</td>\n",
              "      <td>26.636307</td>\n",
              "    </tr>\n",
              "    <tr>\n",
              "      <th>28</th>\n",
              "      <td>Mountain</td>\n",
              "      <td>Nevada</td>\n",
              "      <td>7058.0</td>\n",
              "      <td>486.0</td>\n",
              "      <td>3027341</td>\n",
              "      <td>7544.0</td>\n",
              "      <td>0.935578</td>\n",
              "      <td>23.314189</td>\n",
              "    </tr>\n",
              "  </tbody>\n",
              "</table>\n",
              "</div>\n",
              "      <button class=\"colab-df-convert\" onclick=\"convertToInteractive('df-16ff7e02-361e-4781-804c-a882b2a3a80e')\"\n",
              "              title=\"Convert this dataframe to an interactive table.\"\n",
              "              style=\"display:none;\">\n",
              "        \n",
              "  <svg xmlns=\"http://www.w3.org/2000/svg\" height=\"24px\"viewBox=\"0 0 24 24\"\n",
              "       width=\"24px\">\n",
              "    <path d=\"M0 0h24v24H0V0z\" fill=\"none\"/>\n",
              "    <path d=\"M18.56 5.44l.94 2.06.94-2.06 2.06-.94-2.06-.94-.94-2.06-.94 2.06-2.06.94zm-11 1L8.5 8.5l.94-2.06 2.06-.94-2.06-.94L8.5 2.5l-.94 2.06-2.06.94zm10 10l.94 2.06.94-2.06 2.06-.94-2.06-.94-.94-2.06-.94 2.06-2.06.94z\"/><path d=\"M17.41 7.96l-1.37-1.37c-.4-.4-.92-.59-1.43-.59-.52 0-1.04.2-1.43.59L10.3 9.45l-7.72 7.72c-.78.78-.78 2.05 0 2.83L4 21.41c.39.39.9.59 1.41.59.51 0 1.02-.2 1.41-.59l7.78-7.78 2.81-2.81c.8-.78.8-2.07 0-2.86zM5.41 20L4 18.59l7.72-7.72 1.47 1.35L5.41 20z\"/>\n",
              "  </svg>\n",
              "      </button>\n",
              "      \n",
              "  <style>\n",
              "    .colab-df-container {\n",
              "      display:flex;\n",
              "      flex-wrap:wrap;\n",
              "      gap: 12px;\n",
              "    }\n",
              "\n",
              "    .colab-df-convert {\n",
              "      background-color: #E8F0FE;\n",
              "      border: none;\n",
              "      border-radius: 50%;\n",
              "      cursor: pointer;\n",
              "      display: none;\n",
              "      fill: #1967D2;\n",
              "      height: 32px;\n",
              "      padding: 0 0 0 0;\n",
              "      width: 32px;\n",
              "    }\n",
              "\n",
              "    .colab-df-convert:hover {\n",
              "      background-color: #E2EBFA;\n",
              "      box-shadow: 0px 1px 2px rgba(60, 64, 67, 0.3), 0px 1px 3px 1px rgba(60, 64, 67, 0.15);\n",
              "      fill: #174EA6;\n",
              "    }\n",
              "\n",
              "    [theme=dark] .colab-df-convert {\n",
              "      background-color: #3B4455;\n",
              "      fill: #D2E3FC;\n",
              "    }\n",
              "\n",
              "    [theme=dark] .colab-df-convert:hover {\n",
              "      background-color: #434B5C;\n",
              "      box-shadow: 0px 1px 3px 1px rgba(0, 0, 0, 0.15);\n",
              "      filter: drop-shadow(0px 1px 2px rgba(0, 0, 0, 0.3));\n",
              "      fill: #FFFFFF;\n",
              "    }\n",
              "  </style>\n",
              "\n",
              "      <script>\n",
              "        const buttonEl =\n",
              "          document.querySelector('#df-16ff7e02-361e-4781-804c-a882b2a3a80e button.colab-df-convert');\n",
              "        buttonEl.style.display =\n",
              "          google.colab.kernel.accessAllowed ? 'block' : 'none';\n",
              "\n",
              "        async function convertToInteractive(key) {\n",
              "          const element = document.querySelector('#df-16ff7e02-361e-4781-804c-a882b2a3a80e');\n",
              "          const dataTable =\n",
              "            await google.colab.kernel.invokeFunction('convertToInteractive',\n",
              "                                                     [key], {});\n",
              "          if (!dataTable) return;\n",
              "\n",
              "          const docLinkHtml = 'Like what you see? Visit the ' +\n",
              "            '<a target=\"_blank\" href=https://colab.research.google.com/notebooks/data_table.ipynb>data table notebook</a>'\n",
              "            + ' to learn more about interactive tables.';\n",
              "          element.innerHTML = '';\n",
              "          dataTable['output_type'] = 'display_data';\n",
              "          await google.colab.output.renderOutput(dataTable, element);\n",
              "          const docLink = document.createElement('div');\n",
              "          docLink.innerHTML = docLinkHtml;\n",
              "          element.appendChild(docLink);\n",
              "        }\n",
              "      </script>\n",
              "    </div>\n",
              "  </div>\n",
              "  "
            ],
            "text/plain": [
              "            region                 state  ...  p_individuals  indiv_per_10k\n",
              "8   South Atlantic  District of Columbia  ...       0.546060      53.738381\n",
              "11         Pacific                Hawaii  ...       0.632619      29.079406\n",
              "4          Pacific            California  ...       0.838704      27.623825\n",
              "37         Pacific                Oregon  ...       0.769481      26.636307\n",
              "28        Mountain                Nevada  ...       0.935578      23.314189\n",
              "\n",
              "[5 rows x 8 columns]"
            ]
          },
          "execution_count": 38,
          "metadata": {},
          "output_type": "execute_result"
        }
      ],
      "source": [
        "# Sort high_homelessness by descending indiv_per_10k\n",
        "high_homelessness_sort = high_homelessness.sort_values('indiv_per_10k', ascending=False)\n",
        "high_homelessness_sort.head()"
      ]
    },
    {
      "cell_type": "code",
      "execution_count": null,
      "metadata": {
        "id": "u9NTteqDd26l"
      },
      "outputs": [],
      "source": [
        "# From high_homelessness_srt, select the state and indiv_per_10k cols\n",
        "result = high_homelessness_sort[['state', 'indiv_per_10k']]"
      ]
    },
    {
      "cell_type": "code",
      "execution_count": null,
      "metadata": {
        "colab": {
          "base_uri": "https://localhost:8080/"
        },
        "id": "Ke6su2EaeUff",
        "outputId": "bcf89d0b-aee4-4dc1-8a3e-37eba0ebe987"
      },
      "outputs": [
        {
          "name": "stdout",
          "output_type": "stream",
          "text": [
            "                  state  indiv_per_10k\n",
            "8  District of Columbia      53.738381\n"
          ]
        }
      ],
      "source": [
        "# Print the result\n",
        "# print(result.iloc[0])\n",
        "print(result.head(1))"
      ]
    },
    {
      "cell_type": "markdown",
      "metadata": {
        "id": "t3XKnOk-zS6y"
      },
      "source": [
        "# Aggregating DataFrames"
      ]
    },
    {
      "cell_type": "markdown",
      "metadata": {
        "id": "e401kY8pzLdc"
      },
      "source": [
        "## Summary Statistics"
      ]
    },
    {
      "cell_type": "markdown",
      "metadata": {
        "id": "Z0818xUvzOsb"
      },
      "source": [
        "### Mean and median\n",
        "Summary statistics are exactly what they sound like - they summarize many numbers in one statistic. For example, mean, median, minimum, maximum, and standard deviation are summary statistics. Calculating summary statistics allows you to get a better sense of your data, even if there's a lot of it."
      ]
    },
    {
      "cell_type": "code",
      "execution_count": null,
      "metadata": {
        "id": "q2iiIpZtzfHD"
      },
      "outputs": [],
      "source": [
        "# load pandas package\n",
        "import pandas as pd\n",
        "# Load walmart sales data\n",
        "sales = pd.read_csv('sales_subset.csv', index_col=0)"
      ]
    },
    {
      "cell_type": "code",
      "execution_count": null,
      "metadata": {
        "colab": {
          "base_uri": "https://localhost:8080/"
        },
        "id": "X5XnWO6Q0WEb",
        "outputId": "2124a6fd-37b2-4bbe-bb61-f7e3ce71a50f"
      },
      "outputs": [
        {
          "name": "stdout",
          "output_type": "stream",
          "text": [
            "   store type  department  ... temperature_c  fuel_price_usd_per_l  unemployment\n",
            "0      1    A           1  ...      5.727778              0.679451         8.106\n",
            "1      1    A           1  ...      8.055556              0.693452         8.106\n",
            "2      1    A           1  ...     16.816667              0.718284         7.808\n",
            "3      1    A           1  ...     22.527778              0.748928         7.808\n",
            "4      1    A           1  ...     27.050000              0.714586         7.808\n",
            "\n",
            "[5 rows x 9 columns]\n",
            "<class 'pandas.core.frame.DataFrame'>\n",
            "Int64Index: 10774 entries, 0 to 10773\n",
            "Data columns (total 9 columns):\n",
            " #   Column                Non-Null Count  Dtype  \n",
            "---  ------                --------------  -----  \n",
            " 0   store                 10774 non-null  int64  \n",
            " 1   type                  10774 non-null  object \n",
            " 2   department            10774 non-null  int64  \n",
            " 3   date                  10774 non-null  object \n",
            " 4   weekly_sales          10774 non-null  float64\n",
            " 5   is_holiday            10774 non-null  bool   \n",
            " 6   temperature_c         10774 non-null  float64\n",
            " 7   fuel_price_usd_per_l  10774 non-null  float64\n",
            " 8   unemployment          10774 non-null  float64\n",
            "dtypes: bool(1), float64(4), int64(2), object(2)\n",
            "memory usage: 768.1+ KB\n",
            "None\n",
            "23843.950148505668\n",
            "12049.064999999999\n"
          ]
        }
      ],
      "source": [
        "# Print the head of the sales DataFrame\n",
        "print(sales.head())\n",
        "\n",
        "# Print the info about the sales DataFrame\n",
        "print(sales.info())\n",
        "\n",
        "# Print the mean of weekly_sales\n",
        "print(sales['weekly_sales'].mean())\n",
        "\n",
        "# Print the median of weekly_sales\n",
        "print(sales.weekly_sales.median())"
      ]
    },
    {
      "cell_type": "markdown",
      "metadata": {
        "id": "KIIr4Uat1Arf"
      },
      "source": [
        "### Summarizing dates\n",
        "Summary statistics can also be calculated on date columns that have values with the data type `datetime64`. Some summary statistics — like mean — don't make a ton of sense on dates, but others are super helpful, for example, minimum and maximum, which allow you to see what time range your data covers."
      ]
    },
    {
      "cell_type": "code",
      "execution_count": null,
      "metadata": {
        "colab": {
          "base_uri": "https://localhost:8080/"
        },
        "id": "SOb-SaRY1FgT",
        "outputId": "6a615ff4-47f8-4765-c388-cb621333be1d"
      },
      "outputs": [
        {
          "name": "stdout",
          "output_type": "stream",
          "text": [
            "2012-10-26\n",
            "2010-02-05\n"
          ]
        }
      ],
      "source": [
        "# Print the maximum of the date column\n",
        "print(sales['date'].max())\n",
        "\n",
        "# Print the minimum of the date column\n",
        "print(sales.date.min())"
      ]
    },
    {
      "cell_type": "markdown",
      "metadata": {
        "id": "XRN6x4rB11_b"
      },
      "source": [
        "### Efficient summaries\n",
        "While pandas and NumPy have tons of functions, sometimes, you may need a different function to summarize your data.\n",
        "\n",
        "The `.agg()` method allows you to apply your own custom functions to a DataFrame, as well as apply functions to more than one column of a DataFrame at once, making your aggregations super-efficient. For example,\n",
        "```\n",
        "df['column'].agg(function)\n",
        "```\n",
        "In the custom function for this exercise, `\"IQR\"` is short for `inter-quartile range`, which is the `75th percentile minus the 25th percentile`. It's an alternative to standard deviation that is helpful if your data contains outliers."
      ]
    },
    {
      "cell_type": "markdown",
      "metadata": {
        "id": "p05WEyZo2F2Z"
      },
      "source": [
        "1. Use the custom `iqr` function defined for you along with `.agg()` to print the IQR of the `temperature_c` column of sales."
      ]
    },
    {
      "cell_type": "code",
      "execution_count": null,
      "metadata": {
        "colab": {
          "base_uri": "https://localhost:8080/"
        },
        "id": "24H2JV9k2M2a",
        "outputId": "97eaf3b2-59f4-4445-c257-22eab091164a"
      },
      "outputs": [
        {
          "name": "stdout",
          "output_type": "stream",
          "text": [
            "16.583333333333336\n"
          ]
        }
      ],
      "source": [
        "# A custom IQR function\n",
        "def iqr(column):\n",
        "    return column.quantile(0.75) - column.quantile(0.25)\n",
        "    \n",
        "# Print IQR of the temperature_c column\n",
        "print(sales['temperature_c'].agg(iqr))"
      ]
    },
    {
      "cell_type": "markdown",
      "metadata": {
        "id": "ynKhhz-O2uUf"
      },
      "source": [
        "2. Update the column selection to use the custom `iqr` function with `.agg()` to print the `IQR` of `temperature_c`, `fuel_price_usd_per_l`, and `unemployment`, in that order."
      ]
    },
    {
      "cell_type": "code",
      "execution_count": null,
      "metadata": {
        "colab": {
          "base_uri": "https://localhost:8080/"
        },
        "id": "ev7_4Xiz3hpL",
        "outputId": "78d4e2b6-417e-4aba-eb0a-a48a923a1894"
      },
      "outputs": [
        {
          "data": {
            "text/plain": [
              "Index(['store', 'type', 'department', 'date', 'weekly_sales', 'is_holiday',\n",
              "       'temperature_c', 'fuel_price_usd_per_l', 'unemployment'],\n",
              "      dtype='object')"
            ]
          },
          "execution_count": 48,
          "metadata": {},
          "output_type": "execute_result"
        }
      ],
      "source": [
        "sales.columns"
      ]
    },
    {
      "cell_type": "code",
      "execution_count": null,
      "metadata": {
        "colab": {
          "base_uri": "https://localhost:8080/"
        },
        "id": "LPqw3_ic2jWQ",
        "outputId": "8aae0e5f-ec75-4e7f-a289-9850f7ea9e3c"
      },
      "outputs": [
        {
          "name": "stdout",
          "output_type": "stream",
          "text": [
            "temperature_c           16.583333\n",
            "fuel_price_usd_per_l     0.073176\n",
            "unemployment             0.565000\n",
            "dtype: float64\n"
          ]
        }
      ],
      "source": [
        "# Update to print IQR of temperature_c, fuel_price_usd_per_1, & unemployment\n",
        "print(sales[['temperature_c', 'fuel_price_usd_per_l', 'unemployment']].agg(iqr))"
      ]
    },
    {
      "cell_type": "markdown",
      "metadata": {
        "id": "QQ5lUQWj31YV"
      },
      "source": [
        "3. Update the aggregation functions called by `.agg()`: include `iqr` and `np.median` in that order."
      ]
    },
    {
      "cell_type": "code",
      "execution_count": null,
      "metadata": {
        "colab": {
          "base_uri": "https://localhost:8080/"
        },
        "id": "boasMMc03_xT",
        "outputId": "879ba042-4e90-486e-b88d-fa48243e3196"
      },
      "outputs": [
        {
          "name": "stdout",
          "output_type": "stream",
          "text": [
            "        temperature_c  fuel_price_usd_per_l  unemployment\n",
            "iqr         16.583333              0.073176      0.565000\n",
            "median      16.966667              0.743381      8.099000\n",
            "mean        15.731978              0.749746      8.082009\n"
          ]
        }
      ],
      "source": [
        "# Import NumPy and create custom IQR function\n",
        "import numpy as np\n",
        "def iqr(column):\n",
        "    return column.quantile(0.75) - column.quantile(0.25)\n",
        "\n",
        "# Update to print IQR, median, and mean of temperature_c, fuel_price_usd_per_l, & unemployment\n",
        "print(sales[[\"temperature_c\", \"fuel_price_usd_per_l\", \"unemployment\"]].agg([iqr, np.median, np.mean]))"
      ]
    },
    {
      "cell_type": "markdown",
      "metadata": {
        "id": "CdWNSAsP5Gs_"
      },
      "source": [
        "### Cumulative statistics\n",
        "Cumulative statistics can also be helpful in tracking summary statistics over time. In this exercise, you'll calculate the `cumulative sum` and `cumulative max` of a department's `weekly sales`, which will allow you to identify what the `total sales` were so far as well as what the `highest weekly sales` were so far.\n",
        "\n",
        "Create a DataFrame called `sales_1_1`, which contains the sales data for `department 1 of store 1`."
      ]
    },
    {
      "cell_type": "markdown",
      "metadata": {
        "id": "ooFL8gbk5uIJ"
      },
      "source": [
        "1. Sort the rows of `sales_1_1` by the date column in ascending order."
      ]
    },
    {
      "cell_type": "code",
      "execution_count": null,
      "metadata": {
        "colab": {
          "base_uri": "https://localhost:8080/"
        },
        "id": "HDnm3_zW4lrf",
        "outputId": "c4cf8ba2-0826-4b31-cf37-9589c04e275a"
      },
      "outputs": [
        {
          "data": {
            "text/plain": [
              "(72, 9)"
            ]
          },
          "execution_count": 51,
          "metadata": {},
          "output_type": "execute_result"
        }
      ],
      "source": [
        "# Create sales_1_1 subset to work with\n",
        "# sales.head()\n",
        "sales_1_1 = sales[(sales['department'] == 1) & sales['store'] == 1]\n",
        "\n",
        "sales_1_1.shape"
      ]
    },
    {
      "cell_type": "code",
      "execution_count": null,
      "metadata": {
        "colab": {
          "base_uri": "https://localhost:8080/",
          "height": 356
        },
        "id": "QOe_CvLGRiCo",
        "outputId": "ba166feb-39eb-4012-c7dd-f9dd31fda7e4"
      },
      "outputs": [
        {
          "data": {
            "text/html": [
              "\n",
              "  <div id=\"df-f4fa9658-f866-420c-9a8c-34a47c3b07fb\">\n",
              "    <div class=\"colab-df-container\">\n",
              "      <div>\n",
              "<style scoped>\n",
              "    .dataframe tbody tr th:only-of-type {\n",
              "        vertical-align: middle;\n",
              "    }\n",
              "\n",
              "    .dataframe tbody tr th {\n",
              "        vertical-align: top;\n",
              "    }\n",
              "\n",
              "    .dataframe thead th {\n",
              "        text-align: right;\n",
              "    }\n",
              "</style>\n",
              "<table border=\"1\" class=\"dataframe\">\n",
              "  <thead>\n",
              "    <tr style=\"text-align: right;\">\n",
              "      <th></th>\n",
              "      <th>store</th>\n",
              "      <th>type</th>\n",
              "      <th>department</th>\n",
              "      <th>date</th>\n",
              "      <th>weekly_sales</th>\n",
              "      <th>is_holiday</th>\n",
              "      <th>temperature_c</th>\n",
              "      <th>fuel_price_usd_per_l</th>\n",
              "      <th>unemployment</th>\n",
              "      <th>cum_weekly_sales</th>\n",
              "      <th>cum_max_sales</th>\n",
              "    </tr>\n",
              "  </thead>\n",
              "  <tbody>\n",
              "    <tr>\n",
              "      <th>0</th>\n",
              "      <td>1</td>\n",
              "      <td>A</td>\n",
              "      <td>1</td>\n",
              "      <td>2010-02-05</td>\n",
              "      <td>24924.50</td>\n",
              "      <td>False</td>\n",
              "      <td>5.727778</td>\n",
              "      <td>0.679451</td>\n",
              "      <td>8.106</td>\n",
              "      <td>24924.50</td>\n",
              "      <td>24924.50</td>\n",
              "    </tr>\n",
              "    <tr>\n",
              "      <th>8109</th>\n",
              "      <td>27</td>\n",
              "      <td>A</td>\n",
              "      <td>1</td>\n",
              "      <td>2010-02-05</td>\n",
              "      <td>32313.79</td>\n",
              "      <td>False</td>\n",
              "      <td>-2.672222</td>\n",
              "      <td>0.780365</td>\n",
              "      <td>8.237</td>\n",
              "      <td>57238.29</td>\n",
              "      <td>32313.79</td>\n",
              "    </tr>\n",
              "    <tr>\n",
              "      <th>4495</th>\n",
              "      <td>13</td>\n",
              "      <td>A</td>\n",
              "      <td>1</td>\n",
              "      <td>2010-02-05</td>\n",
              "      <td>46761.90</td>\n",
              "      <td>False</td>\n",
              "      <td>-0.261111</td>\n",
              "      <td>0.704283</td>\n",
              "      <td>8.316</td>\n",
              "      <td>104000.19</td>\n",
              "      <td>46761.90</td>\n",
              "    </tr>\n",
              "    <tr>\n",
              "      <th>6293</th>\n",
              "      <td>19</td>\n",
              "      <td>A</td>\n",
              "      <td>1</td>\n",
              "      <td>2010-02-05</td>\n",
              "      <td>21500.58</td>\n",
              "      <td>False</td>\n",
              "      <td>-6.133333</td>\n",
              "      <td>0.780365</td>\n",
              "      <td>8.350</td>\n",
              "      <td>125500.77</td>\n",
              "      <td>46761.90</td>\n",
              "    </tr>\n",
              "    <tr>\n",
              "      <th>9899</th>\n",
              "      <td>39</td>\n",
              "      <td>A</td>\n",
              "      <td>1</td>\n",
              "      <td>2010-02-05</td>\n",
              "      <td>21244.50</td>\n",
              "      <td>False</td>\n",
              "      <td>6.833333</td>\n",
              "      <td>0.679451</td>\n",
              "      <td>8.554</td>\n",
              "      <td>146745.27</td>\n",
              "      <td>46761.90</td>\n",
              "    </tr>\n",
              "  </tbody>\n",
              "</table>\n",
              "</div>\n",
              "      <button class=\"colab-df-convert\" onclick=\"convertToInteractive('df-f4fa9658-f866-420c-9a8c-34a47c3b07fb')\"\n",
              "              title=\"Convert this dataframe to an interactive table.\"\n",
              "              style=\"display:none;\">\n",
              "        \n",
              "  <svg xmlns=\"http://www.w3.org/2000/svg\" height=\"24px\"viewBox=\"0 0 24 24\"\n",
              "       width=\"24px\">\n",
              "    <path d=\"M0 0h24v24H0V0z\" fill=\"none\"/>\n",
              "    <path d=\"M18.56 5.44l.94 2.06.94-2.06 2.06-.94-2.06-.94-.94-2.06-.94 2.06-2.06.94zm-11 1L8.5 8.5l.94-2.06 2.06-.94-2.06-.94L8.5 2.5l-.94 2.06-2.06.94zm10 10l.94 2.06.94-2.06 2.06-.94-2.06-.94-.94-2.06-.94 2.06-2.06.94z\"/><path d=\"M17.41 7.96l-1.37-1.37c-.4-.4-.92-.59-1.43-.59-.52 0-1.04.2-1.43.59L10.3 9.45l-7.72 7.72c-.78.78-.78 2.05 0 2.83L4 21.41c.39.39.9.59 1.41.59.51 0 1.02-.2 1.41-.59l7.78-7.78 2.81-2.81c.8-.78.8-2.07 0-2.86zM5.41 20L4 18.59l7.72-7.72 1.47 1.35L5.41 20z\"/>\n",
              "  </svg>\n",
              "      </button>\n",
              "      \n",
              "  <style>\n",
              "    .colab-df-container {\n",
              "      display:flex;\n",
              "      flex-wrap:wrap;\n",
              "      gap: 12px;\n",
              "    }\n",
              "\n",
              "    .colab-df-convert {\n",
              "      background-color: #E8F0FE;\n",
              "      border: none;\n",
              "      border-radius: 50%;\n",
              "      cursor: pointer;\n",
              "      display: none;\n",
              "      fill: #1967D2;\n",
              "      height: 32px;\n",
              "      padding: 0 0 0 0;\n",
              "      width: 32px;\n",
              "    }\n",
              "\n",
              "    .colab-df-convert:hover {\n",
              "      background-color: #E2EBFA;\n",
              "      box-shadow: 0px 1px 2px rgba(60, 64, 67, 0.3), 0px 1px 3px 1px rgba(60, 64, 67, 0.15);\n",
              "      fill: #174EA6;\n",
              "    }\n",
              "\n",
              "    [theme=dark] .colab-df-convert {\n",
              "      background-color: #3B4455;\n",
              "      fill: #D2E3FC;\n",
              "    }\n",
              "\n",
              "    [theme=dark] .colab-df-convert:hover {\n",
              "      background-color: #434B5C;\n",
              "      box-shadow: 0px 1px 3px 1px rgba(0, 0, 0, 0.15);\n",
              "      filter: drop-shadow(0px 1px 2px rgba(0, 0, 0, 0.3));\n",
              "      fill: #FFFFFF;\n",
              "    }\n",
              "  </style>\n",
              "\n",
              "      <script>\n",
              "        const buttonEl =\n",
              "          document.querySelector('#df-f4fa9658-f866-420c-9a8c-34a47c3b07fb button.colab-df-convert');\n",
              "        buttonEl.style.display =\n",
              "          google.colab.kernel.accessAllowed ? 'block' : 'none';\n",
              "\n",
              "        async function convertToInteractive(key) {\n",
              "          const element = document.querySelector('#df-f4fa9658-f866-420c-9a8c-34a47c3b07fb');\n",
              "          const dataTable =\n",
              "            await google.colab.kernel.invokeFunction('convertToInteractive',\n",
              "                                                     [key], {});\n",
              "          if (!dataTable) return;\n",
              "\n",
              "          const docLinkHtml = 'Like what you see? Visit the ' +\n",
              "            '<a target=\"_blank\" href=https://colab.research.google.com/notebooks/data_table.ipynb>data table notebook</a>'\n",
              "            + ' to learn more about interactive tables.';\n",
              "          element.innerHTML = '';\n",
              "          dataTable['output_type'] = 'display_data';\n",
              "          await google.colab.output.renderOutput(dataTable, element);\n",
              "          const docLink = document.createElement('div');\n",
              "          docLink.innerHTML = docLinkHtml;\n",
              "          element.appendChild(docLink);\n",
              "        }\n",
              "      </script>\n",
              "    </div>\n",
              "  </div>\n",
              "  "
            ],
            "text/plain": [
              "      store type  department  ... unemployment  cum_weekly_sales  cum_max_sales\n",
              "0         1    A           1  ...        8.106          24924.50       24924.50\n",
              "8109     27    A           1  ...        8.237          57238.29       32313.79\n",
              "4495     13    A           1  ...        8.316         104000.19       46761.90\n",
              "6293     19    A           1  ...        8.350         125500.77       46761.90\n",
              "9899     39    A           1  ...        8.554         146745.27       46761.90\n",
              "\n",
              "[5 rows x 11 columns]"
            ]
          },
          "execution_count": 57,
          "metadata": {},
          "output_type": "execute_result"
        }
      ],
      "source": [
        "sales_1_1.head()"
      ]
    },
    {
      "cell_type": "code",
      "execution_count": null,
      "metadata": {
        "id": "v2VGsp7w8fhv"
      },
      "outputs": [],
      "source": [
        "# Sort sales_1_1 by date\n",
        "sales_1_1 = sales_1_1.sort_values(\"date\")"
      ]
    },
    {
      "cell_type": "markdown",
      "metadata": {
        "id": "X2inroCI6HZ6"
      },
      "source": [
        "2. Get the `cumulative sum of weekly_sales` and add it as a new column of sales_1_1 called `cum_weekly_sales`."
      ]
    },
    {
      "cell_type": "code",
      "execution_count": null,
      "metadata": {
        "id": "DuG-hngI6AJA"
      },
      "outputs": [],
      "source": [
        "# Get the cumulative sum of weekly_sales, add as cum_weekly_sales col\n",
        "sales_1_1['cum_weekly_sales'] = sales_1_1.weekly_sales.cumsum()"
      ]
    },
    {
      "cell_type": "markdown",
      "metadata": {
        "id": "dHzQ4CVF9BvB"
      },
      "source": [
        "3. Get the `cumulative maximum of weekly_sales`, and add it as a column called `cum_max_sales`."
      ]
    },
    {
      "cell_type": "code",
      "execution_count": null,
      "metadata": {
        "id": "qdTpdoz86aW5"
      },
      "outputs": [],
      "source": [
        "sales_1_1['cum_max_sales'] = sales_1_1.weekly_sales.cummax()"
      ]
    },
    {
      "cell_type": "markdown",
      "metadata": {
        "id": "H2eZnJ_F9YCZ"
      },
      "source": [
        "4. Print the `date, weekly_sales, cum_weekly_sales, and cum_max_sales` columns."
      ]
    },
    {
      "cell_type": "code",
      "execution_count": null,
      "metadata": {
        "colab": {
          "base_uri": "https://localhost:8080/"
        },
        "id": "hlHxi4Ck9VkN",
        "outputId": "00553f65-9f08-42a1-e8b9-1010b0d78e6e"
      },
      "outputs": [
        {
          "name": "stdout",
          "output_type": "stream",
          "text": [
            "            date  weekly_sales  cum_weekly_sales  cum_max_sales\n",
            "0     2010-02-05      24924.50          24924.50       24924.50\n",
            "8109  2010-02-05      32313.79          57238.29       32313.79\n",
            "4495  2010-02-05      46761.90         104000.19       46761.90\n",
            "6293  2010-02-05      21500.58         125500.77       46761.90\n",
            "9899  2010-02-05      21244.50         146745.27       46761.90\n",
            "...          ...           ...               ...            ...\n",
            "8120  2011-01-07      17654.48        1897628.33      139870.90\n",
            "4506  2011-01-07      24627.06        1922255.39      139870.90\n",
            "11    2011-01-07      15984.24        1938239.63      139870.90\n",
            "9020  2011-01-07      11953.28        1950192.91      139870.90\n",
            "9910  2011-01-07      11141.04        1961333.95      139870.90\n",
            "\n",
            "[72 rows x 4 columns]\n"
          ]
        }
      ],
      "source": [
        "print(sales_1_1[['date', 'weekly_sales', 'cum_weekly_sales', 'cum_max_sales']])"
      ]
    },
    {
      "cell_type": "markdown",
      "metadata": {
        "id": "sp6F5ATZA_4n"
      },
      "source": [
        "### Dropping duplicates\n",
        "Removing duplicates is an essential skill to get accurate counts because often, you don't want to count the same thing multiple times. In this exercise, you'll create some new DataFrames using unique values from sales."
      ]
    },
    {
      "cell_type": "markdown",
      "metadata": {
        "id": "QdL2dBCuBQX-"
      },
      "source": [
        "1. Remove rows of `sales` with duplicate pairs of `store` and `type` and save as `store_types` and print the head."
      ]
    },
    {
      "cell_type": "code",
      "execution_count": null,
      "metadata": {
        "colab": {
          "base_uri": "https://localhost:8080/"
        },
        "id": "68lDZg1-Cx7p",
        "outputId": "46d6f14b-af51-4f59-f4a8-026be74d6c4e"
      },
      "outputs": [
        {
          "name": "stdout",
          "output_type": "stream",
          "text": [
            "      store type  department  ... temperature_c  fuel_price_usd_per_l  unemployment\n",
            "0         1    A           1  ...      5.727778              0.679451         8.106\n",
            "901       2    A           1  ...      4.550000              0.679451         8.324\n",
            "1798      4    A           1  ...      6.533333              0.686319         8.623\n",
            "2699      6    A           1  ...      4.683333              0.679451         7.259\n",
            "3593     10    B           1  ...     12.411111              0.782478         9.765\n",
            "\n",
            "[5 rows x 9 columns]\n"
          ]
        }
      ],
      "source": [
        "# Drop duplicate store/type combinations\n",
        "store_types = sales.drop_duplicates(subset=[\"store\", \"type\"])\n",
        "print(store_types.head())"
      ]
    },
    {
      "cell_type": "markdown",
      "metadata": {
        "id": "A0ydogOdC85U"
      },
      "source": [
        "2. Remove rows of `sales` with duplicate pairs of `store` and `department` and save as `store_depts` and print the head."
      ]
    },
    {
      "cell_type": "code",
      "execution_count": null,
      "metadata": {
        "colab": {
          "base_uri": "https://localhost:8080/"
        },
        "id": "uMEugFLhDBlf",
        "outputId": "cb3c5fbe-c836-4d10-ee99-4c253c1f8635"
      },
      "outputs": [
        {
          "name": "stdout",
          "output_type": "stream",
          "text": [
            "    store type  department  ... temperature_c  fuel_price_usd_per_l  unemployment\n",
            "0       1    A           1  ...      5.727778              0.679451         8.106\n",
            "12      1    A           2  ...      5.727778              0.679451         8.106\n",
            "24      1    A           3  ...      5.727778              0.679451         8.106\n",
            "36      1    A           4  ...      5.727778              0.679451         8.106\n",
            "48      1    A           5  ...      5.727778              0.679451         8.106\n",
            "\n",
            "[5 rows x 9 columns]\n"
          ]
        }
      ],
      "source": [
        "# Drop duplicate store/department combinations\n",
        "store_depts = sales.drop_duplicates(subset=[\"store\", \"department\"])\n",
        "print(store_depts.head())"
      ]
    },
    {
      "cell_type": "markdown",
      "metadata": {
        "id": "D89Ruk3mDGd0"
      },
      "source": [
        "3. Subset the rows that `are holiday weeks` using the `is_holiday` column, and drop the duplicate dates, saving as `holiday_dates`."
      ]
    },
    {
      "cell_type": "code",
      "execution_count": null,
      "metadata": {
        "id": "-vPIvB3lDDCb"
      },
      "outputs": [],
      "source": [
        "# Subset the rows where is_holiday is True and drop duplicate dates\n",
        "holiday_dates = sales[sales[\"is_holiday\"]].drop_duplicates(subset=\"date\")"
      ]
    },
    {
      "cell_type": "markdown",
      "metadata": {
        "id": "WiPrMdDrDVMl"
      },
      "source": [
        "4. Select the `date` column of `holiday_dates`, and print."
      ]
    },
    {
      "cell_type": "code",
      "execution_count": null,
      "metadata": {
        "colab": {
          "base_uri": "https://localhost:8080/"
        },
        "id": "KFPa5BvHDZGa",
        "outputId": "d0111c77-f962-4da1-b890-c0a36bc2b19f"
      },
      "outputs": [
        {
          "name": "stdout",
          "output_type": "stream",
          "text": [
            "498     2010-09-10\n",
            "691     2011-11-25\n",
            "2315    2010-02-12\n",
            "6735    2012-09-07\n",
            "6810    2010-12-31\n",
            "6815    2012-02-10\n",
            "6820    2011-09-09\n",
            "Name: date, dtype: object\n"
          ]
        }
      ],
      "source": [
        "# Print date col of holiday_dates\n",
        "print(holiday_dates[\"date\"])"
      ]
    },
    {
      "cell_type": "markdown",
      "metadata": {
        "id": "eoMVESyVDszs"
      },
      "source": [
        "### Counting categorical variables\n",
        "Counting is a great way to get an overview of your data and to spot curiosities that you might not notice otherwise. In this exercise, you'll count the number of each type of store and the number of each department number using the DataFrames you created in the previous exercise:\n",
        "```\n",
        "# Drop duplicate store/type combinations\n",
        "store_types = sales.drop_duplicates(subset=[\"store\", \"type\"])\n",
        "\n",
        "# Drop duplicate store/department combinations\n",
        "store_depts = sales.drop_duplicates(subset=[\"store\", \"department\"])\n",
        "```\n"
      ]
    },
    {
      "cell_type": "markdown",
      "metadata": {
        "id": "24hBmSOlD1zL"
      },
      "source": [
        "1. Count the `number of stores` of each store type in `store_types.`"
      ]
    },
    {
      "cell_type": "code",
      "execution_count": null,
      "metadata": {
        "colab": {
          "base_uri": "https://localhost:8080/"
        },
        "id": "WBcFB33mEivj",
        "outputId": "422120e8-6f01-483d-f082-b6935d081c8a"
      },
      "outputs": [
        {
          "name": "stdout",
          "output_type": "stream",
          "text": [
            "A    11\n",
            "B     1\n",
            "Name: type, dtype: int64\n"
          ]
        }
      ],
      "source": [
        "# Count the number of stores of each type\n",
        "store_counts = store_types[\"type\"].value_counts()\n",
        "print(store_counts)"
      ]
    },
    {
      "cell_type": "markdown",
      "metadata": {
        "id": "WbzHoV6BEo6X"
      },
      "source": [
        "2. Count the `proportion` of stores of each store type in store_types."
      ]
    },
    {
      "cell_type": "code",
      "execution_count": null,
      "metadata": {
        "colab": {
          "base_uri": "https://localhost:8080/"
        },
        "id": "SR1yLwM8Es5Q",
        "outputId": "d86af730-8396-45ff-caff-b86e54608654"
      },
      "outputs": [
        {
          "name": "stdout",
          "output_type": "stream",
          "text": [
            "A    0.916667\n",
            "B    0.083333\n",
            "Name: type, dtype: float64\n"
          ]
        }
      ],
      "source": [
        "# Get the proportion of stores of each type\n",
        "store_props = store_types[\"type\"].value_counts(normalize=True)\n",
        "print(store_props)"
      ]
    },
    {
      "cell_type": "markdown",
      "metadata": {
        "id": "ZKJ7xoJ1Exke"
      },
      "source": [
        "3. Count the number of different `departments` in `store_depts`, sorting the counts in descending order."
      ]
    },
    {
      "cell_type": "code",
      "execution_count": null,
      "metadata": {
        "colab": {
          "base_uri": "https://localhost:8080/"
        },
        "id": "K_jMz05qE1vR",
        "outputId": "af18a6cb-c190-40d9-b274-fe48232e674a"
      },
      "outputs": [
        {
          "name": "stdout",
          "output_type": "stream",
          "text": [
            "1     12\n",
            "55    12\n",
            "72    12\n",
            "71    12\n",
            "67    12\n",
            "      ..\n",
            "37    10\n",
            "48     8\n",
            "50     6\n",
            "39     4\n",
            "43     2\n",
            "Name: department, Length: 80, dtype: int64\n"
          ]
        }
      ],
      "source": [
        "# Count the number of each department number and sort\n",
        "dept_counts_sorted = store_depts[\"department\"].value_counts(sort=True)\n",
        "print(dept_counts_sorted)"
      ]
    },
    {
      "cell_type": "markdown",
      "metadata": {
        "id": "kDRywwcZE8KA"
      },
      "source": [
        "4. Count the proportion of different departments in `store_depts`, sorting the proportions in descending order."
      ]
    },
    {
      "cell_type": "code",
      "execution_count": null,
      "metadata": {
        "colab": {
          "base_uri": "https://localhost:8080/"
        },
        "id": "-5IaVL1LE_nH",
        "outputId": "e4b55d89-c709-46e2-a376-e0e0dfb4ccd5"
      },
      "outputs": [
        {
          "name": "stdout",
          "output_type": "stream",
          "text": [
            "1     0.012917\n",
            "55    0.012917\n",
            "72    0.012917\n",
            "71    0.012917\n",
            "67    0.012917\n",
            "        ...   \n",
            "37    0.010764\n",
            "48    0.008611\n",
            "50    0.006459\n",
            "39    0.004306\n",
            "43    0.002153\n",
            "Name: department, Length: 80, dtype: float64\n"
          ]
        }
      ],
      "source": [
        "# Get the proportion of departments of each number and sort\n",
        "dept_props_sorted = store_depts[\"department\"].value_counts(sort=True, normalize=True)\n",
        "print(dept_props_sorted)"
      ]
    },
    {
      "cell_type": "markdown",
      "metadata": {
        "id": "tKZNl4GWCJLE"
      },
      "source": [
        "## Grouped Summary Statistics"
      ]
    },
    {
      "cell_type": "markdown",
      "metadata": {
        "id": "rge8Lww5Chj9"
      },
      "source": [
        "### What percent of sales occurred at each store type?\n",
        "While `.groupby()` is useful, you can calculate grouped summary statistics without it.\n",
        "\n",
        "Walmart distinguishes three types of stores: `\"supercenters,\"` `\"discount stores,\"` and `\"neighborhood markets,\"` encoded in this dataset as type `\"A,\" \"B,\" and \"C.\"` In this exercise, you'll calculate the total sales made at each store type, without using `.groupby().` You can then use these numbers to see what proportion of Walmart's total sales were made at each type."
      ]
    },
    {
      "cell_type": "markdown",
      "metadata": {
        "id": "FtUkvOs0CzxH"
      },
      "source": [
        "1. Calculate the total `weekly_sales` over the whole dataset."
      ]
    },
    {
      "cell_type": "code",
      "execution_count": null,
      "metadata": {
        "colab": {
          "base_uri": "https://localhost:8080/"
        },
        "id": "qbJWMlYVCU4D",
        "outputId": "98db4b31-0516-40da-d71d-28becfdbde9a"
      },
      "outputs": [
        {
          "data": {
            "text/plain": [
              "256894718.89999998"
            ]
          },
          "execution_count": 68,
          "metadata": {},
          "output_type": "execute_result"
        }
      ],
      "source": [
        "# Calc total weekly sales\n",
        "sales_all = sales[\"weekly_sales\"].sum()\n",
        "sales_all"
      ]
    },
    {
      "cell_type": "markdown",
      "metadata": {
        "id": "IILmEvK4ThtO"
      },
      "source": [
        "2. Subset for type `\"A\"` stores, and calculate their total weekly sales."
      ]
    },
    {
      "cell_type": "code",
      "execution_count": null,
      "metadata": {
        "colab": {
          "base_uri": "https://localhost:8080/"
        },
        "id": "CjSsR8XUTXaP",
        "outputId": "32235543-445f-49db-cec0-729d7c8848d8"
      },
      "outputs": [
        {
          "data": {
            "text/plain": [
              "233716315.01"
            ]
          },
          "execution_count": 71,
          "metadata": {},
          "output_type": "execute_result"
        }
      ],
      "source": [
        "# Subset for type A stores, calc total weekly sales\n",
        "sales_A = sales[sales[\"type\"] == \"A\"][\"weekly_sales\"].sum()\n",
        "sales_A"
      ]
    },
    {
      "cell_type": "markdown",
      "metadata": {
        "id": "0v2pe8JqUNS7"
      },
      "source": [
        "3. Do the same for type `\"B\"` and type `\"C\"` stores."
      ]
    },
    {
      "cell_type": "code",
      "execution_count": null,
      "metadata": {
        "id": "GDFZCxeQUQRv"
      },
      "outputs": [],
      "source": [
        "# Subset for type B stores, calc total weekly sales\n",
        "sales_B = sales[sales[\"type\"] == \"B\"][\"weekly_sales\"].sum()\n",
        "\n",
        "# Subset for type C stores, calc total weekly sales\n",
        "sales_C = sales[sales[\"type\"] == \"C\"][\"weekly_sales\"].sum()"
      ]
    },
    {
      "cell_type": "markdown",
      "metadata": {
        "id": "EkIVnJHvUhUL"
      },
      "source": [
        "4. Combine the `A/B/C` results into a list, and `divide by sales_all` to get the proportion of sales by type."
      ]
    },
    {
      "cell_type": "code",
      "execution_count": null,
      "metadata": {
        "colab": {
          "base_uri": "https://localhost:8080/"
        },
        "id": "aU3OmKhXUfPp",
        "outputId": "5ef8c820-4aa1-4f5d-c7f2-989d4a1a20ea"
      },
      "outputs": [
        {
          "name": "stdout",
          "output_type": "stream",
          "text": [
            "[0.9097747 0.0902253 0.       ]\n"
          ]
        }
      ],
      "source": [
        "# Get proportion for each type\n",
        "sales_prop_by_type = [sales_A, sales_B, sales_C] / sales_all\n",
        "print(sales_prop_by_type)"
      ]
    },
    {
      "cell_type": "markdown",
      "metadata": {
        "id": "bRU_wTzmVcoE"
      },
      "source": [
        "### Calculations with `.groupby()`\n",
        "The `.groupby()` method makes life much easier. In this exercise, you'll perform the same calculations as last time, except you'll use the `.groupby()` method. You'll also perform calculations on data grouped by two variables to see if sales differ by store type depending on if it's a holiday week or not."
      ]
    },
    {
      "cell_type": "markdown",
      "metadata": {
        "id": "42kf_s9DVqrw"
      },
      "source": [
        "\n",
        "1.\n",
        "* Group sales `\"type\"`, take the sum of `\"weekly_sales\"`, and store as `sales_by_type`.\n",
        "* Calculate the proportion of sales at each store type by dividing by the `sum of sales_by_type`. Assign to `sales_propn_by_type`."
      ]
    },
    {
      "cell_type": "code",
      "execution_count": null,
      "metadata": {
        "colab": {
          "base_uri": "https://localhost:8080/"
        },
        "id": "tMDsk2ZoV5mO",
        "outputId": "f8b52af4-b67f-4761-81a9-90fd022dfb6f"
      },
      "outputs": [
        {
          "data": {
            "text/plain": [
              "type\n",
              "A    2.337163e+08\n",
              "B    2.317840e+07\n",
              "Name: weekly_sales, dtype: float64"
            ]
          },
          "execution_count": 75,
          "metadata": {},
          "output_type": "execute_result"
        }
      ],
      "source": [
        "# Group by type; calc total weekly sales\n",
        "sales_by_type = sales.groupby(\"type\")[\"weekly_sales\"].sum()\n",
        "sales_by_type"
      ]
    },
    {
      "cell_type": "code",
      "execution_count": null,
      "metadata": {
        "colab": {
          "base_uri": "https://localhost:8080/"
        },
        "id": "-o8rN1-vZfsv",
        "outputId": "ce14d474-a9c4-4d3e-ed81-6cc81ceae680"
      },
      "outputs": [
        {
          "data": {
            "text/plain": [
              "type\n",
              "A    0.909775\n",
              "B    0.090225\n",
              "Name: weekly_sales, dtype: float64"
            ]
          },
          "execution_count": 77,
          "metadata": {},
          "output_type": "execute_result"
        }
      ],
      "source": [
        "# Get proportion for each type\n",
        "sales_prop_by_type = sales_by_type/sum(sales_by_type)\n",
        "sales_prop_by_type"
      ]
    },
    {
      "cell_type": "markdown",
      "metadata": {
        "id": "5AH3yN7XaQTM"
      },
      "source": [
        "2. Group sales by `\"type\"` and `\"is_holiday\"`, take the `sum of weekly_sales`, and store as `sales_by_type_is_holiday`."
      ]
    },
    {
      "cell_type": "code",
      "execution_count": null,
      "metadata": {
        "colab": {
          "base_uri": "https://localhost:8080/"
        },
        "id": "xTCF34LIaEn1",
        "outputId": "6e358200-c2e8-42eb-eedc-827f6e609078"
      },
      "outputs": [
        {
          "data": {
            "text/plain": [
              "type  is_holiday\n",
              "A     False         2.336927e+08\n",
              "      True          2.360181e+04\n",
              "B     False         2.317678e+07\n",
              "      True          1.621410e+03\n",
              "Name: weekly_sales, dtype: float64"
            ]
          },
          "execution_count": 79,
          "metadata": {},
          "output_type": "execute_result"
        }
      ],
      "source": [
        "sales_by_type_is_holiday = sales.groupby([\"type\", \"is_holiday\"])[\"weekly_sales\"].sum()\n",
        "sales_by_type_is_holiday"
      ]
    },
    {
      "cell_type": "markdown",
      "metadata": {
        "id": "IWIHznjIcb5p"
      },
      "source": [
        "### Multiple grouped summaries\n",
        "Earlier in this chapter, you saw that the `.agg()` method is useful to compute multiple statistics on multiple variables. It also works with grouped data. NumPy, which is imported as np, has many different summary statistics functions, including: `np.min, np.max, np.mean, and np.median.`"
      ]
    },
    {
      "cell_type": "code",
      "execution_count": null,
      "metadata": {
        "id": "6cSGi92ccKAD"
      },
      "outputs": [],
      "source": [
        "# Import numpy with the alias np\n",
        "import numpy as np"
      ]
    },
    {
      "cell_type": "markdown",
      "metadata": {
        "id": "c8p8r7FHctPe"
      },
      "source": [
        "1. Get the `min, max, mean, and median` of `weekly_sales` for each store type using `.groupby()` and `.agg()`. Store this as `sales_stats`. Make sure to use numpy functions!"
      ]
    },
    {
      "cell_type": "code",
      "execution_count": null,
      "metadata": {
        "colab": {
          "base_uri": "https://localhost:8080/"
        },
        "id": "gtagB-iGcrLj",
        "outputId": "e7677a25-062d-4663-c990-b1861e33630c"
      },
      "outputs": [
        {
          "name": "stdout",
          "output_type": "stream",
          "text": [
            "        amin       amax    median\n",
            "type                             \n",
            "A    -1098.0  293966.05  11943.92\n",
            "B     -798.0  232558.51  13336.08\n"
          ]
        }
      ],
      "source": [
        "sales_stats = sales.groupby(\"type\")[\"weekly_sales\"].agg([np.min, np.max, np.median])\n",
        "print(sales_stats)"
      ]
    },
    {
      "cell_type": "markdown",
      "metadata": {
        "id": "RV82567HeA72"
      },
      "source": [
        "2. Get the `min, max, mean, and median `of `unemployment` and `fuel_price_usd_per_l` for each store type. Store this as `unemp_fuel_stats`."
      ]
    },
    {
      "cell_type": "code",
      "execution_count": null,
      "metadata": {
        "colab": {
          "base_uri": "https://localhost:8080/",
          "height": 174
        },
        "id": "maJeTnG6d2DW",
        "outputId": "b36d12c7-af1e-426d-dd1f-be058ad3f125"
      },
      "outputs": [
        {
          "data": {
            "text/html": [
              "\n",
              "  <div id=\"df-54fdb2a7-7dd3-46bb-8ddd-e96b68780902\">\n",
              "    <div class=\"colab-df-container\">\n",
              "      <div>\n",
              "<style scoped>\n",
              "    .dataframe tbody tr th:only-of-type {\n",
              "        vertical-align: middle;\n",
              "    }\n",
              "\n",
              "    .dataframe tbody tr th {\n",
              "        vertical-align: top;\n",
              "    }\n",
              "\n",
              "    .dataframe thead tr th {\n",
              "        text-align: left;\n",
              "    }\n",
              "\n",
              "    .dataframe thead tr:last-of-type th {\n",
              "        text-align: right;\n",
              "    }\n",
              "</style>\n",
              "<table border=\"1\" class=\"dataframe\">\n",
              "  <thead>\n",
              "    <tr>\n",
              "      <th></th>\n",
              "      <th colspan=\"4\" halign=\"left\">unemployment</th>\n",
              "      <th colspan=\"4\" halign=\"left\">fuel_price_usd_per_l</th>\n",
              "    </tr>\n",
              "    <tr>\n",
              "      <th></th>\n",
              "      <th>amin</th>\n",
              "      <th>amax</th>\n",
              "      <th>median</th>\n",
              "      <th>mean</th>\n",
              "      <th>amin</th>\n",
              "      <th>amax</th>\n",
              "      <th>median</th>\n",
              "      <th>mean</th>\n",
              "    </tr>\n",
              "    <tr>\n",
              "      <th>type</th>\n",
              "      <th></th>\n",
              "      <th></th>\n",
              "      <th></th>\n",
              "      <th></th>\n",
              "      <th></th>\n",
              "      <th></th>\n",
              "      <th></th>\n",
              "      <th></th>\n",
              "    </tr>\n",
              "  </thead>\n",
              "  <tbody>\n",
              "    <tr>\n",
              "      <th>A</th>\n",
              "      <td>3.879</td>\n",
              "      <td>8.992</td>\n",
              "      <td>8.067</td>\n",
              "      <td>7.972611</td>\n",
              "      <td>0.664129</td>\n",
              "      <td>1.107410</td>\n",
              "      <td>0.735455</td>\n",
              "      <td>0.744619</td>\n",
              "    </tr>\n",
              "    <tr>\n",
              "      <th>B</th>\n",
              "      <td>7.170</td>\n",
              "      <td>9.765</td>\n",
              "      <td>9.199</td>\n",
              "      <td>9.279323</td>\n",
              "      <td>0.760023</td>\n",
              "      <td>1.107674</td>\n",
              "      <td>0.803348</td>\n",
              "      <td>0.805858</td>\n",
              "    </tr>\n",
              "  </tbody>\n",
              "</table>\n",
              "</div>\n",
              "      <button class=\"colab-df-convert\" onclick=\"convertToInteractive('df-54fdb2a7-7dd3-46bb-8ddd-e96b68780902')\"\n",
              "              title=\"Convert this dataframe to an interactive table.\"\n",
              "              style=\"display:none;\">\n",
              "        \n",
              "  <svg xmlns=\"http://www.w3.org/2000/svg\" height=\"24px\"viewBox=\"0 0 24 24\"\n",
              "       width=\"24px\">\n",
              "    <path d=\"M0 0h24v24H0V0z\" fill=\"none\"/>\n",
              "    <path d=\"M18.56 5.44l.94 2.06.94-2.06 2.06-.94-2.06-.94-.94-2.06-.94 2.06-2.06.94zm-11 1L8.5 8.5l.94-2.06 2.06-.94-2.06-.94L8.5 2.5l-.94 2.06-2.06.94zm10 10l.94 2.06.94-2.06 2.06-.94-2.06-.94-.94-2.06-.94 2.06-2.06.94z\"/><path d=\"M17.41 7.96l-1.37-1.37c-.4-.4-.92-.59-1.43-.59-.52 0-1.04.2-1.43.59L10.3 9.45l-7.72 7.72c-.78.78-.78 2.05 0 2.83L4 21.41c.39.39.9.59 1.41.59.51 0 1.02-.2 1.41-.59l7.78-7.78 2.81-2.81c.8-.78.8-2.07 0-2.86zM5.41 20L4 18.59l7.72-7.72 1.47 1.35L5.41 20z\"/>\n",
              "  </svg>\n",
              "      </button>\n",
              "      \n",
              "  <style>\n",
              "    .colab-df-container {\n",
              "      display:flex;\n",
              "      flex-wrap:wrap;\n",
              "      gap: 12px;\n",
              "    }\n",
              "\n",
              "    .colab-df-convert {\n",
              "      background-color: #E8F0FE;\n",
              "      border: none;\n",
              "      border-radius: 50%;\n",
              "      cursor: pointer;\n",
              "      display: none;\n",
              "      fill: #1967D2;\n",
              "      height: 32px;\n",
              "      padding: 0 0 0 0;\n",
              "      width: 32px;\n",
              "    }\n",
              "\n",
              "    .colab-df-convert:hover {\n",
              "      background-color: #E2EBFA;\n",
              "      box-shadow: 0px 1px 2px rgba(60, 64, 67, 0.3), 0px 1px 3px 1px rgba(60, 64, 67, 0.15);\n",
              "      fill: #174EA6;\n",
              "    }\n",
              "\n",
              "    [theme=dark] .colab-df-convert {\n",
              "      background-color: #3B4455;\n",
              "      fill: #D2E3FC;\n",
              "    }\n",
              "\n",
              "    [theme=dark] .colab-df-convert:hover {\n",
              "      background-color: #434B5C;\n",
              "      box-shadow: 0px 1px 3px 1px rgba(0, 0, 0, 0.15);\n",
              "      filter: drop-shadow(0px 1px 2px rgba(0, 0, 0, 0.3));\n",
              "      fill: #FFFFFF;\n",
              "    }\n",
              "  </style>\n",
              "\n",
              "      <script>\n",
              "        const buttonEl =\n",
              "          document.querySelector('#df-54fdb2a7-7dd3-46bb-8ddd-e96b68780902 button.colab-df-convert');\n",
              "        buttonEl.style.display =\n",
              "          google.colab.kernel.accessAllowed ? 'block' : 'none';\n",
              "\n",
              "        async function convertToInteractive(key) {\n",
              "          const element = document.querySelector('#df-54fdb2a7-7dd3-46bb-8ddd-e96b68780902');\n",
              "          const dataTable =\n",
              "            await google.colab.kernel.invokeFunction('convertToInteractive',\n",
              "                                                     [key], {});\n",
              "          if (!dataTable) return;\n",
              "\n",
              "          const docLinkHtml = 'Like what you see? Visit the ' +\n",
              "            '<a target=\"_blank\" href=https://colab.research.google.com/notebooks/data_table.ipynb>data table notebook</a>'\n",
              "            + ' to learn more about interactive tables.';\n",
              "          element.innerHTML = '';\n",
              "          dataTable['output_type'] = 'display_data';\n",
              "          await google.colab.output.renderOutput(dataTable, element);\n",
              "          const docLink = document.createElement('div');\n",
              "          docLink.innerHTML = docLinkHtml;\n",
              "          element.appendChild(docLink);\n",
              "        }\n",
              "      </script>\n",
              "    </div>\n",
              "  </div>\n",
              "  "
            ],
            "text/plain": [
              "     unemployment                ... fuel_price_usd_per_l                    \n",
              "             amin   amax median  ...                 amax    median      mean\n",
              "type                             ...                                         \n",
              "A           3.879  8.992  8.067  ...             1.107410  0.735455  0.744619\n",
              "B           7.170  9.765  9.199  ...             1.107674  0.803348  0.805858\n",
              "\n",
              "[2 rows x 8 columns]"
            ]
          },
          "execution_count": 85,
          "metadata": {},
          "output_type": "execute_result"
        }
      ],
      "source": [
        "unemp_fuel_stats = sales.groupby(\"type\")[[\"unemployment\", \"fuel_price_usd_per_l\"]].agg([np.min, np.max, np.median, np.mean])\n",
        "unemp_fuel_stats"
      ]
    },
    {
      "cell_type": "markdown",
      "metadata": {
        "id": "sX-Ufb7Ie3Nr"
      },
      "source": [
        "## Pivot tables"
      ]
    },
    {
      "cell_type": "markdown",
      "metadata": {
        "id": "v3m2-ugI8m3f"
      },
      "source": [
        "### Pivoting on one variable\n",
        "Pivot tables are the standard way of aggregating data in spreadsheets. In pandas, pivot tables are essentially just another way of performing grouped calculations. That is, the `.pivot_table()` method is just an alternative to `.groupby()`.\n",
        "\n",
        "In this exercise, you'll perform calculations using `.pivot_table()` to replicate the calculations you performed in the last lesson using `.groupby()`."
      ]
    },
    {
      "cell_type": "markdown",
      "metadata": {
        "id": "vWpyUUtR8yaa"
      },
      "source": [
        "1. Get the mean `weekly_sales` by `type` using `.pivot_table()` and store as `mean_sales_by_type`."
      ]
    },
    {
      "cell_type": "code",
      "execution_count": null,
      "metadata": {
        "colab": {
          "base_uri": "https://localhost:8080/"
        },
        "id": "k704kQ3VejyL",
        "outputId": "2af63b1d-ff12-4419-cd33-b23032196b15"
      },
      "outputs": [
        {
          "name": "stdout",
          "output_type": "stream",
          "text": [
            "      weekly_sales\n",
            "type              \n",
            "A     23674.667242\n",
            "B     25696.678370\n"
          ]
        }
      ],
      "source": [
        "# Pivot for mean weekly_sales for each store type\n",
        "mean_sales_by_type = sales.pivot_table(values=\"weekly_sales\", index=\"type\")\n",
        "print(mean_sales_by_type)"
      ]
    },
    {
      "cell_type": "markdown",
      "metadata": {
        "id": "6oBYB8pT9OOo"
      },
      "source": [
        "2. Get the `mean` and `median` (using NumPy functions) of `weekly_sales` by `type` using `.pivot_table()` and store as `mean_med_sales_by_type`."
      ]
    },
    {
      "cell_type": "code",
      "execution_count": null,
      "metadata": {
        "colab": {
          "base_uri": "https://localhost:8080/"
        },
        "id": "uBwH_Bn19Krv",
        "outputId": "a0003ca6-1ce3-4f8b-8b00-5a5c47d4a78f"
      },
      "outputs": [
        {
          "name": "stdout",
          "output_type": "stream",
          "text": [
            "              mean       median\n",
            "      weekly_sales weekly_sales\n",
            "type                           \n",
            "A     23674.667242     11943.92\n",
            "B     25696.678370     13336.08\n"
          ]
        }
      ],
      "source": [
        "import numpy as np\n",
        "mean_med_sales_by_type = sales.pivot_table(values=\"weekly_sales\", index=\"type\", aggfunc=[np.mean, np.median])\n",
        "\n",
        "print(mean_med_sales_by_type)"
      ]
    },
    {
      "cell_type": "markdown",
      "metadata": {
        "id": "ZnOx-yL_-QPz"
      },
      "source": [
        "3. Get the mean of `weekly_sales` by `type` and `is_holiday` using `.pivot_table()` and store as `mean_sales_by_type_holiday`."
      ]
    },
    {
      "cell_type": "code",
      "execution_count": null,
      "metadata": {
        "colab": {
          "base_uri": "https://localhost:8080/"
        },
        "id": "7yHWdUbz-DKP",
        "outputId": "27a238b4-0228-4fc3-a255-770605caa5f8"
      },
      "outputs": [
        {
          "name": "stdout",
          "output_type": "stream",
          "text": [
            "is_holiday         False       True\n",
            "type                               \n",
            "A           23768.583523  590.04525\n",
            "B           25751.980533  810.70500\n"
          ]
        }
      ],
      "source": [
        "mean_sales_by_type_holiday = sales.pivot_table(values=\"weekly_sales\", index=\"type\", columns=\"is_holiday\")\n",
        "\n",
        "print(mean_sales_by_type_holiday)"
      ]
    },
    {
      "cell_type": "markdown",
      "metadata": {
        "id": "6j0Akoi9_Rse"
      },
      "source": [
        "### Fill in missing values and sum values with pivot tables\n",
        "The `.pivot_table()` method has several useful arguments, including `fill_value` and `margins`.\n",
        "\n",
        "* `fill_value` replaces missing values with a real value (known as imputation). What to replace missing values with is a topic big enough to have its own course (Dealing with Missing Data in Python), but the simplest thing to do is to substitute a dummy value.\n",
        "\n",
        "* `margins` is a shortcut for when you pivoted by two variables, but also wanted to pivot by each of those variables separately: it gives the row and column totals of the pivot table contents."
      ]
    },
    {
      "cell_type": "markdown",
      "metadata": {
        "id": "8l_7ERJ7AW_M"
      },
      "source": [
        "1. Print the `mean weekly_sales` by `department` and `type`, filling in any missing values with 0."
      ]
    },
    {
      "cell_type": "code",
      "execution_count": null,
      "metadata": {
        "colab": {
          "base_uri": "https://localhost:8080/",
          "height": 207
        },
        "id": "5G4AMpjz-5Md",
        "outputId": "5c18387c-41cb-4049-ce7c-04f50c93e35c"
      },
      "outputs": [
        {
          "data": {
            "text/html": [
              "\n",
              "  <div id=\"df-d4e59fb6-7cae-4578-9bd3-65527c4e48c0\">\n",
              "    <div class=\"colab-df-container\">\n",
              "      <div>\n",
              "<style scoped>\n",
              "    .dataframe tbody tr th:only-of-type {\n",
              "        vertical-align: middle;\n",
              "    }\n",
              "\n",
              "    .dataframe tbody tr th {\n",
              "        vertical-align: top;\n",
              "    }\n",
              "\n",
              "    .dataframe thead th {\n",
              "        text-align: right;\n",
              "    }\n",
              "</style>\n",
              "<table border=\"1\" class=\"dataframe\">\n",
              "  <thead>\n",
              "    <tr style=\"text-align: right;\">\n",
              "      <th>department</th>\n",
              "      <th>1</th>\n",
              "      <th>2</th>\n",
              "      <th>3</th>\n",
              "      <th>4</th>\n",
              "      <th>5</th>\n",
              "      <th>6</th>\n",
              "      <th>7</th>\n",
              "      <th>8</th>\n",
              "      <th>9</th>\n",
              "      <th>10</th>\n",
              "      <th>11</th>\n",
              "      <th>12</th>\n",
              "      <th>13</th>\n",
              "      <th>14</th>\n",
              "      <th>16</th>\n",
              "      <th>17</th>\n",
              "      <th>18</th>\n",
              "      <th>19</th>\n",
              "      <th>20</th>\n",
              "      <th>21</th>\n",
              "      <th>22</th>\n",
              "      <th>23</th>\n",
              "      <th>24</th>\n",
              "      <th>25</th>\n",
              "      <th>26</th>\n",
              "      <th>27</th>\n",
              "      <th>28</th>\n",
              "      <th>29</th>\n",
              "      <th>30</th>\n",
              "      <th>31</th>\n",
              "      <th>32</th>\n",
              "      <th>33</th>\n",
              "      <th>34</th>\n",
              "      <th>35</th>\n",
              "      <th>36</th>\n",
              "      <th>37</th>\n",
              "      <th>38</th>\n",
              "      <th>39</th>\n",
              "      <th>40</th>\n",
              "      <th>41</th>\n",
              "      <th>42</th>\n",
              "      <th>43</th>\n",
              "      <th>44</th>\n",
              "      <th>45</th>\n",
              "      <th>46</th>\n",
              "      <th>47</th>\n",
              "      <th>48</th>\n",
              "      <th>49</th>\n",
              "      <th>50</th>\n",
              "      <th>51</th>\n",
              "      <th>52</th>\n",
              "      <th>54</th>\n",
              "      <th>55</th>\n",
              "      <th>56</th>\n",
              "      <th>58</th>\n",
              "      <th>59</th>\n",
              "      <th>60</th>\n",
              "      <th>67</th>\n",
              "      <th>71</th>\n",
              "      <th>72</th>\n",
              "      <th>74</th>\n",
              "      <th>77</th>\n",
              "      <th>78</th>\n",
              "      <th>79</th>\n",
              "      <th>80</th>\n",
              "      <th>81</th>\n",
              "      <th>82</th>\n",
              "      <th>83</th>\n",
              "      <th>85</th>\n",
              "      <th>87</th>\n",
              "      <th>90</th>\n",
              "      <th>91</th>\n",
              "      <th>92</th>\n",
              "      <th>93</th>\n",
              "      <th>94</th>\n",
              "      <th>95</th>\n",
              "      <th>96</th>\n",
              "      <th>97</th>\n",
              "      <th>98</th>\n",
              "      <th>99</th>\n",
              "    </tr>\n",
              "    <tr>\n",
              "      <th>type</th>\n",
              "      <th></th>\n",
              "      <th></th>\n",
              "      <th></th>\n",
              "      <th></th>\n",
              "      <th></th>\n",
              "      <th></th>\n",
              "      <th></th>\n",
              "      <th></th>\n",
              "      <th></th>\n",
              "      <th></th>\n",
              "      <th></th>\n",
              "      <th></th>\n",
              "      <th></th>\n",
              "      <th></th>\n",
              "      <th></th>\n",
              "      <th></th>\n",
              "      <th></th>\n",
              "      <th></th>\n",
              "      <th></th>\n",
              "      <th></th>\n",
              "      <th></th>\n",
              "      <th></th>\n",
              "      <th></th>\n",
              "      <th></th>\n",
              "      <th></th>\n",
              "      <th></th>\n",
              "      <th></th>\n",
              "      <th></th>\n",
              "      <th></th>\n",
              "      <th></th>\n",
              "      <th></th>\n",
              "      <th></th>\n",
              "      <th></th>\n",
              "      <th></th>\n",
              "      <th></th>\n",
              "      <th></th>\n",
              "      <th></th>\n",
              "      <th></th>\n",
              "      <th></th>\n",
              "      <th></th>\n",
              "      <th></th>\n",
              "      <th></th>\n",
              "      <th></th>\n",
              "      <th></th>\n",
              "      <th></th>\n",
              "      <th></th>\n",
              "      <th></th>\n",
              "      <th></th>\n",
              "      <th></th>\n",
              "      <th></th>\n",
              "      <th></th>\n",
              "      <th></th>\n",
              "      <th></th>\n",
              "      <th></th>\n",
              "      <th></th>\n",
              "      <th></th>\n",
              "      <th></th>\n",
              "      <th></th>\n",
              "      <th></th>\n",
              "      <th></th>\n",
              "      <th></th>\n",
              "      <th></th>\n",
              "      <th></th>\n",
              "      <th></th>\n",
              "      <th></th>\n",
              "      <th></th>\n",
              "      <th></th>\n",
              "      <th></th>\n",
              "      <th></th>\n",
              "      <th></th>\n",
              "      <th></th>\n",
              "      <th></th>\n",
              "      <th></th>\n",
              "      <th></th>\n",
              "      <th></th>\n",
              "      <th></th>\n",
              "      <th></th>\n",
              "      <th></th>\n",
              "      <th></th>\n",
              "      <th></th>\n",
              "    </tr>\n",
              "  </thead>\n",
              "  <tbody>\n",
              "    <tr>\n",
              "      <th>A</th>\n",
              "      <td>30961.725379</td>\n",
              "      <td>67600.158788</td>\n",
              "      <td>17160.002955</td>\n",
              "      <td>44285.399091</td>\n",
              "      <td>34821.011364</td>\n",
              "      <td>7136.292652</td>\n",
              "      <td>38454.336818</td>\n",
              "      <td>48583.475303</td>\n",
              "      <td>30120.449924</td>\n",
              "      <td>30930.456364</td>\n",
              "      <td>23028.312727</td>\n",
              "      <td>6786.840606</td>\n",
              "      <td>51398.168561</td>\n",
              "      <td>22457.695303</td>\n",
              "      <td>25202.751894</td>\n",
              "      <td>16167.586136</td>\n",
              "      <td>12201.771212</td>\n",
              "      <td>1560.951719</td>\n",
              "      <td>8312.070227</td>\n",
              "      <td>9324.387197</td>\n",
              "      <td>14225.324167</td>\n",
              "      <td>29350.745076</td>\n",
              "      <td>8204.587576</td>\n",
              "      <td>13382.164242</td>\n",
              "      <td>11254.311212</td>\n",
              "      <td>2079.160455</td>\n",
              "      <td>968.247348</td>\n",
              "      <td>6859.108485</td>\n",
              "      <td>5403.619773</td>\n",
              "      <td>3221.001818</td>\n",
              "      <td>9599.303409</td>\n",
              "      <td>8588.995303</td>\n",
              "      <td>19148.733712</td>\n",
              "      <td>3504.714015</td>\n",
              "      <td>2455.818409</td>\n",
              "      <td>3628.019722</td>\n",
              "      <td>84796.323939</td>\n",
              "      <td>5.198571</td>\n",
              "      <td>70695.733636</td>\n",
              "      <td>2218.515909</td>\n",
              "      <td>7831.950530</td>\n",
              "      <td>0.66</td>\n",
              "      <td>5984.462576</td>\n",
              "      <td>19.120877</td>\n",
              "      <td>29991.069924</td>\n",
              "      <td>10.484902</td>\n",
              "      <td>1020.982949</td>\n",
              "      <td>11008.071742</td>\n",
              "      <td>2325.230167</td>\n",
              "      <td>23.057527</td>\n",
              "      <td>2919.754773</td>\n",
              "      <td>221.288030</td>\n",
              "      <td>15368.005985</td>\n",
              "      <td>5529.171136</td>\n",
              "      <td>6510.454621</td>\n",
              "      <td>1358.490530</td>\n",
              "      <td>461.176591</td>\n",
              "      <td>12064.737500</td>\n",
              "      <td>7486.394318</td>\n",
              "      <td>72767.860227</td>\n",
              "      <td>22097.090152</td>\n",
              "      <td>370.651316</td>\n",
              "      <td>8.893878</td>\n",
              "      <td>40643.113106</td>\n",
              "      <td>22425.941667</td>\n",
              "      <td>28417.831061</td>\n",
              "      <td>21698.068561</td>\n",
              "      <td>7020.960985</td>\n",
              "      <td>3593.235379</td>\n",
              "      <td>22549.672045</td>\n",
              "      <td>85776.905909</td>\n",
              "      <td>70423.165227</td>\n",
              "      <td>139722.204773</td>\n",
              "      <td>53413.633939</td>\n",
              "      <td>60081.155303</td>\n",
              "      <td>123933.787121</td>\n",
              "      <td>21367.042857</td>\n",
              "      <td>28471.266970</td>\n",
              "      <td>12875.423182</td>\n",
              "      <td>379.123659</td>\n",
              "    </tr>\n",
              "    <tr>\n",
              "      <th>B</th>\n",
              "      <td>44050.626667</td>\n",
              "      <td>112958.526667</td>\n",
              "      <td>30580.655000</td>\n",
              "      <td>51219.654167</td>\n",
              "      <td>63236.875000</td>\n",
              "      <td>10717.297500</td>\n",
              "      <td>52909.653333</td>\n",
              "      <td>90733.753333</td>\n",
              "      <td>66679.301667</td>\n",
              "      <td>48595.126667</td>\n",
              "      <td>35488.429167</td>\n",
              "      <td>9656.520000</td>\n",
              "      <td>67213.587500</td>\n",
              "      <td>40400.020000</td>\n",
              "      <td>29558.182500</td>\n",
              "      <td>27675.351667</td>\n",
              "      <td>17361.347500</td>\n",
              "      <td>3365.895000</td>\n",
              "      <td>16191.810000</td>\n",
              "      <td>10368.968333</td>\n",
              "      <td>26044.797500</td>\n",
              "      <td>63960.273333</td>\n",
              "      <td>15376.829167</td>\n",
              "      <td>20619.285000</td>\n",
              "      <td>17535.457500</td>\n",
              "      <td>4553.720833</td>\n",
              "      <td>1422.762500</td>\n",
              "      <td>14999.843333</td>\n",
              "      <td>12442.080000</td>\n",
              "      <td>6151.995000</td>\n",
              "      <td>21047.399167</td>\n",
              "      <td>14912.160000</td>\n",
              "      <td>44931.189167</td>\n",
              "      <td>7560.045000</td>\n",
              "      <td>3827.720000</td>\n",
              "      <td>4303.381667</td>\n",
              "      <td>85665.308333</td>\n",
              "      <td>0.000000</td>\n",
              "      <td>104830.629167</td>\n",
              "      <td>7514.514167</td>\n",
              "      <td>11280.798333</td>\n",
              "      <td>0.00</td>\n",
              "      <td>9091.141667</td>\n",
              "      <td>41.751667</td>\n",
              "      <td>53406.163333</td>\n",
              "      <td>-71.916667</td>\n",
              "      <td>1965.108333</td>\n",
              "      <td>19313.554167</td>\n",
              "      <td>3991.500000</td>\n",
              "      <td>38.661667</td>\n",
              "      <td>5360.840833</td>\n",
              "      <td>551.016667</td>\n",
              "      <td>20420.726667</td>\n",
              "      <td>992.310000</td>\n",
              "      <td>5156.833333</td>\n",
              "      <td>2536.538333</td>\n",
              "      <td>577.850000</td>\n",
              "      <td>13327.714167</td>\n",
              "      <td>15945.855000</td>\n",
              "      <td>145237.726667</td>\n",
              "      <td>44480.321667</td>\n",
              "      <td>1590.000000</td>\n",
              "      <td>1.714286</td>\n",
              "      <td>39802.038333</td>\n",
              "      <td>116.680000</td>\n",
              "      <td>11084.591667</td>\n",
              "      <td>21943.495833</td>\n",
              "      <td>327.011667</td>\n",
              "      <td>2887.316667</td>\n",
              "      <td>21829.132500</td>\n",
              "      <td>14780.210000</td>\n",
              "      <td>13199.602500</td>\n",
              "      <td>50859.278333</td>\n",
              "      <td>1466.274167</td>\n",
              "      <td>161.445833</td>\n",
              "      <td>77082.102500</td>\n",
              "      <td>9528.538333</td>\n",
              "      <td>5828.873333</td>\n",
              "      <td>217.428333</td>\n",
              "      <td>0.000000</td>\n",
              "    </tr>\n",
              "  </tbody>\n",
              "</table>\n",
              "</div>\n",
              "      <button class=\"colab-df-convert\" onclick=\"convertToInteractive('df-d4e59fb6-7cae-4578-9bd3-65527c4e48c0')\"\n",
              "              title=\"Convert this dataframe to an interactive table.\"\n",
              "              style=\"display:none;\">\n",
              "        \n",
              "  <svg xmlns=\"http://www.w3.org/2000/svg\" height=\"24px\"viewBox=\"0 0 24 24\"\n",
              "       width=\"24px\">\n",
              "    <path d=\"M0 0h24v24H0V0z\" fill=\"none\"/>\n",
              "    <path d=\"M18.56 5.44l.94 2.06.94-2.06 2.06-.94-2.06-.94-.94-2.06-.94 2.06-2.06.94zm-11 1L8.5 8.5l.94-2.06 2.06-.94-2.06-.94L8.5 2.5l-.94 2.06-2.06.94zm10 10l.94 2.06.94-2.06 2.06-.94-2.06-.94-.94-2.06-.94 2.06-2.06.94z\"/><path d=\"M17.41 7.96l-1.37-1.37c-.4-.4-.92-.59-1.43-.59-.52 0-1.04.2-1.43.59L10.3 9.45l-7.72 7.72c-.78.78-.78 2.05 0 2.83L4 21.41c.39.39.9.59 1.41.59.51 0 1.02-.2 1.41-.59l7.78-7.78 2.81-2.81c.8-.78.8-2.07 0-2.86zM5.41 20L4 18.59l7.72-7.72 1.47 1.35L5.41 20z\"/>\n",
              "  </svg>\n",
              "      </button>\n",
              "      \n",
              "  <style>\n",
              "    .colab-df-container {\n",
              "      display:flex;\n",
              "      flex-wrap:wrap;\n",
              "      gap: 12px;\n",
              "    }\n",
              "\n",
              "    .colab-df-convert {\n",
              "      background-color: #E8F0FE;\n",
              "      border: none;\n",
              "      border-radius: 50%;\n",
              "      cursor: pointer;\n",
              "      display: none;\n",
              "      fill: #1967D2;\n",
              "      height: 32px;\n",
              "      padding: 0 0 0 0;\n",
              "      width: 32px;\n",
              "    }\n",
              "\n",
              "    .colab-df-convert:hover {\n",
              "      background-color: #E2EBFA;\n",
              "      box-shadow: 0px 1px 2px rgba(60, 64, 67, 0.3), 0px 1px 3px 1px rgba(60, 64, 67, 0.15);\n",
              "      fill: #174EA6;\n",
              "    }\n",
              "\n",
              "    [theme=dark] .colab-df-convert {\n",
              "      background-color: #3B4455;\n",
              "      fill: #D2E3FC;\n",
              "    }\n",
              "\n",
              "    [theme=dark] .colab-df-convert:hover {\n",
              "      background-color: #434B5C;\n",
              "      box-shadow: 0px 1px 3px 1px rgba(0, 0, 0, 0.15);\n",
              "      filter: drop-shadow(0px 1px 2px rgba(0, 0, 0, 0.3));\n",
              "      fill: #FFFFFF;\n",
              "    }\n",
              "  </style>\n",
              "\n",
              "      <script>\n",
              "        const buttonEl =\n",
              "          document.querySelector('#df-d4e59fb6-7cae-4578-9bd3-65527c4e48c0 button.colab-df-convert');\n",
              "        buttonEl.style.display =\n",
              "          google.colab.kernel.accessAllowed ? 'block' : 'none';\n",
              "\n",
              "        async function convertToInteractive(key) {\n",
              "          const element = document.querySelector('#df-d4e59fb6-7cae-4578-9bd3-65527c4e48c0');\n",
              "          const dataTable =\n",
              "            await google.colab.kernel.invokeFunction('convertToInteractive',\n",
              "                                                     [key], {});\n",
              "          if (!dataTable) return;\n",
              "\n",
              "          const docLinkHtml = 'Like what you see? Visit the ' +\n",
              "            '<a target=\"_blank\" href=https://colab.research.google.com/notebooks/data_table.ipynb>data table notebook</a>'\n",
              "            + ' to learn more about interactive tables.';\n",
              "          element.innerHTML = '';\n",
              "          dataTable['output_type'] = 'display_data';\n",
              "          await google.colab.output.renderOutput(dataTable, element);\n",
              "          const docLink = document.createElement('div');\n",
              "          docLink.innerHTML = docLinkHtml;\n",
              "          element.appendChild(docLink);\n",
              "        }\n",
              "      </script>\n",
              "    </div>\n",
              "  </div>\n",
              "  "
            ],
            "text/plain": [
              "department            1              2   ...            98          99\n",
              "type                                     ...                          \n",
              "A           30961.725379   67600.158788  ...  12875.423182  379.123659\n",
              "B           44050.626667  112958.526667  ...    217.428333    0.000000\n",
              "\n",
              "[2 rows x 80 columns]"
            ]
          },
          "execution_count": 93,
          "metadata": {},
          "output_type": "execute_result"
        }
      ],
      "source": [
        "# Print mean weekly_sales by department and type; fill missing values with 0\n",
        "sales.pivot_table(values=\"weekly_sales\", index=\"type\", columns=\"department\", fill_value=0)"
      ]
    },
    {
      "cell_type": "markdown",
      "metadata": {
        "id": "eIdT4hFhBg5r"
      },
      "source": [
        "2. Print the `mean weekly_sales` by `department` and `type`, filling in any missing values with 0 and `summing all rows and columns`."
      ]
    },
    {
      "cell_type": "code",
      "execution_count": null,
      "metadata": {
        "colab": {
          "base_uri": "https://localhost:8080/",
          "height": 454
        },
        "id": "UXEStKJtA9gn",
        "outputId": "b2735f57-fff8-4482-f974-1a4aa92b6c6e"
      },
      "outputs": [
        {
          "data": {
            "text/html": [
              "\n",
              "  <div id=\"df-b6a73a21-1201-4ef2-a2ee-714e402d70f4\">\n",
              "    <div class=\"colab-df-container\">\n",
              "      <div>\n",
              "<style scoped>\n",
              "    .dataframe tbody tr th:only-of-type {\n",
              "        vertical-align: middle;\n",
              "    }\n",
              "\n",
              "    .dataframe tbody tr th {\n",
              "        vertical-align: top;\n",
              "    }\n",
              "\n",
              "    .dataframe thead th {\n",
              "        text-align: right;\n",
              "    }\n",
              "</style>\n",
              "<table border=\"1\" class=\"dataframe\">\n",
              "  <thead>\n",
              "    <tr style=\"text-align: right;\">\n",
              "      <th>type</th>\n",
              "      <th>A</th>\n",
              "      <th>B</th>\n",
              "      <th>All</th>\n",
              "    </tr>\n",
              "    <tr>\n",
              "      <th>department</th>\n",
              "      <th></th>\n",
              "      <th></th>\n",
              "      <th></th>\n",
              "    </tr>\n",
              "  </thead>\n",
              "  <tbody>\n",
              "    <tr>\n",
              "      <th>1</th>\n",
              "      <td>30961.725379</td>\n",
              "      <td>44050.626667</td>\n",
              "      <td>32052.467153</td>\n",
              "    </tr>\n",
              "    <tr>\n",
              "      <th>2</th>\n",
              "      <td>67600.158788</td>\n",
              "      <td>112958.526667</td>\n",
              "      <td>71380.022778</td>\n",
              "    </tr>\n",
              "    <tr>\n",
              "      <th>3</th>\n",
              "      <td>17160.002955</td>\n",
              "      <td>30580.655000</td>\n",
              "      <td>18278.390625</td>\n",
              "    </tr>\n",
              "    <tr>\n",
              "      <th>4</th>\n",
              "      <td>44285.399091</td>\n",
              "      <td>51219.654167</td>\n",
              "      <td>44863.253681</td>\n",
              "    </tr>\n",
              "    <tr>\n",
              "      <th>5</th>\n",
              "      <td>34821.011364</td>\n",
              "      <td>63236.875000</td>\n",
              "      <td>37189.000000</td>\n",
              "    </tr>\n",
              "    <tr>\n",
              "      <th>...</th>\n",
              "      <td>...</td>\n",
              "      <td>...</td>\n",
              "      <td>...</td>\n",
              "    </tr>\n",
              "    <tr>\n",
              "      <th>96</th>\n",
              "      <td>21367.042857</td>\n",
              "      <td>9528.538333</td>\n",
              "      <td>20337.607681</td>\n",
              "    </tr>\n",
              "    <tr>\n",
              "      <th>97</th>\n",
              "      <td>28471.266970</td>\n",
              "      <td>5828.873333</td>\n",
              "      <td>26584.400833</td>\n",
              "    </tr>\n",
              "    <tr>\n",
              "      <th>98</th>\n",
              "      <td>12875.423182</td>\n",
              "      <td>217.428333</td>\n",
              "      <td>11820.590278</td>\n",
              "    </tr>\n",
              "    <tr>\n",
              "      <th>99</th>\n",
              "      <td>379.123659</td>\n",
              "      <td>0.000000</td>\n",
              "      <td>379.123659</td>\n",
              "    </tr>\n",
              "    <tr>\n",
              "      <th>All</th>\n",
              "      <td>23674.667242</td>\n",
              "      <td>25696.678370</td>\n",
              "      <td>23843.950149</td>\n",
              "    </tr>\n",
              "  </tbody>\n",
              "</table>\n",
              "<p>81 rows × 3 columns</p>\n",
              "</div>\n",
              "      <button class=\"colab-df-convert\" onclick=\"convertToInteractive('df-b6a73a21-1201-4ef2-a2ee-714e402d70f4')\"\n",
              "              title=\"Convert this dataframe to an interactive table.\"\n",
              "              style=\"display:none;\">\n",
              "        \n",
              "  <svg xmlns=\"http://www.w3.org/2000/svg\" height=\"24px\"viewBox=\"0 0 24 24\"\n",
              "       width=\"24px\">\n",
              "    <path d=\"M0 0h24v24H0V0z\" fill=\"none\"/>\n",
              "    <path d=\"M18.56 5.44l.94 2.06.94-2.06 2.06-.94-2.06-.94-.94-2.06-.94 2.06-2.06.94zm-11 1L8.5 8.5l.94-2.06 2.06-.94-2.06-.94L8.5 2.5l-.94 2.06-2.06.94zm10 10l.94 2.06.94-2.06 2.06-.94-2.06-.94-.94-2.06-.94 2.06-2.06.94z\"/><path d=\"M17.41 7.96l-1.37-1.37c-.4-.4-.92-.59-1.43-.59-.52 0-1.04.2-1.43.59L10.3 9.45l-7.72 7.72c-.78.78-.78 2.05 0 2.83L4 21.41c.39.39.9.59 1.41.59.51 0 1.02-.2 1.41-.59l7.78-7.78 2.81-2.81c.8-.78.8-2.07 0-2.86zM5.41 20L4 18.59l7.72-7.72 1.47 1.35L5.41 20z\"/>\n",
              "  </svg>\n",
              "      </button>\n",
              "      \n",
              "  <style>\n",
              "    .colab-df-container {\n",
              "      display:flex;\n",
              "      flex-wrap:wrap;\n",
              "      gap: 12px;\n",
              "    }\n",
              "\n",
              "    .colab-df-convert {\n",
              "      background-color: #E8F0FE;\n",
              "      border: none;\n",
              "      border-radius: 50%;\n",
              "      cursor: pointer;\n",
              "      display: none;\n",
              "      fill: #1967D2;\n",
              "      height: 32px;\n",
              "      padding: 0 0 0 0;\n",
              "      width: 32px;\n",
              "    }\n",
              "\n",
              "    .colab-df-convert:hover {\n",
              "      background-color: #E2EBFA;\n",
              "      box-shadow: 0px 1px 2px rgba(60, 64, 67, 0.3), 0px 1px 3px 1px rgba(60, 64, 67, 0.15);\n",
              "      fill: #174EA6;\n",
              "    }\n",
              "\n",
              "    [theme=dark] .colab-df-convert {\n",
              "      background-color: #3B4455;\n",
              "      fill: #D2E3FC;\n",
              "    }\n",
              "\n",
              "    [theme=dark] .colab-df-convert:hover {\n",
              "      background-color: #434B5C;\n",
              "      box-shadow: 0px 1px 3px 1px rgba(0, 0, 0, 0.15);\n",
              "      filter: drop-shadow(0px 1px 2px rgba(0, 0, 0, 0.3));\n",
              "      fill: #FFFFFF;\n",
              "    }\n",
              "  </style>\n",
              "\n",
              "      <script>\n",
              "        const buttonEl =\n",
              "          document.querySelector('#df-b6a73a21-1201-4ef2-a2ee-714e402d70f4 button.colab-df-convert');\n",
              "        buttonEl.style.display =\n",
              "          google.colab.kernel.accessAllowed ? 'block' : 'none';\n",
              "\n",
              "        async function convertToInteractive(key) {\n",
              "          const element = document.querySelector('#df-b6a73a21-1201-4ef2-a2ee-714e402d70f4');\n",
              "          const dataTable =\n",
              "            await google.colab.kernel.invokeFunction('convertToInteractive',\n",
              "                                                     [key], {});\n",
              "          if (!dataTable) return;\n",
              "\n",
              "          const docLinkHtml = 'Like what you see? Visit the ' +\n",
              "            '<a target=\"_blank\" href=https://colab.research.google.com/notebooks/data_table.ipynb>data table notebook</a>'\n",
              "            + ' to learn more about interactive tables.';\n",
              "          element.innerHTML = '';\n",
              "          dataTable['output_type'] = 'display_data';\n",
              "          await google.colab.output.renderOutput(dataTable, element);\n",
              "          const docLink = document.createElement('div');\n",
              "          docLink.innerHTML = docLinkHtml;\n",
              "          element.appendChild(docLink);\n",
              "        }\n",
              "      </script>\n",
              "    </div>\n",
              "  </div>\n",
              "  "
            ],
            "text/plain": [
              "type                   A              B           All\n",
              "department                                           \n",
              "1           30961.725379   44050.626667  32052.467153\n",
              "2           67600.158788  112958.526667  71380.022778\n",
              "3           17160.002955   30580.655000  18278.390625\n",
              "4           44285.399091   51219.654167  44863.253681\n",
              "5           34821.011364   63236.875000  37189.000000\n",
              "...                  ...            ...           ...\n",
              "96          21367.042857    9528.538333  20337.607681\n",
              "97          28471.266970    5828.873333  26584.400833\n",
              "98          12875.423182     217.428333  11820.590278\n",
              "99            379.123659       0.000000    379.123659\n",
              "All         23674.667242   25696.678370  23843.950149\n",
              "\n",
              "[81 rows x 3 columns]"
            ]
          },
          "execution_count": 95,
          "metadata": {},
          "output_type": "execute_result"
        }
      ],
      "source": [
        "# Print the mean weekly_sales by department and type; fill missing values with 0s; sum all rows and cols\n",
        "sales.pivot_table(values=\"weekly_sales\", index=\"department\", columns=\"type\", fill_value=0, margins=True)"
      ]
    },
    {
      "cell_type": "markdown",
      "metadata": {
        "id": "htufMikTFvCc"
      },
      "source": [
        "# Slicing and Indexing DataFrames "
      ]
    },
    {
      "cell_type": "markdown",
      "metadata": {
        "id": "bSZDKCOY-W81"
      },
      "source": [
        "## Setting and removing indexes\n",
        "pandas allows you to designate columns as an index. This enables cleaner code when taking subsets (as well as providing more efficient lookup under some circumstances).\n",
        "\n",
        "In this chapter, you'll be exploring `temperatures`, a DataFrame of average temperatures in cities around the world."
      ]
    },
    {
      "cell_type": "code",
      "execution_count": null,
      "metadata": {
        "colab": {
          "base_uri": "https://localhost:8080/",
          "height": 206
        },
        "id": "zpQeGnvc-mOX",
        "outputId": "b9325688-7e0e-4aff-aae2-a64d4ac09cc3"
      },
      "outputs": [
        {
          "data": {
            "text/html": [
              "\n",
              "  <div id=\"df-f8f84383-570e-445e-910d-ece60673cecc\">\n",
              "    <div class=\"colab-df-container\">\n",
              "      <div>\n",
              "<style scoped>\n",
              "    .dataframe tbody tr th:only-of-type {\n",
              "        vertical-align: middle;\n",
              "    }\n",
              "\n",
              "    .dataframe tbody tr th {\n",
              "        vertical-align: top;\n",
              "    }\n",
              "\n",
              "    .dataframe thead th {\n",
              "        text-align: right;\n",
              "    }\n",
              "</style>\n",
              "<table border=\"1\" class=\"dataframe\">\n",
              "  <thead>\n",
              "    <tr style=\"text-align: right;\">\n",
              "      <th></th>\n",
              "      <th>date</th>\n",
              "      <th>city</th>\n",
              "      <th>country</th>\n",
              "      <th>avg_temp_c</th>\n",
              "    </tr>\n",
              "  </thead>\n",
              "  <tbody>\n",
              "    <tr>\n",
              "      <th>0</th>\n",
              "      <td>2000-01-01</td>\n",
              "      <td>Abidjan</td>\n",
              "      <td>Côte D'Ivoire</td>\n",
              "      <td>27.293</td>\n",
              "    </tr>\n",
              "    <tr>\n",
              "      <th>1</th>\n",
              "      <td>2000-02-01</td>\n",
              "      <td>Abidjan</td>\n",
              "      <td>Côte D'Ivoire</td>\n",
              "      <td>27.685</td>\n",
              "    </tr>\n",
              "    <tr>\n",
              "      <th>2</th>\n",
              "      <td>2000-03-01</td>\n",
              "      <td>Abidjan</td>\n",
              "      <td>Côte D'Ivoire</td>\n",
              "      <td>29.061</td>\n",
              "    </tr>\n",
              "    <tr>\n",
              "      <th>3</th>\n",
              "      <td>2000-04-01</td>\n",
              "      <td>Abidjan</td>\n",
              "      <td>Côte D'Ivoire</td>\n",
              "      <td>28.162</td>\n",
              "    </tr>\n",
              "    <tr>\n",
              "      <th>4</th>\n",
              "      <td>2000-05-01</td>\n",
              "      <td>Abidjan</td>\n",
              "      <td>Côte D'Ivoire</td>\n",
              "      <td>27.547</td>\n",
              "    </tr>\n",
              "  </tbody>\n",
              "</table>\n",
              "</div>\n",
              "      <button class=\"colab-df-convert\" onclick=\"convertToInteractive('df-f8f84383-570e-445e-910d-ece60673cecc')\"\n",
              "              title=\"Convert this dataframe to an interactive table.\"\n",
              "              style=\"display:none;\">\n",
              "        \n",
              "  <svg xmlns=\"http://www.w3.org/2000/svg\" height=\"24px\"viewBox=\"0 0 24 24\"\n",
              "       width=\"24px\">\n",
              "    <path d=\"M0 0h24v24H0V0z\" fill=\"none\"/>\n",
              "    <path d=\"M18.56 5.44l.94 2.06.94-2.06 2.06-.94-2.06-.94-.94-2.06-.94 2.06-2.06.94zm-11 1L8.5 8.5l.94-2.06 2.06-.94-2.06-.94L8.5 2.5l-.94 2.06-2.06.94zm10 10l.94 2.06.94-2.06 2.06-.94-2.06-.94-.94-2.06-.94 2.06-2.06.94z\"/><path d=\"M17.41 7.96l-1.37-1.37c-.4-.4-.92-.59-1.43-.59-.52 0-1.04.2-1.43.59L10.3 9.45l-7.72 7.72c-.78.78-.78 2.05 0 2.83L4 21.41c.39.39.9.59 1.41.59.51 0 1.02-.2 1.41-.59l7.78-7.78 2.81-2.81c.8-.78.8-2.07 0-2.86zM5.41 20L4 18.59l7.72-7.72 1.47 1.35L5.41 20z\"/>\n",
              "  </svg>\n",
              "      </button>\n",
              "      \n",
              "  <style>\n",
              "    .colab-df-container {\n",
              "      display:flex;\n",
              "      flex-wrap:wrap;\n",
              "      gap: 12px;\n",
              "    }\n",
              "\n",
              "    .colab-df-convert {\n",
              "      background-color: #E8F0FE;\n",
              "      border: none;\n",
              "      border-radius: 50%;\n",
              "      cursor: pointer;\n",
              "      display: none;\n",
              "      fill: #1967D2;\n",
              "      height: 32px;\n",
              "      padding: 0 0 0 0;\n",
              "      width: 32px;\n",
              "    }\n",
              "\n",
              "    .colab-df-convert:hover {\n",
              "      background-color: #E2EBFA;\n",
              "      box-shadow: 0px 1px 2px rgba(60, 64, 67, 0.3), 0px 1px 3px 1px rgba(60, 64, 67, 0.15);\n",
              "      fill: #174EA6;\n",
              "    }\n",
              "\n",
              "    [theme=dark] .colab-df-convert {\n",
              "      background-color: #3B4455;\n",
              "      fill: #D2E3FC;\n",
              "    }\n",
              "\n",
              "    [theme=dark] .colab-df-convert:hover {\n",
              "      background-color: #434B5C;\n",
              "      box-shadow: 0px 1px 3px 1px rgba(0, 0, 0, 0.15);\n",
              "      filter: drop-shadow(0px 1px 2px rgba(0, 0, 0, 0.3));\n",
              "      fill: #FFFFFF;\n",
              "    }\n",
              "  </style>\n",
              "\n",
              "      <script>\n",
              "        const buttonEl =\n",
              "          document.querySelector('#df-f8f84383-570e-445e-910d-ece60673cecc button.colab-df-convert');\n",
              "        buttonEl.style.display =\n",
              "          google.colab.kernel.accessAllowed ? 'block' : 'none';\n",
              "\n",
              "        async function convertToInteractive(key) {\n",
              "          const element = document.querySelector('#df-f8f84383-570e-445e-910d-ece60673cecc');\n",
              "          const dataTable =\n",
              "            await google.colab.kernel.invokeFunction('convertToInteractive',\n",
              "                                                     [key], {});\n",
              "          if (!dataTable) return;\n",
              "\n",
              "          const docLinkHtml = 'Like what you see? Visit the ' +\n",
              "            '<a target=\"_blank\" href=https://colab.research.google.com/notebooks/data_table.ipynb>data table notebook</a>'\n",
              "            + ' to learn more about interactive tables.';\n",
              "          element.innerHTML = '';\n",
              "          dataTable['output_type'] = 'display_data';\n",
              "          await google.colab.output.renderOutput(dataTable, element);\n",
              "          const docLink = document.createElement('div');\n",
              "          docLink.innerHTML = docLinkHtml;\n",
              "          element.appendChild(docLink);\n",
              "        }\n",
              "      </script>\n",
              "    </div>\n",
              "  </div>\n",
              "  "
            ],
            "text/plain": [
              "         date     city        country  avg_temp_c\n",
              "0  2000-01-01  Abidjan  Côte D'Ivoire      27.293\n",
              "1  2000-02-01  Abidjan  Côte D'Ivoire      27.685\n",
              "2  2000-03-01  Abidjan  Côte D'Ivoire      29.061\n",
              "3  2000-04-01  Abidjan  Côte D'Ivoire      28.162\n",
              "4  2000-05-01  Abidjan  Côte D'Ivoire      27.547"
            ]
          },
          "execution_count": 7,
          "metadata": {},
          "output_type": "execute_result"
        }
      ],
      "source": [
        "# Load temperature data\n",
        "temperatures = pd.read_csv('temperatures.csv', index_col=0)\n",
        "temperatures.head()"
      ]
    },
    {
      "cell_type": "code",
      "execution_count": null,
      "metadata": {
        "colab": {
          "base_uri": "https://localhost:8080/"
        },
        "id": "q1rpLWci_Cl7",
        "outputId": "f42c5901-9bea-4c5e-c7e8-9b68e3fd3f03"
      },
      "outputs": [
        {
          "name": "stdout",
          "output_type": "stream",
          "text": [
            "               date        country  avg_temp_c\n",
            "city                                          \n",
            "Abidjan  2000-01-01  Côte D'Ivoire      27.293\n",
            "Abidjan  2000-02-01  Côte D'Ivoire      27.685\n",
            "Abidjan  2000-03-01  Côte D'Ivoire      29.061\n",
            "Abidjan  2000-04-01  Côte D'Ivoire      28.162\n",
            "Abidjan  2000-05-01  Côte D'Ivoire      27.547\n",
            "...             ...            ...         ...\n",
            "Xian     2013-05-01          China      18.979\n",
            "Xian     2013-06-01          China      23.522\n",
            "Xian     2013-07-01          China      25.251\n",
            "Xian     2013-08-01          China      24.528\n",
            "Xian     2013-09-01          China         NaN\n",
            "\n",
            "[16500 rows x 3 columns]\n"
          ]
        }
      ],
      "source": [
        "# Index temperatures by city\n",
        "temperatures_ind = temperatures.set_index(\"city\")\n",
        "print(temperatures_ind)"
      ]
    },
    {
      "cell_type": "code",
      "execution_count": null,
      "metadata": {
        "colab": {
          "base_uri": "https://localhost:8080/"
        },
        "id": "_Nf9aJpu_eDC",
        "outputId": "1d204fd2-782d-4aef-fc67-4f611ae134ad"
      },
      "outputs": [
        {
          "name": "stdout",
          "output_type": "stream",
          "text": [
            "          city        date        country  avg_temp_c\n",
            "0      Abidjan  2000-01-01  Côte D'Ivoire      27.293\n",
            "1      Abidjan  2000-02-01  Côte D'Ivoire      27.685\n",
            "2      Abidjan  2000-03-01  Côte D'Ivoire      29.061\n",
            "3      Abidjan  2000-04-01  Côte D'Ivoire      28.162\n",
            "4      Abidjan  2000-05-01  Côte D'Ivoire      27.547\n",
            "...        ...         ...            ...         ...\n",
            "16495     Xian  2013-05-01          China      18.979\n",
            "16496     Xian  2013-06-01          China      23.522\n",
            "16497     Xian  2013-07-01          China      25.251\n",
            "16498     Xian  2013-08-01          China      24.528\n",
            "16499     Xian  2013-09-01          China         NaN\n",
            "\n",
            "[16500 rows x 4 columns]\n"
          ]
        }
      ],
      "source": [
        "# Reset the index, keeping its contents\n",
        "print(temperatures_ind.reset_index())"
      ]
    },
    {
      "cell_type": "code",
      "execution_count": null,
      "metadata": {
        "colab": {
          "base_uri": "https://localhost:8080/"
        },
        "id": "t5lNmQf5_iKk",
        "outputId": "92efe93a-3cc2-4efe-9f40-0a437fdb2861"
      },
      "outputs": [
        {
          "name": "stdout",
          "output_type": "stream",
          "text": [
            "             date        country  avg_temp_c\n",
            "0      2000-01-01  Côte D'Ivoire      27.293\n",
            "1      2000-02-01  Côte D'Ivoire      27.685\n",
            "2      2000-03-01  Côte D'Ivoire      29.061\n",
            "3      2000-04-01  Côte D'Ivoire      28.162\n",
            "4      2000-05-01  Côte D'Ivoire      27.547\n",
            "...           ...            ...         ...\n",
            "16495  2013-05-01          China      18.979\n",
            "16496  2013-06-01          China      23.522\n",
            "16497  2013-07-01          China      25.251\n",
            "16498  2013-08-01          China      24.528\n",
            "16499  2013-09-01          China         NaN\n",
            "\n",
            "[16500 rows x 3 columns]\n"
          ]
        }
      ],
      "source": [
        "# Reset the index, dropping its contents\n",
        "print(temperatures_ind.reset_index(drop=True))"
      ]
    },
    {
      "cell_type": "markdown",
      "metadata": {
        "id": "XBBy-ea2_8l4"
      },
      "source": [
        "## Subsetting with `.loc[]`\n",
        "The killer feature for indexes is `.loc[]`: a subsetting method that accepts index values. When you pass it a single argument, it will take a subset of rows.\n",
        "\n",
        "The code for subsetting using `.loc[]` can be easier to read than standard square bracket subsetting, which can make your code less burdensome to maintain."
      ]
    },
    {
      "cell_type": "markdown",
      "metadata": {
        "id": "17cIcajzAG7c"
      },
      "source": [
        "1. Create a list called cities that contains \"Moscow\" and \"Saint Petersburg\"."
      ]
    },
    {
      "cell_type": "code",
      "execution_count": null,
      "metadata": {
        "id": "1gRNCQ3L_0LH"
      },
      "outputs": [],
      "source": [
        "# Make a list of cities to subset on\n",
        "cities = [\"Moscow\", \"Saint Petersburg\"]"
      ]
    },
    {
      "cell_type": "markdown",
      "metadata": {
        "id": "VtwEOlnVARcW"
      },
      "source": [
        "2. Use `[]` subsetting to filter temperatures for `rows` where the `city` column takes a value in the cities list."
      ]
    },
    {
      "cell_type": "code",
      "execution_count": null,
      "metadata": {
        "colab": {
          "base_uri": "https://localhost:8080/"
        },
        "id": "J-4_wVSeAaWU",
        "outputId": "bae9ce2f-d780-4d72-c63d-9a301bfba26d"
      },
      "outputs": [
        {
          "name": "stdout",
          "output_type": "stream",
          "text": [
            "             date              city country  avg_temp_c\n",
            "10725  2000-01-01            Moscow  Russia      -7.313\n",
            "10726  2000-02-01            Moscow  Russia      -3.551\n",
            "10727  2000-03-01            Moscow  Russia      -1.661\n",
            "10728  2000-04-01            Moscow  Russia      10.096\n",
            "10729  2000-05-01            Moscow  Russia      10.357\n",
            "...           ...               ...     ...         ...\n",
            "13360  2013-05-01  Saint Petersburg  Russia      12.355\n",
            "13361  2013-06-01  Saint Petersburg  Russia      17.185\n",
            "13362  2013-07-01  Saint Petersburg  Russia      17.234\n",
            "13363  2013-08-01  Saint Petersburg  Russia      17.153\n",
            "13364  2013-09-01  Saint Petersburg  Russia         NaN\n",
            "\n",
            "[330 rows x 4 columns]\n"
          ]
        }
      ],
      "source": [
        "# Subset temperatures using square brackets\n",
        "print(temperatures[temperatures[\"city\"].isin(cities)])"
      ]
    },
    {
      "cell_type": "markdown",
      "metadata": {
        "id": "sXZWD2YSA-ol"
      },
      "source": [
        "3. Use `.loc[]` subsetting to filter `temperatures_ind` for rows where the city is in the cities list."
      ]
    },
    {
      "cell_type": "code",
      "execution_count": null,
      "metadata": {
        "colab": {
          "base_uri": "https://localhost:8080/",
          "height": 454
        },
        "id": "HJ2tyBxSBb71",
        "outputId": "8a28d1f1-b753-4e72-ff7c-0ad50952ea9a"
      },
      "outputs": [
        {
          "data": {
            "text/html": [
              "\n",
              "  <div id=\"df-53c908f0-0479-49b1-bf8a-aa9dc85f48eb\">\n",
              "    <div class=\"colab-df-container\">\n",
              "      <div>\n",
              "<style scoped>\n",
              "    .dataframe tbody tr th:only-of-type {\n",
              "        vertical-align: middle;\n",
              "    }\n",
              "\n",
              "    .dataframe tbody tr th {\n",
              "        vertical-align: top;\n",
              "    }\n",
              "\n",
              "    .dataframe thead th {\n",
              "        text-align: right;\n",
              "    }\n",
              "</style>\n",
              "<table border=\"1\" class=\"dataframe\">\n",
              "  <thead>\n",
              "    <tr style=\"text-align: right;\">\n",
              "      <th></th>\n",
              "      <th>date</th>\n",
              "      <th>country</th>\n",
              "      <th>avg_temp_c</th>\n",
              "    </tr>\n",
              "    <tr>\n",
              "      <th>city</th>\n",
              "      <th></th>\n",
              "      <th></th>\n",
              "      <th></th>\n",
              "    </tr>\n",
              "  </thead>\n",
              "  <tbody>\n",
              "    <tr>\n",
              "      <th>Abidjan</th>\n",
              "      <td>2000-01-01</td>\n",
              "      <td>Côte D'Ivoire</td>\n",
              "      <td>27.293</td>\n",
              "    </tr>\n",
              "    <tr>\n",
              "      <th>Abidjan</th>\n",
              "      <td>2000-02-01</td>\n",
              "      <td>Côte D'Ivoire</td>\n",
              "      <td>27.685</td>\n",
              "    </tr>\n",
              "    <tr>\n",
              "      <th>Abidjan</th>\n",
              "      <td>2000-03-01</td>\n",
              "      <td>Côte D'Ivoire</td>\n",
              "      <td>29.061</td>\n",
              "    </tr>\n",
              "    <tr>\n",
              "      <th>Abidjan</th>\n",
              "      <td>2000-04-01</td>\n",
              "      <td>Côte D'Ivoire</td>\n",
              "      <td>28.162</td>\n",
              "    </tr>\n",
              "    <tr>\n",
              "      <th>Abidjan</th>\n",
              "      <td>2000-05-01</td>\n",
              "      <td>Côte D'Ivoire</td>\n",
              "      <td>27.547</td>\n",
              "    </tr>\n",
              "    <tr>\n",
              "      <th>...</th>\n",
              "      <td>...</td>\n",
              "      <td>...</td>\n",
              "      <td>...</td>\n",
              "    </tr>\n",
              "    <tr>\n",
              "      <th>Xian</th>\n",
              "      <td>2013-05-01</td>\n",
              "      <td>China</td>\n",
              "      <td>18.979</td>\n",
              "    </tr>\n",
              "    <tr>\n",
              "      <th>Xian</th>\n",
              "      <td>2013-06-01</td>\n",
              "      <td>China</td>\n",
              "      <td>23.522</td>\n",
              "    </tr>\n",
              "    <tr>\n",
              "      <th>Xian</th>\n",
              "      <td>2013-07-01</td>\n",
              "      <td>China</td>\n",
              "      <td>25.251</td>\n",
              "    </tr>\n",
              "    <tr>\n",
              "      <th>Xian</th>\n",
              "      <td>2013-08-01</td>\n",
              "      <td>China</td>\n",
              "      <td>24.528</td>\n",
              "    </tr>\n",
              "    <tr>\n",
              "      <th>Xian</th>\n",
              "      <td>2013-09-01</td>\n",
              "      <td>China</td>\n",
              "      <td>NaN</td>\n",
              "    </tr>\n",
              "  </tbody>\n",
              "</table>\n",
              "<p>16500 rows × 3 columns</p>\n",
              "</div>\n",
              "      <button class=\"colab-df-convert\" onclick=\"convertToInteractive('df-53c908f0-0479-49b1-bf8a-aa9dc85f48eb')\"\n",
              "              title=\"Convert this dataframe to an interactive table.\"\n",
              "              style=\"display:none;\">\n",
              "        \n",
              "  <svg xmlns=\"http://www.w3.org/2000/svg\" height=\"24px\"viewBox=\"0 0 24 24\"\n",
              "       width=\"24px\">\n",
              "    <path d=\"M0 0h24v24H0V0z\" fill=\"none\"/>\n",
              "    <path d=\"M18.56 5.44l.94 2.06.94-2.06 2.06-.94-2.06-.94-.94-2.06-.94 2.06-2.06.94zm-11 1L8.5 8.5l.94-2.06 2.06-.94-2.06-.94L8.5 2.5l-.94 2.06-2.06.94zm10 10l.94 2.06.94-2.06 2.06-.94-2.06-.94-.94-2.06-.94 2.06-2.06.94z\"/><path d=\"M17.41 7.96l-1.37-1.37c-.4-.4-.92-.59-1.43-.59-.52 0-1.04.2-1.43.59L10.3 9.45l-7.72 7.72c-.78.78-.78 2.05 0 2.83L4 21.41c.39.39.9.59 1.41.59.51 0 1.02-.2 1.41-.59l7.78-7.78 2.81-2.81c.8-.78.8-2.07 0-2.86zM5.41 20L4 18.59l7.72-7.72 1.47 1.35L5.41 20z\"/>\n",
              "  </svg>\n",
              "      </button>\n",
              "      \n",
              "  <style>\n",
              "    .colab-df-container {\n",
              "      display:flex;\n",
              "      flex-wrap:wrap;\n",
              "      gap: 12px;\n",
              "    }\n",
              "\n",
              "    .colab-df-convert {\n",
              "      background-color: #E8F0FE;\n",
              "      border: none;\n",
              "      border-radius: 50%;\n",
              "      cursor: pointer;\n",
              "      display: none;\n",
              "      fill: #1967D2;\n",
              "      height: 32px;\n",
              "      padding: 0 0 0 0;\n",
              "      width: 32px;\n",
              "    }\n",
              "\n",
              "    .colab-df-convert:hover {\n",
              "      background-color: #E2EBFA;\n",
              "      box-shadow: 0px 1px 2px rgba(60, 64, 67, 0.3), 0px 1px 3px 1px rgba(60, 64, 67, 0.15);\n",
              "      fill: #174EA6;\n",
              "    }\n",
              "\n",
              "    [theme=dark] .colab-df-convert {\n",
              "      background-color: #3B4455;\n",
              "      fill: #D2E3FC;\n",
              "    }\n",
              "\n",
              "    [theme=dark] .colab-df-convert:hover {\n",
              "      background-color: #434B5C;\n",
              "      box-shadow: 0px 1px 3px 1px rgba(0, 0, 0, 0.15);\n",
              "      filter: drop-shadow(0px 1px 2px rgba(0, 0, 0, 0.3));\n",
              "      fill: #FFFFFF;\n",
              "    }\n",
              "  </style>\n",
              "\n",
              "      <script>\n",
              "        const buttonEl =\n",
              "          document.querySelector('#df-53c908f0-0479-49b1-bf8a-aa9dc85f48eb button.colab-df-convert');\n",
              "        buttonEl.style.display =\n",
              "          google.colab.kernel.accessAllowed ? 'block' : 'none';\n",
              "\n",
              "        async function convertToInteractive(key) {\n",
              "          const element = document.querySelector('#df-53c908f0-0479-49b1-bf8a-aa9dc85f48eb');\n",
              "          const dataTable =\n",
              "            await google.colab.kernel.invokeFunction('convertToInteractive',\n",
              "                                                     [key], {});\n",
              "          if (!dataTable) return;\n",
              "\n",
              "          const docLinkHtml = 'Like what you see? Visit the ' +\n",
              "            '<a target=\"_blank\" href=https://colab.research.google.com/notebooks/data_table.ipynb>data table notebook</a>'\n",
              "            + ' to learn more about interactive tables.';\n",
              "          element.innerHTML = '';\n",
              "          dataTable['output_type'] = 'display_data';\n",
              "          await google.colab.output.renderOutput(dataTable, element);\n",
              "          const docLink = document.createElement('div');\n",
              "          docLink.innerHTML = docLinkHtml;\n",
              "          element.appendChild(docLink);\n",
              "        }\n",
              "      </script>\n",
              "    </div>\n",
              "  </div>\n",
              "  "
            ],
            "text/plain": [
              "               date        country  avg_temp_c\n",
              "city                                          \n",
              "Abidjan  2000-01-01  Côte D'Ivoire      27.293\n",
              "Abidjan  2000-02-01  Côte D'Ivoire      27.685\n",
              "Abidjan  2000-03-01  Côte D'Ivoire      29.061\n",
              "Abidjan  2000-04-01  Côte D'Ivoire      28.162\n",
              "Abidjan  2000-05-01  Côte D'Ivoire      27.547\n",
              "...             ...            ...         ...\n",
              "Xian     2013-05-01          China      18.979\n",
              "Xian     2013-06-01          China      23.522\n",
              "Xian     2013-07-01          China      25.251\n",
              "Xian     2013-08-01          China      24.528\n",
              "Xian     2013-09-01          China         NaN\n",
              "\n",
              "[16500 rows x 3 columns]"
            ]
          },
          "execution_count": 18,
          "metadata": {},
          "output_type": "execute_result"
        }
      ],
      "source": [
        "temperatures_ind"
      ]
    },
    {
      "cell_type": "code",
      "execution_count": null,
      "metadata": {
        "colab": {
          "base_uri": "https://localhost:8080/"
        },
        "id": "z_mTgauTBDtS",
        "outputId": "c18437c9-05e1-4317-918b-0fed088a19a4"
      },
      "outputs": [
        {
          "name": "stdout",
          "output_type": "stream",
          "text": [
            "                        date country  avg_temp_c\n",
            "city                                            \n",
            "Moscow            2000-01-01  Russia      -7.313\n",
            "Moscow            2000-02-01  Russia      -3.551\n",
            "Moscow            2000-03-01  Russia      -1.661\n",
            "Moscow            2000-04-01  Russia      10.096\n",
            "Moscow            2000-05-01  Russia      10.357\n",
            "...                      ...     ...         ...\n",
            "Saint Petersburg  2013-05-01  Russia      12.355\n",
            "Saint Petersburg  2013-06-01  Russia      17.185\n",
            "Saint Petersburg  2013-07-01  Russia      17.234\n",
            "Saint Petersburg  2013-08-01  Russia      17.153\n",
            "Saint Petersburg  2013-09-01  Russia         NaN\n",
            "\n",
            "[330 rows x 3 columns]\n"
          ]
        }
      ],
      "source": [
        "# Subset temperatures_ind using .loc[]\n",
        "print(temperatures_ind.loc[cities])"
      ]
    },
    {
      "cell_type": "markdown",
      "metadata": {
        "id": "xU-PK99-B52e"
      },
      "source": [
        "## Setting multi-level indexes\n",
        "Indexes can also be made out of multiple columns, forming a `multi-level index` (sometimes called a hierarchical index). There is a trade-off to using these.\n",
        "\n",
        "The benefit is that multi-level indexes make it more natural to reason about nested categorical variables. For example, in a clinical trial, you might have control and treatment groups. Then each test subject belongs to one or another group, and we can say that a test subject is nested inside the treatment group. Similarly, in the temperature dataset, the `city` is located in the country, so we can say a city is nested inside the country.\n",
        "\n",
        "The main downside is that the code for manipulating indexes is different from the code for manipulating columns, so you have to learn two syntaxes and keep track of how your data is represented."
      ]
    },
    {
      "cell_type": "markdown",
      "metadata": {
        "id": "L-Z_AN1qCPbq"
      },
      "source": [
        "1. Set the index of temperatures to the `\"country\"` and `\"city\"` columns, and assign this to `temperatures_ind`."
      ]
    },
    {
      "cell_type": "code",
      "execution_count": null,
      "metadata": {
        "colab": {
          "base_uri": "https://localhost:8080/",
          "height": 454
        },
        "id": "uGpTIn1CCU6I",
        "outputId": "fdf77376-8932-4422-d0ab-eb14c284a367"
      },
      "outputs": [
        {
          "data": {
            "text/html": [
              "\n",
              "  <div id=\"df-97a0394d-f1e2-4936-8556-8bbaaa075475\">\n",
              "    <div class=\"colab-df-container\">\n",
              "      <div>\n",
              "<style scoped>\n",
              "    .dataframe tbody tr th:only-of-type {\n",
              "        vertical-align: middle;\n",
              "    }\n",
              "\n",
              "    .dataframe tbody tr th {\n",
              "        vertical-align: top;\n",
              "    }\n",
              "\n",
              "    .dataframe thead th {\n",
              "        text-align: right;\n",
              "    }\n",
              "</style>\n",
              "<table border=\"1\" class=\"dataframe\">\n",
              "  <thead>\n",
              "    <tr style=\"text-align: right;\">\n",
              "      <th></th>\n",
              "      <th></th>\n",
              "      <th>date</th>\n",
              "      <th>avg_temp_c</th>\n",
              "    </tr>\n",
              "    <tr>\n",
              "      <th>country</th>\n",
              "      <th>city</th>\n",
              "      <th></th>\n",
              "      <th></th>\n",
              "    </tr>\n",
              "  </thead>\n",
              "  <tbody>\n",
              "    <tr>\n",
              "      <th rowspan=\"5\" valign=\"top\">Côte D'Ivoire</th>\n",
              "      <th>Abidjan</th>\n",
              "      <td>2000-01-01</td>\n",
              "      <td>27.293</td>\n",
              "    </tr>\n",
              "    <tr>\n",
              "      <th>Abidjan</th>\n",
              "      <td>2000-02-01</td>\n",
              "      <td>27.685</td>\n",
              "    </tr>\n",
              "    <tr>\n",
              "      <th>Abidjan</th>\n",
              "      <td>2000-03-01</td>\n",
              "      <td>29.061</td>\n",
              "    </tr>\n",
              "    <tr>\n",
              "      <th>Abidjan</th>\n",
              "      <td>2000-04-01</td>\n",
              "      <td>28.162</td>\n",
              "    </tr>\n",
              "    <tr>\n",
              "      <th>Abidjan</th>\n",
              "      <td>2000-05-01</td>\n",
              "      <td>27.547</td>\n",
              "    </tr>\n",
              "    <tr>\n",
              "      <th>...</th>\n",
              "      <th>...</th>\n",
              "      <td>...</td>\n",
              "      <td>...</td>\n",
              "    </tr>\n",
              "    <tr>\n",
              "      <th rowspan=\"5\" valign=\"top\">China</th>\n",
              "      <th>Xian</th>\n",
              "      <td>2013-05-01</td>\n",
              "      <td>18.979</td>\n",
              "    </tr>\n",
              "    <tr>\n",
              "      <th>Xian</th>\n",
              "      <td>2013-06-01</td>\n",
              "      <td>23.522</td>\n",
              "    </tr>\n",
              "    <tr>\n",
              "      <th>Xian</th>\n",
              "      <td>2013-07-01</td>\n",
              "      <td>25.251</td>\n",
              "    </tr>\n",
              "    <tr>\n",
              "      <th>Xian</th>\n",
              "      <td>2013-08-01</td>\n",
              "      <td>24.528</td>\n",
              "    </tr>\n",
              "    <tr>\n",
              "      <th>Xian</th>\n",
              "      <td>2013-09-01</td>\n",
              "      <td>NaN</td>\n",
              "    </tr>\n",
              "  </tbody>\n",
              "</table>\n",
              "<p>16500 rows × 2 columns</p>\n",
              "</div>\n",
              "      <button class=\"colab-df-convert\" onclick=\"convertToInteractive('df-97a0394d-f1e2-4936-8556-8bbaaa075475')\"\n",
              "              title=\"Convert this dataframe to an interactive table.\"\n",
              "              style=\"display:none;\">\n",
              "        \n",
              "  <svg xmlns=\"http://www.w3.org/2000/svg\" height=\"24px\"viewBox=\"0 0 24 24\"\n",
              "       width=\"24px\">\n",
              "    <path d=\"M0 0h24v24H0V0z\" fill=\"none\"/>\n",
              "    <path d=\"M18.56 5.44l.94 2.06.94-2.06 2.06-.94-2.06-.94-.94-2.06-.94 2.06-2.06.94zm-11 1L8.5 8.5l.94-2.06 2.06-.94-2.06-.94L8.5 2.5l-.94 2.06-2.06.94zm10 10l.94 2.06.94-2.06 2.06-.94-2.06-.94-.94-2.06-.94 2.06-2.06.94z\"/><path d=\"M17.41 7.96l-1.37-1.37c-.4-.4-.92-.59-1.43-.59-.52 0-1.04.2-1.43.59L10.3 9.45l-7.72 7.72c-.78.78-.78 2.05 0 2.83L4 21.41c.39.39.9.59 1.41.59.51 0 1.02-.2 1.41-.59l7.78-7.78 2.81-2.81c.8-.78.8-2.07 0-2.86zM5.41 20L4 18.59l7.72-7.72 1.47 1.35L5.41 20z\"/>\n",
              "  </svg>\n",
              "      </button>\n",
              "      \n",
              "  <style>\n",
              "    .colab-df-container {\n",
              "      display:flex;\n",
              "      flex-wrap:wrap;\n",
              "      gap: 12px;\n",
              "    }\n",
              "\n",
              "    .colab-df-convert {\n",
              "      background-color: #E8F0FE;\n",
              "      border: none;\n",
              "      border-radius: 50%;\n",
              "      cursor: pointer;\n",
              "      display: none;\n",
              "      fill: #1967D2;\n",
              "      height: 32px;\n",
              "      padding: 0 0 0 0;\n",
              "      width: 32px;\n",
              "    }\n",
              "\n",
              "    .colab-df-convert:hover {\n",
              "      background-color: #E2EBFA;\n",
              "      box-shadow: 0px 1px 2px rgba(60, 64, 67, 0.3), 0px 1px 3px 1px rgba(60, 64, 67, 0.15);\n",
              "      fill: #174EA6;\n",
              "    }\n",
              "\n",
              "    [theme=dark] .colab-df-convert {\n",
              "      background-color: #3B4455;\n",
              "      fill: #D2E3FC;\n",
              "    }\n",
              "\n",
              "    [theme=dark] .colab-df-convert:hover {\n",
              "      background-color: #434B5C;\n",
              "      box-shadow: 0px 1px 3px 1px rgba(0, 0, 0, 0.15);\n",
              "      filter: drop-shadow(0px 1px 2px rgba(0, 0, 0, 0.3));\n",
              "      fill: #FFFFFF;\n",
              "    }\n",
              "  </style>\n",
              "\n",
              "      <script>\n",
              "        const buttonEl =\n",
              "          document.querySelector('#df-97a0394d-f1e2-4936-8556-8bbaaa075475 button.colab-df-convert');\n",
              "        buttonEl.style.display =\n",
              "          google.colab.kernel.accessAllowed ? 'block' : 'none';\n",
              "\n",
              "        async function convertToInteractive(key) {\n",
              "          const element = document.querySelector('#df-97a0394d-f1e2-4936-8556-8bbaaa075475');\n",
              "          const dataTable =\n",
              "            await google.colab.kernel.invokeFunction('convertToInteractive',\n",
              "                                                     [key], {});\n",
              "          if (!dataTable) return;\n",
              "\n",
              "          const docLinkHtml = 'Like what you see? Visit the ' +\n",
              "            '<a target=\"_blank\" href=https://colab.research.google.com/notebooks/data_table.ipynb>data table notebook</a>'\n",
              "            + ' to learn more about interactive tables.';\n",
              "          element.innerHTML = '';\n",
              "          dataTable['output_type'] = 'display_data';\n",
              "          await google.colab.output.renderOutput(dataTable, element);\n",
              "          const docLink = document.createElement('div');\n",
              "          docLink.innerHTML = docLinkHtml;\n",
              "          element.appendChild(docLink);\n",
              "        }\n",
              "      </script>\n",
              "    </div>\n",
              "  </div>\n",
              "  "
            ],
            "text/plain": [
              "                             date  avg_temp_c\n",
              "country       city                           \n",
              "Côte D'Ivoire Abidjan  2000-01-01      27.293\n",
              "              Abidjan  2000-02-01      27.685\n",
              "              Abidjan  2000-03-01      29.061\n",
              "              Abidjan  2000-04-01      28.162\n",
              "              Abidjan  2000-05-01      27.547\n",
              "...                           ...         ...\n",
              "China         Xian     2013-05-01      18.979\n",
              "              Xian     2013-06-01      23.522\n",
              "              Xian     2013-07-01      25.251\n",
              "              Xian     2013-08-01      24.528\n",
              "              Xian     2013-09-01         NaN\n",
              "\n",
              "[16500 rows x 2 columns]"
            ]
          },
          "execution_count": 22,
          "metadata": {},
          "output_type": "execute_result"
        }
      ],
      "source": [
        "# Index temperatures by country & city\n",
        "temperatures_ind = temperatures.set_index([\"country\", \"city\"])\n",
        "temperatures_ind"
      ]
    },
    {
      "cell_type": "markdown",
      "metadata": {
        "id": "CcjkCEa-CpH4"
      },
      "source": [
        "2. Specify two country/city pairs to keep: `\"Brazil\"/\"Rio De Janeiro\"` and `\"Pakistan\"/\"Lahore\"`, assigning to `rows_to_keep`."
      ]
    },
    {
      "cell_type": "code",
      "execution_count": null,
      "metadata": {
        "colab": {
          "base_uri": "https://localhost:8080/",
          "height": 454
        },
        "id": "VQrTN9-rDHB5",
        "outputId": "ff08b701-8fe5-4128-83f5-f14374c85fe9"
      },
      "outputs": [
        {
          "data": {
            "text/html": [
              "\n",
              "  <div id=\"df-a6cb5aa2-88f6-40a4-a783-89693911eaa1\">\n",
              "    <div class=\"colab-df-container\">\n",
              "      <div>\n",
              "<style scoped>\n",
              "    .dataframe tbody tr th:only-of-type {\n",
              "        vertical-align: middle;\n",
              "    }\n",
              "\n",
              "    .dataframe tbody tr th {\n",
              "        vertical-align: top;\n",
              "    }\n",
              "\n",
              "    .dataframe thead th {\n",
              "        text-align: right;\n",
              "    }\n",
              "</style>\n",
              "<table border=\"1\" class=\"dataframe\">\n",
              "  <thead>\n",
              "    <tr style=\"text-align: right;\">\n",
              "      <th></th>\n",
              "      <th></th>\n",
              "      <th>date</th>\n",
              "      <th>avg_temp_c</th>\n",
              "    </tr>\n",
              "    <tr>\n",
              "      <th>country</th>\n",
              "      <th>city</th>\n",
              "      <th></th>\n",
              "      <th></th>\n",
              "    </tr>\n",
              "  </thead>\n",
              "  <tbody>\n",
              "    <tr>\n",
              "      <th rowspan=\"5\" valign=\"top\">Brazil</th>\n",
              "      <th>Rio De Janeiro</th>\n",
              "      <td>2000-01-01</td>\n",
              "      <td>25.974</td>\n",
              "    </tr>\n",
              "    <tr>\n",
              "      <th>Rio De Janeiro</th>\n",
              "      <td>2000-02-01</td>\n",
              "      <td>26.699</td>\n",
              "    </tr>\n",
              "    <tr>\n",
              "      <th>Rio De Janeiro</th>\n",
              "      <td>2000-03-01</td>\n",
              "      <td>26.270</td>\n",
              "    </tr>\n",
              "    <tr>\n",
              "      <th>Rio De Janeiro</th>\n",
              "      <td>2000-04-01</td>\n",
              "      <td>25.750</td>\n",
              "    </tr>\n",
              "    <tr>\n",
              "      <th>Rio De Janeiro</th>\n",
              "      <td>2000-05-01</td>\n",
              "      <td>24.356</td>\n",
              "    </tr>\n",
              "    <tr>\n",
              "      <th>...</th>\n",
              "      <th>...</th>\n",
              "      <td>...</td>\n",
              "      <td>...</td>\n",
              "    </tr>\n",
              "    <tr>\n",
              "      <th rowspan=\"5\" valign=\"top\">Pakistan</th>\n",
              "      <th>Lahore</th>\n",
              "      <td>2013-05-01</td>\n",
              "      <td>33.457</td>\n",
              "    </tr>\n",
              "    <tr>\n",
              "      <th>Lahore</th>\n",
              "      <td>2013-06-01</td>\n",
              "      <td>34.456</td>\n",
              "    </tr>\n",
              "    <tr>\n",
              "      <th>Lahore</th>\n",
              "      <td>2013-07-01</td>\n",
              "      <td>33.279</td>\n",
              "    </tr>\n",
              "    <tr>\n",
              "      <th>Lahore</th>\n",
              "      <td>2013-08-01</td>\n",
              "      <td>31.511</td>\n",
              "    </tr>\n",
              "    <tr>\n",
              "      <th>Lahore</th>\n",
              "      <td>2013-09-01</td>\n",
              "      <td>NaN</td>\n",
              "    </tr>\n",
              "  </tbody>\n",
              "</table>\n",
              "<p>330 rows × 2 columns</p>\n",
              "</div>\n",
              "      <button class=\"colab-df-convert\" onclick=\"convertToInteractive('df-a6cb5aa2-88f6-40a4-a783-89693911eaa1')\"\n",
              "              title=\"Convert this dataframe to an interactive table.\"\n",
              "              style=\"display:none;\">\n",
              "        \n",
              "  <svg xmlns=\"http://www.w3.org/2000/svg\" height=\"24px\"viewBox=\"0 0 24 24\"\n",
              "       width=\"24px\">\n",
              "    <path d=\"M0 0h24v24H0V0z\" fill=\"none\"/>\n",
              "    <path d=\"M18.56 5.44l.94 2.06.94-2.06 2.06-.94-2.06-.94-.94-2.06-.94 2.06-2.06.94zm-11 1L8.5 8.5l.94-2.06 2.06-.94-2.06-.94L8.5 2.5l-.94 2.06-2.06.94zm10 10l.94 2.06.94-2.06 2.06-.94-2.06-.94-.94-2.06-.94 2.06-2.06.94z\"/><path d=\"M17.41 7.96l-1.37-1.37c-.4-.4-.92-.59-1.43-.59-.52 0-1.04.2-1.43.59L10.3 9.45l-7.72 7.72c-.78.78-.78 2.05 0 2.83L4 21.41c.39.39.9.59 1.41.59.51 0 1.02-.2 1.41-.59l7.78-7.78 2.81-2.81c.8-.78.8-2.07 0-2.86zM5.41 20L4 18.59l7.72-7.72 1.47 1.35L5.41 20z\"/>\n",
              "  </svg>\n",
              "      </button>\n",
              "      \n",
              "  <style>\n",
              "    .colab-df-container {\n",
              "      display:flex;\n",
              "      flex-wrap:wrap;\n",
              "      gap: 12px;\n",
              "    }\n",
              "\n",
              "    .colab-df-convert {\n",
              "      background-color: #E8F0FE;\n",
              "      border: none;\n",
              "      border-radius: 50%;\n",
              "      cursor: pointer;\n",
              "      display: none;\n",
              "      fill: #1967D2;\n",
              "      height: 32px;\n",
              "      padding: 0 0 0 0;\n",
              "      width: 32px;\n",
              "    }\n",
              "\n",
              "    .colab-df-convert:hover {\n",
              "      background-color: #E2EBFA;\n",
              "      box-shadow: 0px 1px 2px rgba(60, 64, 67, 0.3), 0px 1px 3px 1px rgba(60, 64, 67, 0.15);\n",
              "      fill: #174EA6;\n",
              "    }\n",
              "\n",
              "    [theme=dark] .colab-df-convert {\n",
              "      background-color: #3B4455;\n",
              "      fill: #D2E3FC;\n",
              "    }\n",
              "\n",
              "    [theme=dark] .colab-df-convert:hover {\n",
              "      background-color: #434B5C;\n",
              "      box-shadow: 0px 1px 3px 1px rgba(0, 0, 0, 0.15);\n",
              "      filter: drop-shadow(0px 1px 2px rgba(0, 0, 0, 0.3));\n",
              "      fill: #FFFFFF;\n",
              "    }\n",
              "  </style>\n",
              "\n",
              "      <script>\n",
              "        const buttonEl =\n",
              "          document.querySelector('#df-a6cb5aa2-88f6-40a4-a783-89693911eaa1 button.colab-df-convert');\n",
              "        buttonEl.style.display =\n",
              "          google.colab.kernel.accessAllowed ? 'block' : 'none';\n",
              "\n",
              "        async function convertToInteractive(key) {\n",
              "          const element = document.querySelector('#df-a6cb5aa2-88f6-40a4-a783-89693911eaa1');\n",
              "          const dataTable =\n",
              "            await google.colab.kernel.invokeFunction('convertToInteractive',\n",
              "                                                     [key], {});\n",
              "          if (!dataTable) return;\n",
              "\n",
              "          const docLinkHtml = 'Like what you see? Visit the ' +\n",
              "            '<a target=\"_blank\" href=https://colab.research.google.com/notebooks/data_table.ipynb>data table notebook</a>'\n",
              "            + ' to learn more about interactive tables.';\n",
              "          element.innerHTML = '';\n",
              "          dataTable['output_type'] = 'display_data';\n",
              "          await google.colab.output.renderOutput(dataTable, element);\n",
              "          const docLink = document.createElement('div');\n",
              "          docLink.innerHTML = docLinkHtml;\n",
              "          element.appendChild(docLink);\n",
              "        }\n",
              "      </script>\n",
              "    </div>\n",
              "  </div>\n",
              "  "
            ],
            "text/plain": [
              "                               date  avg_temp_c\n",
              "country  city                                  \n",
              "Brazil   Rio De Janeiro  2000-01-01      25.974\n",
              "         Rio De Janeiro  2000-02-01      26.699\n",
              "         Rio De Janeiro  2000-03-01      26.270\n",
              "         Rio De Janeiro  2000-04-01      25.750\n",
              "         Rio De Janeiro  2000-05-01      24.356\n",
              "...                             ...         ...\n",
              "Pakistan Lahore          2013-05-01      33.457\n",
              "         Lahore          2013-06-01      34.456\n",
              "         Lahore          2013-07-01      33.279\n",
              "         Lahore          2013-08-01      31.511\n",
              "         Lahore          2013-09-01         NaN\n",
              "\n",
              "[330 rows x 2 columns]"
            ]
          },
          "execution_count": 25,
          "metadata": {},
          "output_type": "execute_result"
        }
      ],
      "source": [
        "# List of tuples: Brazil, Rio De Janeiro & Pakistan, Lahore\n",
        "\n",
        "rows_to_keep = temperatures_ind.loc[[(\"Brazil\", \"Rio De Janeiro\"), (\"Pakistan\", \"Lahore\")]]\n",
        "rows_to_keep"
      ]
    },
    {
      "cell_type": "markdown",
      "metadata": {
        "id": "4HIXqcQODyGa"
      },
      "source": [
        "3. Print and subset `temperatures_ind` for `rows_to_keep` using `.loc[]`."
      ]
    },
    {
      "cell_type": "code",
      "execution_count": null,
      "metadata": {
        "id": "8IhVvAJ8Dd0N"
      },
      "outputs": [],
      "source": [
        "# rows_to_keep = [(\"Brazil\", \"Rio De Janeiro\"), (\"Pakistan\", \"Lahore\")]\n",
        "# print(temperatures_ind.loc[rows_to_keep])"
      ]
    },
    {
      "cell_type": "markdown",
      "metadata": {
        "id": "tVXvsflPEz2k"
      },
      "source": [
        "## Sorting by index values\n",
        "Previously, you changed the order of the rows in a DataFrame by calling `.sort_values()`. It's also useful to be able to sort by elements in the index. For this, you need to use `.sort_index()`."
      ]
    },
    {
      "cell_type": "code",
      "execution_count": null,
      "metadata": {
        "colab": {
          "base_uri": "https://localhost:8080/"
        },
        "id": "GC8EDuqhE4gU",
        "outputId": "afb702ba-c321-442c-ce48-81586d4588ee"
      },
      "outputs": [
        {
          "name": "stdout",
          "output_type": "stream",
          "text": [
            "                          date  avg_temp_c\n",
            "country     city                          \n",
            "Afghanistan Kabul   2000-01-01       3.326\n",
            "            Kabul   2000-02-01       3.454\n",
            "            Kabul   2000-03-01       9.612\n",
            "            Kabul   2000-04-01      17.925\n",
            "            Kabul   2000-05-01      24.658\n",
            "...                        ...         ...\n",
            "Zimbabwe    Harare  2013-05-01      18.298\n",
            "            Harare  2013-06-01      17.020\n",
            "            Harare  2013-07-01      16.299\n",
            "            Harare  2013-08-01      19.232\n",
            "            Harare  2013-09-01         NaN\n",
            "\n",
            "[16500 rows x 2 columns]\n",
            "                             date  avg_temp_c\n",
            "country       city                           \n",
            "Côte D'Ivoire Abidjan  2000-01-01      27.293\n",
            "              Abidjan  2000-02-01      27.685\n",
            "              Abidjan  2000-03-01      29.061\n",
            "              Abidjan  2000-04-01      28.162\n",
            "              Abidjan  2000-05-01      27.547\n",
            "...                           ...         ...\n",
            "China         Xian     2013-05-01      18.979\n",
            "              Xian     2013-06-01      23.522\n",
            "              Xian     2013-07-01      25.251\n",
            "              Xian     2013-08-01      24.528\n",
            "              Xian     2013-09-01         NaN\n",
            "\n",
            "[16500 rows x 2 columns]\n",
            "                          date  avg_temp_c\n",
            "country     city                          \n",
            "Afghanistan Kabul   2000-01-01       3.326\n",
            "            Kabul   2000-02-01       3.454\n",
            "            Kabul   2000-03-01       9.612\n",
            "            Kabul   2000-04-01      17.925\n",
            "            Kabul   2000-05-01      24.658\n",
            "...                        ...         ...\n",
            "Zimbabwe    Harare  2013-05-01      18.298\n",
            "            Harare  2013-06-01      17.020\n",
            "            Harare  2013-07-01      16.299\n",
            "            Harare  2013-08-01      19.232\n",
            "            Harare  2013-09-01         NaN\n",
            "\n",
            "[16500 rows x 2 columns]\n"
          ]
        }
      ],
      "source": [
        "# Sort temperatures_ind by index values\n",
        "print(temperatures_ind.sort_index())\n",
        "\n",
        "# Sort temperatures_ind by index values at the city level\n",
        "print(temperatures_ind.sort_index(level=\"city\"))\n",
        "\n",
        "# Sort temperatures_ind by country then descending city\n",
        "print(temperatures_ind.sort_index(level=[\"country\", \"city\"], ascending=[True, False]))"
      ]
    },
    {
      "cell_type": "markdown",
      "metadata": {
        "id": "yO93wRZpgUNp"
      },
      "source": [
        "## Slicing index values\n",
        "Slicing lets you select consecutive elements of an object using first:last syntax. DataFrames can be sliced by index values or by row/column number; we'll start with the first case. This involves slicing inside the `.loc[]` method.\n",
        "\n",
        "Compared to slicing lists, there are a few things to remember.\n",
        "\n",
        "You can only slice an index if the index is sorted (using `.sort_index()`).\n",
        "To slice at the outer level, first and last can be strings.\n",
        "To slice at inner levels, first and last should be tuples.\n",
        "If you pass a single slice to `.loc[]`, it will slice the rows."
      ]
    },
    {
      "cell_type": "markdown",
      "metadata": {
        "id": "zACzHcR8gpLF"
      },
      "source": [
        "1. `Sort` the index of `temperatures_ind`.\n",
        "2. Use slicing with `.loc[]` to get these subsets:\n",
        "* from Pakistan to Russia.\n",
        "* from Lahore to Moscow. (This will return nonsense.)\n",
        "* from Pakistan, Lahore to Russia, Moscow."
      ]
    },
    {
      "cell_type": "code",
      "execution_count": null,
      "metadata": {
        "colab": {
          "base_uri": "https://localhost:8080/",
          "height": 454
        },
        "id": "3xAm7pbkgxpT",
        "outputId": "ca4ab1bb-152b-406e-915d-74ba26df4f57"
      },
      "outputs": [
        {
          "data": {
            "text/html": [
              "\n",
              "  <div id=\"df-13c6e8d1-daa7-4270-b532-3d4f34841aa1\">\n",
              "    <div class=\"colab-df-container\">\n",
              "      <div>\n",
              "<style scoped>\n",
              "    .dataframe tbody tr th:only-of-type {\n",
              "        vertical-align: middle;\n",
              "    }\n",
              "\n",
              "    .dataframe tbody tr th {\n",
              "        vertical-align: top;\n",
              "    }\n",
              "\n",
              "    .dataframe thead th {\n",
              "        text-align: right;\n",
              "    }\n",
              "</style>\n",
              "<table border=\"1\" class=\"dataframe\">\n",
              "  <thead>\n",
              "    <tr style=\"text-align: right;\">\n",
              "      <th></th>\n",
              "      <th></th>\n",
              "      <th>date</th>\n",
              "      <th>avg_temp_c</th>\n",
              "    </tr>\n",
              "    <tr>\n",
              "      <th>country</th>\n",
              "      <th>city</th>\n",
              "      <th></th>\n",
              "      <th></th>\n",
              "    </tr>\n",
              "  </thead>\n",
              "  <tbody>\n",
              "    <tr>\n",
              "      <th rowspan=\"5\" valign=\"top\">Afghanistan</th>\n",
              "      <th>Kabul</th>\n",
              "      <td>2000-01-01</td>\n",
              "      <td>3.326</td>\n",
              "    </tr>\n",
              "    <tr>\n",
              "      <th>Kabul</th>\n",
              "      <td>2000-02-01</td>\n",
              "      <td>3.454</td>\n",
              "    </tr>\n",
              "    <tr>\n",
              "      <th>Kabul</th>\n",
              "      <td>2000-03-01</td>\n",
              "      <td>9.612</td>\n",
              "    </tr>\n",
              "    <tr>\n",
              "      <th>Kabul</th>\n",
              "      <td>2000-04-01</td>\n",
              "      <td>17.925</td>\n",
              "    </tr>\n",
              "    <tr>\n",
              "      <th>Kabul</th>\n",
              "      <td>2000-05-01</td>\n",
              "      <td>24.658</td>\n",
              "    </tr>\n",
              "    <tr>\n",
              "      <th>...</th>\n",
              "      <th>...</th>\n",
              "      <td>...</td>\n",
              "      <td>...</td>\n",
              "    </tr>\n",
              "    <tr>\n",
              "      <th rowspan=\"5\" valign=\"top\">Zimbabwe</th>\n",
              "      <th>Harare</th>\n",
              "      <td>2013-05-01</td>\n",
              "      <td>18.298</td>\n",
              "    </tr>\n",
              "    <tr>\n",
              "      <th>Harare</th>\n",
              "      <td>2013-06-01</td>\n",
              "      <td>17.020</td>\n",
              "    </tr>\n",
              "    <tr>\n",
              "      <th>Harare</th>\n",
              "      <td>2013-07-01</td>\n",
              "      <td>16.299</td>\n",
              "    </tr>\n",
              "    <tr>\n",
              "      <th>Harare</th>\n",
              "      <td>2013-08-01</td>\n",
              "      <td>19.232</td>\n",
              "    </tr>\n",
              "    <tr>\n",
              "      <th>Harare</th>\n",
              "      <td>2013-09-01</td>\n",
              "      <td>NaN</td>\n",
              "    </tr>\n",
              "  </tbody>\n",
              "</table>\n",
              "<p>16500 rows × 2 columns</p>\n",
              "</div>\n",
              "      <button class=\"colab-df-convert\" onclick=\"convertToInteractive('df-13c6e8d1-daa7-4270-b532-3d4f34841aa1')\"\n",
              "              title=\"Convert this dataframe to an interactive table.\"\n",
              "              style=\"display:none;\">\n",
              "        \n",
              "  <svg xmlns=\"http://www.w3.org/2000/svg\" height=\"24px\"viewBox=\"0 0 24 24\"\n",
              "       width=\"24px\">\n",
              "    <path d=\"M0 0h24v24H0V0z\" fill=\"none\"/>\n",
              "    <path d=\"M18.56 5.44l.94 2.06.94-2.06 2.06-.94-2.06-.94-.94-2.06-.94 2.06-2.06.94zm-11 1L8.5 8.5l.94-2.06 2.06-.94-2.06-.94L8.5 2.5l-.94 2.06-2.06.94zm10 10l.94 2.06.94-2.06 2.06-.94-2.06-.94-.94-2.06-.94 2.06-2.06.94z\"/><path d=\"M17.41 7.96l-1.37-1.37c-.4-.4-.92-.59-1.43-.59-.52 0-1.04.2-1.43.59L10.3 9.45l-7.72 7.72c-.78.78-.78 2.05 0 2.83L4 21.41c.39.39.9.59 1.41.59.51 0 1.02-.2 1.41-.59l7.78-7.78 2.81-2.81c.8-.78.8-2.07 0-2.86zM5.41 20L4 18.59l7.72-7.72 1.47 1.35L5.41 20z\"/>\n",
              "  </svg>\n",
              "      </button>\n",
              "      \n",
              "  <style>\n",
              "    .colab-df-container {\n",
              "      display:flex;\n",
              "      flex-wrap:wrap;\n",
              "      gap: 12px;\n",
              "    }\n",
              "\n",
              "    .colab-df-convert {\n",
              "      background-color: #E8F0FE;\n",
              "      border: none;\n",
              "      border-radius: 50%;\n",
              "      cursor: pointer;\n",
              "      display: none;\n",
              "      fill: #1967D2;\n",
              "      height: 32px;\n",
              "      padding: 0 0 0 0;\n",
              "      width: 32px;\n",
              "    }\n",
              "\n",
              "    .colab-df-convert:hover {\n",
              "      background-color: #E2EBFA;\n",
              "      box-shadow: 0px 1px 2px rgba(60, 64, 67, 0.3), 0px 1px 3px 1px rgba(60, 64, 67, 0.15);\n",
              "      fill: #174EA6;\n",
              "    }\n",
              "\n",
              "    [theme=dark] .colab-df-convert {\n",
              "      background-color: #3B4455;\n",
              "      fill: #D2E3FC;\n",
              "    }\n",
              "\n",
              "    [theme=dark] .colab-df-convert:hover {\n",
              "      background-color: #434B5C;\n",
              "      box-shadow: 0px 1px 3px 1px rgba(0, 0, 0, 0.15);\n",
              "      filter: drop-shadow(0px 1px 2px rgba(0, 0, 0, 0.3));\n",
              "      fill: #FFFFFF;\n",
              "    }\n",
              "  </style>\n",
              "\n",
              "      <script>\n",
              "        const buttonEl =\n",
              "          document.querySelector('#df-13c6e8d1-daa7-4270-b532-3d4f34841aa1 button.colab-df-convert');\n",
              "        buttonEl.style.display =\n",
              "          google.colab.kernel.accessAllowed ? 'block' : 'none';\n",
              "\n",
              "        async function convertToInteractive(key) {\n",
              "          const element = document.querySelector('#df-13c6e8d1-daa7-4270-b532-3d4f34841aa1');\n",
              "          const dataTable =\n",
              "            await google.colab.kernel.invokeFunction('convertToInteractive',\n",
              "                                                     [key], {});\n",
              "          if (!dataTable) return;\n",
              "\n",
              "          const docLinkHtml = 'Like what you see? Visit the ' +\n",
              "            '<a target=\"_blank\" href=https://colab.research.google.com/notebooks/data_table.ipynb>data table notebook</a>'\n",
              "            + ' to learn more about interactive tables.';\n",
              "          element.innerHTML = '';\n",
              "          dataTable['output_type'] = 'display_data';\n",
              "          await google.colab.output.renderOutput(dataTable, element);\n",
              "          const docLink = document.createElement('div');\n",
              "          docLink.innerHTML = docLinkHtml;\n",
              "          element.appendChild(docLink);\n",
              "        }\n",
              "      </script>\n",
              "    </div>\n",
              "  </div>\n",
              "  "
            ],
            "text/plain": [
              "                          date  avg_temp_c\n",
              "country     city                          \n",
              "Afghanistan Kabul   2000-01-01       3.326\n",
              "            Kabul   2000-02-01       3.454\n",
              "            Kabul   2000-03-01       9.612\n",
              "            Kabul   2000-04-01      17.925\n",
              "            Kabul   2000-05-01      24.658\n",
              "...                        ...         ...\n",
              "Zimbabwe    Harare  2013-05-01      18.298\n",
              "            Harare  2013-06-01      17.020\n",
              "            Harare  2013-07-01      16.299\n",
              "            Harare  2013-08-01      19.232\n",
              "            Harare  2013-09-01         NaN\n",
              "\n",
              "[16500 rows x 2 columns]"
            ]
          },
          "execution_count": 38,
          "metadata": {},
          "output_type": "execute_result"
        }
      ],
      "source": [
        "# Sort the index of temperatures_ind\n",
        "temperatures_ind_srt = temperatures_ind.sort_index()\n",
        "temperatures_ind_srt"
      ]
    },
    {
      "cell_type": "code",
      "execution_count": null,
      "metadata": {
        "colab": {
          "base_uri": "https://localhost:8080/"
        },
        "id": "WX88aTmnhxtQ",
        "outputId": "60e6d316-2c80-430d-c44f-6c8718df049a"
      },
      "outputs": [
        {
          "name": "stdout",
          "output_type": "stream",
          "text": [
            "                                 date  avg_temp_c\n",
            "country  city                                    \n",
            "Pakistan Faisalabad        2000-01-01      12.792\n",
            "         Faisalabad        2000-02-01      14.339\n",
            "         Faisalabad        2000-03-01      20.309\n",
            "         Faisalabad        2000-04-01      29.072\n",
            "         Faisalabad        2000-05-01      34.845\n",
            "...                               ...         ...\n",
            "Russia   Saint Petersburg  2013-05-01      12.355\n",
            "         Saint Petersburg  2013-06-01      17.185\n",
            "         Saint Petersburg  2013-07-01      17.234\n",
            "         Saint Petersburg  2013-08-01      17.153\n",
            "         Saint Petersburg  2013-09-01         NaN\n",
            "\n",
            "[1155 rows x 2 columns]\n"
          ]
        }
      ],
      "source": [
        "# Subset rows from Pakistan to Russia\n",
        "print(temperatures_ind_srt.loc[\"Pakistan\":\"Russia\"])"
      ]
    },
    {
      "cell_type": "code",
      "execution_count": null,
      "metadata": {
        "colab": {
          "base_uri": "https://localhost:8080/"
        },
        "id": "0nuSEykrpsSz",
        "outputId": "ec20e019-5a5f-4b82-9976-4fb0ca6feb90"
      },
      "outputs": [
        {
          "name": "stdout",
          "output_type": "stream",
          "text": [
            "                          date  avg_temp_c\n",
            "country city                              \n",
            "Mexico  Mexico      2000-01-01      12.694\n",
            "        Mexico      2000-02-01      14.677\n",
            "        Mexico      2000-03-01      17.376\n",
            "        Mexico      2000-04-01      18.294\n",
            "        Mexico      2000-05-01      18.562\n",
            "...                        ...         ...\n",
            "Morocco Casablanca  2013-05-01      19.217\n",
            "        Casablanca  2013-06-01      23.649\n",
            "        Casablanca  2013-07-01      27.488\n",
            "        Casablanca  2013-08-01      27.952\n",
            "        Casablanca  2013-09-01         NaN\n",
            "\n",
            "[330 rows x 2 columns]\n"
          ]
        }
      ],
      "source": [
        "# Try to subset rows from Lahore to Moscow\n",
        "print(temperatures_ind_srt.loc[\"Lahore\":\"Moscow\"])"
      ]
    },
    {
      "cell_type": "code",
      "execution_count": null,
      "metadata": {
        "colab": {
          "base_uri": "https://localhost:8080/"
        },
        "id": "pICIe0Jcpvbi",
        "outputId": "edf7d4bd-1846-45ea-acdf-46f17e64e0f0"
      },
      "outputs": [
        {
          "name": "stdout",
          "output_type": "stream",
          "text": [
            "                       date  avg_temp_c\n",
            "country  city                          \n",
            "Pakistan Lahore  2000-01-01      12.792\n",
            "         Lahore  2000-02-01      14.339\n",
            "         Lahore  2000-03-01      20.309\n",
            "         Lahore  2000-04-01      29.072\n",
            "         Lahore  2000-05-01      34.845\n",
            "...                     ...         ...\n",
            "Russia   Moscow  2013-05-01      16.152\n",
            "         Moscow  2013-06-01      18.718\n",
            "         Moscow  2013-07-01      18.136\n",
            "         Moscow  2013-08-01      17.485\n",
            "         Moscow  2013-09-01         NaN\n",
            "\n",
            "[660 rows x 2 columns]\n"
          ]
        }
      ],
      "source": [
        "# Subset rows from Pakistan, Lahore to Russia, Moscow\n",
        "print(temperatures_ind_srt.loc[(\"Pakistan\",\"Lahore\"):(\"Russia\",\"Moscow\")])"
      ]
    },
    {
      "cell_type": "markdown",
      "metadata": {
        "id": "IracHECsqbvd"
      },
      "source": [
        "## Slicing in both directions\n",
        "You've seen slicing DataFrames by rows and by columns, but since DataFrames are two-dimensional objects, it is often natural to slice both dimensions at once. That is, by passing two arguments to `.loc[]`, you can subset by rows and columns in one go."
      ]
    },
    {
      "cell_type": "markdown",
      "metadata": {
        "id": "rnuJl6hIqw_B"
      },
      "source": [
        "* Use `.loc[]` slicing to subset rows from `India, Hyderabad to Iraq, Baghdad`.\n",
        "* Use `.loc[]` slicing to subset columns from date to `avg_temp_c`.\n",
        "* Slice in both directions at once from `Hyderabad` to `Baghdad`, and date to `avg_temp_c`."
      ]
    },
    {
      "cell_type": "code",
      "execution_count": null,
      "metadata": {
        "colab": {
          "base_uri": "https://localhost:8080/"
        },
        "id": "gKLowx_bqiWw",
        "outputId": "77e7111c-c114-47ed-f6d2-60a62c50c0a7"
      },
      "outputs": [
        {
          "name": "stdout",
          "output_type": "stream",
          "text": [
            "                         date  avg_temp_c\n",
            "country city                             \n",
            "India   Hyderabad  2000-01-01      23.779\n",
            "        Hyderabad  2000-02-01      25.826\n",
            "        Hyderabad  2000-03-01      28.821\n",
            "        Hyderabad  2000-04-01      32.698\n",
            "        Hyderabad  2000-05-01      32.438\n",
            "...                       ...         ...\n",
            "Iraq    Baghdad    2013-05-01      28.673\n",
            "        Baghdad    2013-06-01      33.803\n",
            "        Baghdad    2013-07-01      36.392\n",
            "        Baghdad    2013-08-01      35.463\n",
            "        Baghdad    2013-09-01         NaN\n",
            "\n",
            "[2145 rows x 2 columns]\n"
          ]
        }
      ],
      "source": [
        "# Subset rows from India, Hyderabad to Iraq, Baghdad\n",
        "print(temperatures_ind_srt.loc[(\"India\", \"Hyderabad\"):(\"Iraq\", \"Baghdad\")])"
      ]
    },
    {
      "cell_type": "code",
      "execution_count": null,
      "metadata": {
        "colab": {
          "base_uri": "https://localhost:8080/"
        },
        "id": "ZzPM8V5Krjfd",
        "outputId": "eb8d8dd1-e112-432b-8c51-8b62e674c228"
      },
      "outputs": [
        {
          "name": "stdout",
          "output_type": "stream",
          "text": [
            "                          date  avg_temp_c\n",
            "country     city                          \n",
            "Afghanistan Kabul   2000-01-01       3.326\n",
            "            Kabul   2000-02-01       3.454\n",
            "            Kabul   2000-03-01       9.612\n",
            "            Kabul   2000-04-01      17.925\n",
            "            Kabul   2000-05-01      24.658\n",
            "...                        ...         ...\n",
            "Zimbabwe    Harare  2013-05-01      18.298\n",
            "            Harare  2013-06-01      17.020\n",
            "            Harare  2013-07-01      16.299\n",
            "            Harare  2013-08-01      19.232\n",
            "            Harare  2013-09-01         NaN\n",
            "\n",
            "[16500 rows x 2 columns]\n"
          ]
        }
      ],
      "source": [
        "# Subset columns from date to avg_temp_c\n",
        "print(temperatures_ind_srt.loc[:,\"date\": \"avg_temp_c\"])"
      ]
    },
    {
      "cell_type": "code",
      "execution_count": null,
      "metadata": {
        "colab": {
          "base_uri": "https://localhost:8080/"
        },
        "id": "WiUQ2btcr0F9",
        "outputId": "8aa9339f-302d-4306-e80e-152bdb2edcbc"
      },
      "outputs": [
        {
          "name": "stdout",
          "output_type": "stream",
          "text": [
            "                         date  avg_temp_c\n",
            "country city                             \n",
            "India   Hyderabad  2000-01-01      23.779\n",
            "        Hyderabad  2000-02-01      25.826\n",
            "        Hyderabad  2000-03-01      28.821\n",
            "        Hyderabad  2000-04-01      32.698\n",
            "        Hyderabad  2000-05-01      32.438\n",
            "...                       ...         ...\n",
            "Iraq    Baghdad    2013-05-01      28.673\n",
            "        Baghdad    2013-06-01      33.803\n",
            "        Baghdad    2013-07-01      36.392\n",
            "        Baghdad    2013-08-01      35.463\n",
            "        Baghdad    2013-09-01         NaN\n",
            "\n",
            "[2145 rows x 2 columns]\n"
          ]
        }
      ],
      "source": [
        "# Subset in both directions at once\n",
        "print(temperatures_ind_srt.loc[(\"India\", \"Hyderabad\") : (\"Iraq\", \"Baghdad\"), \"date\":\"avg_temp_c\"])"
      ]
    },
    {
      "cell_type": "markdown",
      "metadata": {
        "id": "DoCj_1qWv0fY"
      },
      "source": [
        "## Slicing time series\n",
        "Slicing is particularly useful for time series since it's a common thing to want to filter for data `within a date range`. Add the date column to the index, then use `.loc[]` to perform the subsetting. The important thing to remember is to keep your dates in `ISO 8601 format`, that is, `\"yyyy-mm-dd\"` for year-month-day, `\"yyyy-mm\"` for year-month, and \"yyyy\" for year.\n",
        "\n",
        "Recall from Chapter 1 that you can combine multiple Boolean conditions using logical operators, such as &. To do so in one line of code, you'll need to add parentheses `()` around each condition."
      ]
    },
    {
      "cell_type": "markdown",
      "metadata": {
        "id": "_YeDupWty3jT"
      },
      "source": [
        "1. Use Boolean conditions, not `.isin()` or `.loc[]`, and the full date `\"yyyy-mm-dd\"`, to subset temperatures for rows in 2010 and 2011 and print the results.\n",
        "2. Set the index to the date column and sort it.\n",
        "3. Use `.loc[]` to subset `temperatures_ind` for rows in 2010 and 2011.\n",
        "4. Use `.loc[]` to subset `temperatures_ind` for rows from Aug 2010 to Feb 2011."
      ]
    },
    {
      "cell_type": "code",
      "execution_count": null,
      "metadata": {
        "colab": {
          "base_uri": "https://localhost:8080/"
        },
        "id": "OZdax_gPzLgZ",
        "outputId": "04bcf3cd-15a3-4904-cc1e-7296e9df98fc"
      },
      "outputs": [
        {
          "name": "stdout",
          "output_type": "stream",
          "text": [
            "             date     city        country  avg_temp_c\n",
            "120    2010-01-01  Abidjan  Côte D'Ivoire      28.270\n",
            "121    2010-02-01  Abidjan  Côte D'Ivoire      29.262\n",
            "122    2010-03-01  Abidjan  Côte D'Ivoire      29.596\n",
            "123    2010-04-01  Abidjan  Côte D'Ivoire      29.068\n",
            "124    2010-05-01  Abidjan  Côte D'Ivoire      28.258\n",
            "...           ...      ...            ...         ...\n",
            "16474  2011-08-01     Xian          China      23.069\n",
            "16475  2011-09-01     Xian          China      16.775\n",
            "16476  2011-10-01     Xian          China      12.587\n",
            "16477  2011-11-01     Xian          China       7.543\n",
            "16478  2011-12-01     Xian          China      -0.490\n",
            "\n",
            "[2400 rows x 4 columns]\n"
          ]
        }
      ],
      "source": [
        "# Use Boolean conditions to subset temperatures for rows in 2010 and 2011\n",
        "temperatures_bool = temperatures[(temperatures[\"date\"] >= \"2010-01-01\") & (temperatures[\"date\"] <= \"2011-12-31\")]\n",
        "print(temperatures_bool)"
      ]
    },
    {
      "cell_type": "code",
      "execution_count": null,
      "metadata": {
        "colab": {
          "base_uri": "https://localhost:8080/",
          "height": 454
        },
        "id": "INOm8vI90HuR",
        "outputId": "070e1d91-f860-4720-f945-fad28fd718d1"
      },
      "outputs": [
        {
          "data": {
            "text/html": [
              "\n",
              "  <div id=\"df-40ba5dda-5fc0-4de5-8b79-b7ab951f9627\">\n",
              "    <div class=\"colab-df-container\">\n",
              "      <div>\n",
              "<style scoped>\n",
              "    .dataframe tbody tr th:only-of-type {\n",
              "        vertical-align: middle;\n",
              "    }\n",
              "\n",
              "    .dataframe tbody tr th {\n",
              "        vertical-align: top;\n",
              "    }\n",
              "\n",
              "    .dataframe thead th {\n",
              "        text-align: right;\n",
              "    }\n",
              "</style>\n",
              "<table border=\"1\" class=\"dataframe\">\n",
              "  <thead>\n",
              "    <tr style=\"text-align: right;\">\n",
              "      <th></th>\n",
              "      <th>city</th>\n",
              "      <th>country</th>\n",
              "      <th>avg_temp_c</th>\n",
              "    </tr>\n",
              "    <tr>\n",
              "      <th>date</th>\n",
              "      <th></th>\n",
              "      <th></th>\n",
              "      <th></th>\n",
              "    </tr>\n",
              "  </thead>\n",
              "  <tbody>\n",
              "    <tr>\n",
              "      <th>2000-01-01</th>\n",
              "      <td>Abidjan</td>\n",
              "      <td>Côte D'Ivoire</td>\n",
              "      <td>27.293</td>\n",
              "    </tr>\n",
              "    <tr>\n",
              "      <th>2000-01-01</th>\n",
              "      <td>Lahore</td>\n",
              "      <td>Pakistan</td>\n",
              "      <td>12.792</td>\n",
              "    </tr>\n",
              "    <tr>\n",
              "      <th>2000-01-01</th>\n",
              "      <td>Tangshan</td>\n",
              "      <td>China</td>\n",
              "      <td>-5.406</td>\n",
              "    </tr>\n",
              "    <tr>\n",
              "      <th>2000-01-01</th>\n",
              "      <td>Gizeh</td>\n",
              "      <td>Egypt</td>\n",
              "      <td>12.669</td>\n",
              "    </tr>\n",
              "    <tr>\n",
              "      <th>2000-01-01</th>\n",
              "      <td>Lakhnau</td>\n",
              "      <td>India</td>\n",
              "      <td>15.152</td>\n",
              "    </tr>\n",
              "    <tr>\n",
              "      <th>...</th>\n",
              "      <td>...</td>\n",
              "      <td>...</td>\n",
              "      <td>...</td>\n",
              "    </tr>\n",
              "    <tr>\n",
              "      <th>2013-09-01</th>\n",
              "      <td>Nanjing</td>\n",
              "      <td>China</td>\n",
              "      <td>NaN</td>\n",
              "    </tr>\n",
              "    <tr>\n",
              "      <th>2013-09-01</th>\n",
              "      <td>New Delhi</td>\n",
              "      <td>India</td>\n",
              "      <td>NaN</td>\n",
              "    </tr>\n",
              "    <tr>\n",
              "      <th>2013-09-01</th>\n",
              "      <td>New York</td>\n",
              "      <td>United States</td>\n",
              "      <td>17.408</td>\n",
              "    </tr>\n",
              "    <tr>\n",
              "      <th>2013-09-01</th>\n",
              "      <td>Peking</td>\n",
              "      <td>China</td>\n",
              "      <td>NaN</td>\n",
              "    </tr>\n",
              "    <tr>\n",
              "      <th>2013-09-01</th>\n",
              "      <td>Xian</td>\n",
              "      <td>China</td>\n",
              "      <td>NaN</td>\n",
              "    </tr>\n",
              "  </tbody>\n",
              "</table>\n",
              "<p>16500 rows × 3 columns</p>\n",
              "</div>\n",
              "      <button class=\"colab-df-convert\" onclick=\"convertToInteractive('df-40ba5dda-5fc0-4de5-8b79-b7ab951f9627')\"\n",
              "              title=\"Convert this dataframe to an interactive table.\"\n",
              "              style=\"display:none;\">\n",
              "        \n",
              "  <svg xmlns=\"http://www.w3.org/2000/svg\" height=\"24px\"viewBox=\"0 0 24 24\"\n",
              "       width=\"24px\">\n",
              "    <path d=\"M0 0h24v24H0V0z\" fill=\"none\"/>\n",
              "    <path d=\"M18.56 5.44l.94 2.06.94-2.06 2.06-.94-2.06-.94-.94-2.06-.94 2.06-2.06.94zm-11 1L8.5 8.5l.94-2.06 2.06-.94-2.06-.94L8.5 2.5l-.94 2.06-2.06.94zm10 10l.94 2.06.94-2.06 2.06-.94-2.06-.94-.94-2.06-.94 2.06-2.06.94z\"/><path d=\"M17.41 7.96l-1.37-1.37c-.4-.4-.92-.59-1.43-.59-.52 0-1.04.2-1.43.59L10.3 9.45l-7.72 7.72c-.78.78-.78 2.05 0 2.83L4 21.41c.39.39.9.59 1.41.59.51 0 1.02-.2 1.41-.59l7.78-7.78 2.81-2.81c.8-.78.8-2.07 0-2.86zM5.41 20L4 18.59l7.72-7.72 1.47 1.35L5.41 20z\"/>\n",
              "  </svg>\n",
              "      </button>\n",
              "      \n",
              "  <style>\n",
              "    .colab-df-container {\n",
              "      display:flex;\n",
              "      flex-wrap:wrap;\n",
              "      gap: 12px;\n",
              "    }\n",
              "\n",
              "    .colab-df-convert {\n",
              "      background-color: #E8F0FE;\n",
              "      border: none;\n",
              "      border-radius: 50%;\n",
              "      cursor: pointer;\n",
              "      display: none;\n",
              "      fill: #1967D2;\n",
              "      height: 32px;\n",
              "      padding: 0 0 0 0;\n",
              "      width: 32px;\n",
              "    }\n",
              "\n",
              "    .colab-df-convert:hover {\n",
              "      background-color: #E2EBFA;\n",
              "      box-shadow: 0px 1px 2px rgba(60, 64, 67, 0.3), 0px 1px 3px 1px rgba(60, 64, 67, 0.15);\n",
              "      fill: #174EA6;\n",
              "    }\n",
              "\n",
              "    [theme=dark] .colab-df-convert {\n",
              "      background-color: #3B4455;\n",
              "      fill: #D2E3FC;\n",
              "    }\n",
              "\n",
              "    [theme=dark] .colab-df-convert:hover {\n",
              "      background-color: #434B5C;\n",
              "      box-shadow: 0px 1px 3px 1px rgba(0, 0, 0, 0.15);\n",
              "      filter: drop-shadow(0px 1px 2px rgba(0, 0, 0, 0.3));\n",
              "      fill: #FFFFFF;\n",
              "    }\n",
              "  </style>\n",
              "\n",
              "      <script>\n",
              "        const buttonEl =\n",
              "          document.querySelector('#df-40ba5dda-5fc0-4de5-8b79-b7ab951f9627 button.colab-df-convert');\n",
              "        buttonEl.style.display =\n",
              "          google.colab.kernel.accessAllowed ? 'block' : 'none';\n",
              "\n",
              "        async function convertToInteractive(key) {\n",
              "          const element = document.querySelector('#df-40ba5dda-5fc0-4de5-8b79-b7ab951f9627');\n",
              "          const dataTable =\n",
              "            await google.colab.kernel.invokeFunction('convertToInteractive',\n",
              "                                                     [key], {});\n",
              "          if (!dataTable) return;\n",
              "\n",
              "          const docLinkHtml = 'Like what you see? Visit the ' +\n",
              "            '<a target=\"_blank\" href=https://colab.research.google.com/notebooks/data_table.ipynb>data table notebook</a>'\n",
              "            + ' to learn more about interactive tables.';\n",
              "          element.innerHTML = '';\n",
              "          dataTable['output_type'] = 'display_data';\n",
              "          await google.colab.output.renderOutput(dataTable, element);\n",
              "          const docLink = document.createElement('div');\n",
              "          docLink.innerHTML = docLinkHtml;\n",
              "          element.appendChild(docLink);\n",
              "        }\n",
              "      </script>\n",
              "    </div>\n",
              "  </div>\n",
              "  "
            ],
            "text/plain": [
              "                 city        country  avg_temp_c\n",
              "date                                            \n",
              "2000-01-01    Abidjan  Côte D'Ivoire      27.293\n",
              "2000-01-01     Lahore       Pakistan      12.792\n",
              "2000-01-01   Tangshan          China      -5.406\n",
              "2000-01-01      Gizeh          Egypt      12.669\n",
              "2000-01-01    Lakhnau          India      15.152\n",
              "...               ...            ...         ...\n",
              "2013-09-01    Nanjing          China         NaN\n",
              "2013-09-01  New Delhi          India         NaN\n",
              "2013-09-01   New York  United States      17.408\n",
              "2013-09-01     Peking          China         NaN\n",
              "2013-09-01       Xian          China         NaN\n",
              "\n",
              "[16500 rows x 3 columns]"
            ]
          },
          "execution_count": 62,
          "metadata": {},
          "output_type": "execute_result"
        }
      ],
      "source": [
        "# Set date as the index and sort the index\n",
        "temperatures_ind_bydate = temperatures.set_index(\"date\").sort_index()\n",
        "temperatures_ind_bydate"
      ]
    },
    {
      "cell_type": "code",
      "execution_count": null,
      "metadata": {
        "colab": {
          "base_uri": "https://localhost:8080/"
        },
        "id": "emGTan_60gIF",
        "outputId": "65f68f1c-6582-4ce3-9a0f-e5291e6819e6"
      },
      "outputs": [
        {
          "name": "stdout",
          "output_type": "stream",
          "text": [
            "                  city    country  avg_temp_c\n",
            "date                                         \n",
            "2010-01-01  Faisalabad   Pakistan      11.810\n",
            "2010-01-01   Melbourne  Australia      20.016\n",
            "2010-01-01   Chongqing      China       7.921\n",
            "2010-01-01   São Paulo     Brazil      23.738\n",
            "2010-01-01   Guangzhou      China      14.136\n",
            "...                ...        ...         ...\n",
            "2011-12-01      Nagoya      Japan       6.476\n",
            "2011-12-01   Hyderabad      India      23.613\n",
            "2011-12-01        Cali   Colombia      21.559\n",
            "2011-12-01        Lima       Peru      18.293\n",
            "2011-12-01     Bangkok   Thailand      25.021\n",
            "\n",
            "[2400 rows x 3 columns]\n"
          ]
        }
      ],
      "source": [
        "# Use .loc[] to subset temperatures_ind for rows in 2010 and 2011\n",
        "print(temperatures_ind_bydate.loc[\"2010-01-01\":\"2011-12-31\"]) #[\"2010\":\"2011\"] also works"
      ]
    },
    {
      "cell_type": "code",
      "execution_count": null,
      "metadata": {
        "colab": {
          "base_uri": "https://localhost:8080/"
        },
        "id": "RrzR2M5H1Kz4",
        "outputId": "d0979cc3-e4ef-4e72-ee2e-f421b0d5bfe1"
      },
      "outputs": [
        {
          "name": "stdout",
          "output_type": "stream",
          "text": [
            "                     city        country  avg_temp_c\n",
            "date                                                \n",
            "2010-08-01       Calcutta          India      30.226\n",
            "2010-08-01           Pune          India      24.941\n",
            "2010-08-01          Izmir         Turkey      28.352\n",
            "2010-08-01        Tianjin          China      25.543\n",
            "2010-08-01         Manila    Philippines      27.101\n",
            "...                   ...            ...         ...\n",
            "2011-01-01  Dar Es Salaam       Tanzania      28.541\n",
            "2011-01-01        Nairobi          Kenya      17.768\n",
            "2011-01-01    Addis Abeba       Ethiopia      17.708\n",
            "2011-01-01        Nanjing          China       0.144\n",
            "2011-01-01       New York  United States      -4.463\n",
            "\n",
            "[600 rows x 3 columns]\n"
          ]
        }
      ],
      "source": [
        "# Use .loc[] to subset temperatures_ind for rows from Aug 2010 to Feb 2011\n",
        "print(temperatures_ind_bydate.loc[\"2010-08\":\"2011-02\"])"
      ]
    },
    {
      "cell_type": "markdown",
      "metadata": {
        "id": "EF7X1XOB3TRI"
      },
      "source": [
        "## Subsetting by `row/column number`\n",
        "The most common ways to subset rows are the ways we've previously discussed: using a Boolean condition or by index labels. However, it is also occasionally useful to pass row numbers.\n",
        "\n",
        "This is done using `.iloc[]`, and like `.loc[]`, it can take two arguments to let you subset by rows and columns."
      ]
    },
    {
      "cell_type": "markdown",
      "metadata": {
        "id": "Jaf2FPbm3btT"
      },
      "source": [
        "* Use `.iloc[]` on temperatures to take subsets.\n",
        "\n",
        " * Get the 23rd row, 2nd column (index positions 22 and 1).\n",
        " * Get the first 5 rows (index positions 0 to 5).\n",
        " * Get all rows, columns 3 and 4 (index positions 2 to 4).\n",
        " * Get the first 5 rows, columns 3 and 4."
      ]
    },
    {
      "cell_type": "code",
      "execution_count": null,
      "metadata": {
        "colab": {
          "base_uri": "https://localhost:8080/"
        },
        "id": "9_sZJ1-B3m3v",
        "outputId": "84f702bd-29af-468e-cc77-5c670f06b788"
      },
      "outputs": [
        {
          "name": "stdout",
          "output_type": "stream",
          "text": [
            "Abidjan\n"
          ]
        }
      ],
      "source": [
        "# Get 23rd row, 2nd column (index 22, 1)\n",
        "print(temperatures.iloc[22, 1])"
      ]
    },
    {
      "cell_type": "code",
      "execution_count": null,
      "metadata": {
        "colab": {
          "base_uri": "https://localhost:8080/"
        },
        "id": "-t9ND6AD4qnI",
        "outputId": "82b41e5e-8a04-4f65-b8e5-14840fae6241"
      },
      "outputs": [
        {
          "name": "stdout",
          "output_type": "stream",
          "text": [
            "         date     city        country  avg_temp_c\n",
            "0  2000-01-01  Abidjan  Côte D'Ivoire      27.293\n",
            "1  2000-02-01  Abidjan  Côte D'Ivoire      27.685\n",
            "2  2000-03-01  Abidjan  Côte D'Ivoire      29.061\n",
            "3  2000-04-01  Abidjan  Côte D'Ivoire      28.162\n",
            "4  2000-05-01  Abidjan  Côte D'Ivoire      27.547\n"
          ]
        }
      ],
      "source": [
        "# Use slicing to get the first 5 rows\n",
        "print(temperatures.iloc[:5])"
      ]
    },
    {
      "cell_type": "code",
      "execution_count": null,
      "metadata": {
        "colab": {
          "base_uri": "https://localhost:8080/"
        },
        "id": "9DlJKU7j5kST",
        "outputId": "269f9806-950e-4b98-ddf0-582caf4d2e09"
      },
      "outputs": [
        {
          "name": "stdout",
          "output_type": "stream",
          "text": [
            "             country  avg_temp_c\n",
            "0      Côte D'Ivoire      27.293\n",
            "1      Côte D'Ivoire      27.685\n",
            "2      Côte D'Ivoire      29.061\n",
            "3      Côte D'Ivoire      28.162\n",
            "4      Côte D'Ivoire      27.547\n",
            "...              ...         ...\n",
            "16495          China      18.979\n",
            "16496          China      23.522\n",
            "16497          China      25.251\n",
            "16498          China      24.528\n",
            "16499          China         NaN\n",
            "\n",
            "[16500 rows x 2 columns]\n"
          ]
        }
      ],
      "source": [
        "# Use slicing to get columns 3 to 4\n",
        "print(temperatures.iloc[:, 2:4])"
      ]
    },
    {
      "cell_type": "code",
      "execution_count": null,
      "metadata": {
        "colab": {
          "base_uri": "https://localhost:8080/"
        },
        "id": "eWINVr7Z5p9e",
        "outputId": "8094978e-b914-43df-a1e7-e50643f1f1f2"
      },
      "outputs": [
        {
          "name": "stdout",
          "output_type": "stream",
          "text": [
            "         country  avg_temp_c\n",
            "0  Côte D'Ivoire      27.293\n",
            "1  Côte D'Ivoire      27.685\n",
            "2  Côte D'Ivoire      29.061\n",
            "3  Côte D'Ivoire      28.162\n",
            "4  Côte D'Ivoire      27.547\n"
          ]
        }
      ],
      "source": [
        "# Use slicing in both directions at once\n",
        "print(temperatures.iloc[:5, 2:4])"
      ]
    },
    {
      "cell_type": "markdown",
      "metadata": {
        "id": "i2QBkwMu9Bw8"
      },
      "source": [
        "## More on Pivot tables"
      ]
    },
    {
      "cell_type": "markdown",
      "metadata": {
        "id": "GfjyBdQ28sCH"
      },
      "source": [
        "### Pivot temperature by city and year\n",
        "It's interesting to see how temperatures for each city change over time—looking at every month results in a big table, which can be tricky to reason about. Instead, let's look at how temperatures change by year.\n",
        "\n",
        "You can access the components of a date (year, month and day) using code of the form `dataframe[\"column\"].dt.component`. For example, the month component is `dataframe[\"column\"].dt.month`, and the year component is `dataframe[\"column\"].dt.year`.\n",
        "\n",
        "Once you have the year column, you can create a pivot table with the data aggregated by city and year, which you'll explore in the coming exercises."
      ]
    },
    {
      "cell_type": "markdown",
      "metadata": {
        "id": "fZsuLEDY8_2t"
      },
      "source": [
        "1. Add a `year` column to temperatures, from the year component of the date column."
      ]
    },
    {
      "cell_type": "code",
      "execution_count": null,
      "metadata": {
        "colab": {
          "base_uri": "https://localhost:8080/",
          "height": 206
        },
        "id": "zMM165_H_i3M",
        "outputId": "ff0da577-2c5e-44bf-fcbe-691fa2170658"
      },
      "outputs": [
        {
          "data": {
            "text/html": [
              "\n",
              "  <div id=\"df-485b38d4-5f96-4a21-8ac8-adbf160f8af4\">\n",
              "    <div class=\"colab-df-container\">\n",
              "      <div>\n",
              "<style scoped>\n",
              "    .dataframe tbody tr th:only-of-type {\n",
              "        vertical-align: middle;\n",
              "    }\n",
              "\n",
              "    .dataframe tbody tr th {\n",
              "        vertical-align: top;\n",
              "    }\n",
              "\n",
              "    .dataframe thead th {\n",
              "        text-align: right;\n",
              "    }\n",
              "</style>\n",
              "<table border=\"1\" class=\"dataframe\">\n",
              "  <thead>\n",
              "    <tr style=\"text-align: right;\">\n",
              "      <th></th>\n",
              "      <th>date</th>\n",
              "      <th>city</th>\n",
              "      <th>country</th>\n",
              "      <th>avg_temp_c</th>\n",
              "    </tr>\n",
              "  </thead>\n",
              "  <tbody>\n",
              "    <tr>\n",
              "      <th>0</th>\n",
              "      <td>2000-01-01</td>\n",
              "      <td>Abidjan</td>\n",
              "      <td>Côte D'Ivoire</td>\n",
              "      <td>27.293</td>\n",
              "    </tr>\n",
              "    <tr>\n",
              "      <th>1</th>\n",
              "      <td>2000-02-01</td>\n",
              "      <td>Abidjan</td>\n",
              "      <td>Côte D'Ivoire</td>\n",
              "      <td>27.685</td>\n",
              "    </tr>\n",
              "    <tr>\n",
              "      <th>2</th>\n",
              "      <td>2000-03-01</td>\n",
              "      <td>Abidjan</td>\n",
              "      <td>Côte D'Ivoire</td>\n",
              "      <td>29.061</td>\n",
              "    </tr>\n",
              "    <tr>\n",
              "      <th>3</th>\n",
              "      <td>2000-04-01</td>\n",
              "      <td>Abidjan</td>\n",
              "      <td>Côte D'Ivoire</td>\n",
              "      <td>28.162</td>\n",
              "    </tr>\n",
              "    <tr>\n",
              "      <th>4</th>\n",
              "      <td>2000-05-01</td>\n",
              "      <td>Abidjan</td>\n",
              "      <td>Côte D'Ivoire</td>\n",
              "      <td>27.547</td>\n",
              "    </tr>\n",
              "  </tbody>\n",
              "</table>\n",
              "</div>\n",
              "      <button class=\"colab-df-convert\" onclick=\"convertToInteractive('df-485b38d4-5f96-4a21-8ac8-adbf160f8af4')\"\n",
              "              title=\"Convert this dataframe to an interactive table.\"\n",
              "              style=\"display:none;\">\n",
              "        \n",
              "  <svg xmlns=\"http://www.w3.org/2000/svg\" height=\"24px\"viewBox=\"0 0 24 24\"\n",
              "       width=\"24px\">\n",
              "    <path d=\"M0 0h24v24H0V0z\" fill=\"none\"/>\n",
              "    <path d=\"M18.56 5.44l.94 2.06.94-2.06 2.06-.94-2.06-.94-.94-2.06-.94 2.06-2.06.94zm-11 1L8.5 8.5l.94-2.06 2.06-.94-2.06-.94L8.5 2.5l-.94 2.06-2.06.94zm10 10l.94 2.06.94-2.06 2.06-.94-2.06-.94-.94-2.06-.94 2.06-2.06.94z\"/><path d=\"M17.41 7.96l-1.37-1.37c-.4-.4-.92-.59-1.43-.59-.52 0-1.04.2-1.43.59L10.3 9.45l-7.72 7.72c-.78.78-.78 2.05 0 2.83L4 21.41c.39.39.9.59 1.41.59.51 0 1.02-.2 1.41-.59l7.78-7.78 2.81-2.81c.8-.78.8-2.07 0-2.86zM5.41 20L4 18.59l7.72-7.72 1.47 1.35L5.41 20z\"/>\n",
              "  </svg>\n",
              "      </button>\n",
              "      \n",
              "  <style>\n",
              "    .colab-df-container {\n",
              "      display:flex;\n",
              "      flex-wrap:wrap;\n",
              "      gap: 12px;\n",
              "    }\n",
              "\n",
              "    .colab-df-convert {\n",
              "      background-color: #E8F0FE;\n",
              "      border: none;\n",
              "      border-radius: 50%;\n",
              "      cursor: pointer;\n",
              "      display: none;\n",
              "      fill: #1967D2;\n",
              "      height: 32px;\n",
              "      padding: 0 0 0 0;\n",
              "      width: 32px;\n",
              "    }\n",
              "\n",
              "    .colab-df-convert:hover {\n",
              "      background-color: #E2EBFA;\n",
              "      box-shadow: 0px 1px 2px rgba(60, 64, 67, 0.3), 0px 1px 3px 1px rgba(60, 64, 67, 0.15);\n",
              "      fill: #174EA6;\n",
              "    }\n",
              "\n",
              "    [theme=dark] .colab-df-convert {\n",
              "      background-color: #3B4455;\n",
              "      fill: #D2E3FC;\n",
              "    }\n",
              "\n",
              "    [theme=dark] .colab-df-convert:hover {\n",
              "      background-color: #434B5C;\n",
              "      box-shadow: 0px 1px 3px 1px rgba(0, 0, 0, 0.15);\n",
              "      filter: drop-shadow(0px 1px 2px rgba(0, 0, 0, 0.3));\n",
              "      fill: #FFFFFF;\n",
              "    }\n",
              "  </style>\n",
              "\n",
              "      <script>\n",
              "        const buttonEl =\n",
              "          document.querySelector('#df-485b38d4-5f96-4a21-8ac8-adbf160f8af4 button.colab-df-convert');\n",
              "        buttonEl.style.display =\n",
              "          google.colab.kernel.accessAllowed ? 'block' : 'none';\n",
              "\n",
              "        async function convertToInteractive(key) {\n",
              "          const element = document.querySelector('#df-485b38d4-5f96-4a21-8ac8-adbf160f8af4');\n",
              "          const dataTable =\n",
              "            await google.colab.kernel.invokeFunction('convertToInteractive',\n",
              "                                                     [key], {});\n",
              "          if (!dataTable) return;\n",
              "\n",
              "          const docLinkHtml = 'Like what you see? Visit the ' +\n",
              "            '<a target=\"_blank\" href=https://colab.research.google.com/notebooks/data_table.ipynb>data table notebook</a>'\n",
              "            + ' to learn more about interactive tables.';\n",
              "          element.innerHTML = '';\n",
              "          dataTable['output_type'] = 'display_data';\n",
              "          await google.colab.output.renderOutput(dataTable, element);\n",
              "          const docLink = document.createElement('div');\n",
              "          docLink.innerHTML = docLinkHtml;\n",
              "          element.appendChild(docLink);\n",
              "        }\n",
              "      </script>\n",
              "    </div>\n",
              "  </div>\n",
              "  "
            ],
            "text/plain": [
              "         date     city        country  avg_temp_c\n",
              "0  2000-01-01  Abidjan  Côte D'Ivoire      27.293\n",
              "1  2000-02-01  Abidjan  Côte D'Ivoire      27.685\n",
              "2  2000-03-01  Abidjan  Côte D'Ivoire      29.061\n",
              "3  2000-04-01  Abidjan  Côte D'Ivoire      28.162\n",
              "4  2000-05-01  Abidjan  Côte D'Ivoire      27.547"
            ]
          },
          "execution_count": 82,
          "metadata": {},
          "output_type": "execute_result"
        }
      ],
      "source": [
        "temperatures.head()"
      ]
    },
    {
      "cell_type": "code",
      "source": [
        "# First make sure the date is in right format yyyy-mm-dd\n",
        "temperatures[\"date\"] = pd.to_datetime(temperatures[\"date\"])\n",
        "\n",
        "print(temperatures[\"date\"].dtype)"
      ],
      "metadata": {
        "colab": {
          "base_uri": "https://localhost:8080/"
        },
        "id": "PFr00gTsCCXK",
        "outputId": "2038a08b-72a7-471d-8b1a-9c8808b70bf1"
      },
      "execution_count": null,
      "outputs": [
        {
          "output_type": "stream",
          "name": "stdout",
          "text": [
            "datetime64[ns]\n"
          ]
        }
      ]
    },
    {
      "cell_type": "code",
      "source": [
        "# Add a year column to temperatures by getting year component\n",
        "temperatures[\"year\"] = temperatures[\"date\"].dt.year"
      ],
      "metadata": {
        "id": "Ktp3DmVkCtHX"
      },
      "execution_count": null,
      "outputs": []
    },
    {
      "cell_type": "code",
      "source": [
        "temperatures.head()"
      ],
      "metadata": {
        "colab": {
          "base_uri": "https://localhost:8080/",
          "height": 206
        },
        "id": "fczLBICGDBbE",
        "outputId": "2dc61e77-7e6e-4891-b88e-e45a4500a9b0"
      },
      "execution_count": null,
      "outputs": [
        {
          "output_type": "execute_result",
          "data": {
            "text/html": [
              "\n",
              "  <div id=\"df-20c5c271-d840-4e5c-bc6e-b43133a35197\">\n",
              "    <div class=\"colab-df-container\">\n",
              "      <div>\n",
              "<style scoped>\n",
              "    .dataframe tbody tr th:only-of-type {\n",
              "        vertical-align: middle;\n",
              "    }\n",
              "\n",
              "    .dataframe tbody tr th {\n",
              "        vertical-align: top;\n",
              "    }\n",
              "\n",
              "    .dataframe thead th {\n",
              "        text-align: right;\n",
              "    }\n",
              "</style>\n",
              "<table border=\"1\" class=\"dataframe\">\n",
              "  <thead>\n",
              "    <tr style=\"text-align: right;\">\n",
              "      <th></th>\n",
              "      <th>date</th>\n",
              "      <th>city</th>\n",
              "      <th>country</th>\n",
              "      <th>avg_temp_c</th>\n",
              "      <th>year</th>\n",
              "    </tr>\n",
              "  </thead>\n",
              "  <tbody>\n",
              "    <tr>\n",
              "      <th>0</th>\n",
              "      <td>2000-01-01</td>\n",
              "      <td>Abidjan</td>\n",
              "      <td>Côte D'Ivoire</td>\n",
              "      <td>27.293</td>\n",
              "      <td>2000</td>\n",
              "    </tr>\n",
              "    <tr>\n",
              "      <th>1</th>\n",
              "      <td>2000-02-01</td>\n",
              "      <td>Abidjan</td>\n",
              "      <td>Côte D'Ivoire</td>\n",
              "      <td>27.685</td>\n",
              "      <td>2000</td>\n",
              "    </tr>\n",
              "    <tr>\n",
              "      <th>2</th>\n",
              "      <td>2000-03-01</td>\n",
              "      <td>Abidjan</td>\n",
              "      <td>Côte D'Ivoire</td>\n",
              "      <td>29.061</td>\n",
              "      <td>2000</td>\n",
              "    </tr>\n",
              "    <tr>\n",
              "      <th>3</th>\n",
              "      <td>2000-04-01</td>\n",
              "      <td>Abidjan</td>\n",
              "      <td>Côte D'Ivoire</td>\n",
              "      <td>28.162</td>\n",
              "      <td>2000</td>\n",
              "    </tr>\n",
              "    <tr>\n",
              "      <th>4</th>\n",
              "      <td>2000-05-01</td>\n",
              "      <td>Abidjan</td>\n",
              "      <td>Côte D'Ivoire</td>\n",
              "      <td>27.547</td>\n",
              "      <td>2000</td>\n",
              "    </tr>\n",
              "  </tbody>\n",
              "</table>\n",
              "</div>\n",
              "      <button class=\"colab-df-convert\" onclick=\"convertToInteractive('df-20c5c271-d840-4e5c-bc6e-b43133a35197')\"\n",
              "              title=\"Convert this dataframe to an interactive table.\"\n",
              "              style=\"display:none;\">\n",
              "        \n",
              "  <svg xmlns=\"http://www.w3.org/2000/svg\" height=\"24px\"viewBox=\"0 0 24 24\"\n",
              "       width=\"24px\">\n",
              "    <path d=\"M0 0h24v24H0V0z\" fill=\"none\"/>\n",
              "    <path d=\"M18.56 5.44l.94 2.06.94-2.06 2.06-.94-2.06-.94-.94-2.06-.94 2.06-2.06.94zm-11 1L8.5 8.5l.94-2.06 2.06-.94-2.06-.94L8.5 2.5l-.94 2.06-2.06.94zm10 10l.94 2.06.94-2.06 2.06-.94-2.06-.94-.94-2.06-.94 2.06-2.06.94z\"/><path d=\"M17.41 7.96l-1.37-1.37c-.4-.4-.92-.59-1.43-.59-.52 0-1.04.2-1.43.59L10.3 9.45l-7.72 7.72c-.78.78-.78 2.05 0 2.83L4 21.41c.39.39.9.59 1.41.59.51 0 1.02-.2 1.41-.59l7.78-7.78 2.81-2.81c.8-.78.8-2.07 0-2.86zM5.41 20L4 18.59l7.72-7.72 1.47 1.35L5.41 20z\"/>\n",
              "  </svg>\n",
              "      </button>\n",
              "      \n",
              "  <style>\n",
              "    .colab-df-container {\n",
              "      display:flex;\n",
              "      flex-wrap:wrap;\n",
              "      gap: 12px;\n",
              "    }\n",
              "\n",
              "    .colab-df-convert {\n",
              "      background-color: #E8F0FE;\n",
              "      border: none;\n",
              "      border-radius: 50%;\n",
              "      cursor: pointer;\n",
              "      display: none;\n",
              "      fill: #1967D2;\n",
              "      height: 32px;\n",
              "      padding: 0 0 0 0;\n",
              "      width: 32px;\n",
              "    }\n",
              "\n",
              "    .colab-df-convert:hover {\n",
              "      background-color: #E2EBFA;\n",
              "      box-shadow: 0px 1px 2px rgba(60, 64, 67, 0.3), 0px 1px 3px 1px rgba(60, 64, 67, 0.15);\n",
              "      fill: #174EA6;\n",
              "    }\n",
              "\n",
              "    [theme=dark] .colab-df-convert {\n",
              "      background-color: #3B4455;\n",
              "      fill: #D2E3FC;\n",
              "    }\n",
              "\n",
              "    [theme=dark] .colab-df-convert:hover {\n",
              "      background-color: #434B5C;\n",
              "      box-shadow: 0px 1px 3px 1px rgba(0, 0, 0, 0.15);\n",
              "      filter: drop-shadow(0px 1px 2px rgba(0, 0, 0, 0.3));\n",
              "      fill: #FFFFFF;\n",
              "    }\n",
              "  </style>\n",
              "\n",
              "      <script>\n",
              "        const buttonEl =\n",
              "          document.querySelector('#df-20c5c271-d840-4e5c-bc6e-b43133a35197 button.colab-df-convert');\n",
              "        buttonEl.style.display =\n",
              "          google.colab.kernel.accessAllowed ? 'block' : 'none';\n",
              "\n",
              "        async function convertToInteractive(key) {\n",
              "          const element = document.querySelector('#df-20c5c271-d840-4e5c-bc6e-b43133a35197');\n",
              "          const dataTable =\n",
              "            await google.colab.kernel.invokeFunction('convertToInteractive',\n",
              "                                                     [key], {});\n",
              "          if (!dataTable) return;\n",
              "\n",
              "          const docLinkHtml = 'Like what you see? Visit the ' +\n",
              "            '<a target=\"_blank\" href=https://colab.research.google.com/notebooks/data_table.ipynb>data table notebook</a>'\n",
              "            + ' to learn more about interactive tables.';\n",
              "          element.innerHTML = '';\n",
              "          dataTable['output_type'] = 'display_data';\n",
              "          await google.colab.output.renderOutput(dataTable, element);\n",
              "          const docLink = document.createElement('div');\n",
              "          docLink.innerHTML = docLinkHtml;\n",
              "          element.appendChild(docLink);\n",
              "        }\n",
              "      </script>\n",
              "    </div>\n",
              "  </div>\n",
              "  "
            ],
            "text/plain": [
              "        date     city        country  avg_temp_c  year\n",
              "0 2000-01-01  Abidjan  Côte D'Ivoire      27.293  2000\n",
              "1 2000-02-01  Abidjan  Côte D'Ivoire      27.685  2000\n",
              "2 2000-03-01  Abidjan  Côte D'Ivoire      29.061  2000\n",
              "3 2000-04-01  Abidjan  Côte D'Ivoire      28.162  2000\n",
              "4 2000-05-01  Abidjan  Côte D'Ivoire      27.547  2000"
            ]
          },
          "metadata": {},
          "execution_count": 100
        }
      ]
    },
    {
      "cell_type": "markdown",
      "source": [
        "2. Make a pivot table of `the avg_temp_c` column, with `country` and `city` as rows, and `year` as columns. Assign to `temp_by_country_city_vs_year`, and print the result."
      ],
      "metadata": {
        "id": "gReL2oqfDK43"
      }
    },
    {
      "cell_type": "code",
      "source": [
        "temp_by_country_city_vs_year = temperatures.pivot_table(values=\"avg_temp_c\", index=[\"country\", \"city\"], columns=\"year\")\n",
        "temp_by_country_city_vs_year.head()"
      ],
      "metadata": {
        "colab": {
          "base_uri": "https://localhost:8080/",
          "height": 301
        },
        "id": "19M79yS-DC3W",
        "outputId": "8af1c1cd-525a-42f0-e1c5-dff6988d8888"
      },
      "execution_count": null,
      "outputs": [
        {
          "output_type": "execute_result",
          "data": {
            "text/html": [
              "\n",
              "  <div id=\"df-f607fbf2-fde8-4988-9262-163031907d31\">\n",
              "    <div class=\"colab-df-container\">\n",
              "      <div>\n",
              "<style scoped>\n",
              "    .dataframe tbody tr th:only-of-type {\n",
              "        vertical-align: middle;\n",
              "    }\n",
              "\n",
              "    .dataframe tbody tr th {\n",
              "        vertical-align: top;\n",
              "    }\n",
              "\n",
              "    .dataframe thead th {\n",
              "        text-align: right;\n",
              "    }\n",
              "</style>\n",
              "<table border=\"1\" class=\"dataframe\">\n",
              "  <thead>\n",
              "    <tr style=\"text-align: right;\">\n",
              "      <th></th>\n",
              "      <th>year</th>\n",
              "      <th>2000</th>\n",
              "      <th>2001</th>\n",
              "      <th>2002</th>\n",
              "      <th>2003</th>\n",
              "      <th>2004</th>\n",
              "      <th>2005</th>\n",
              "      <th>2006</th>\n",
              "      <th>2007</th>\n",
              "      <th>2008</th>\n",
              "      <th>2009</th>\n",
              "      <th>2010</th>\n",
              "      <th>2011</th>\n",
              "      <th>2012</th>\n",
              "      <th>2013</th>\n",
              "    </tr>\n",
              "    <tr>\n",
              "      <th>country</th>\n",
              "      <th>city</th>\n",
              "      <th></th>\n",
              "      <th></th>\n",
              "      <th></th>\n",
              "      <th></th>\n",
              "      <th></th>\n",
              "      <th></th>\n",
              "      <th></th>\n",
              "      <th></th>\n",
              "      <th></th>\n",
              "      <th></th>\n",
              "      <th></th>\n",
              "      <th></th>\n",
              "      <th></th>\n",
              "      <th></th>\n",
              "    </tr>\n",
              "  </thead>\n",
              "  <tbody>\n",
              "    <tr>\n",
              "      <th>Afghanistan</th>\n",
              "      <th>Kabul</th>\n",
              "      <td>15.822667</td>\n",
              "      <td>15.847917</td>\n",
              "      <td>15.714583</td>\n",
              "      <td>15.132583</td>\n",
              "      <td>16.128417</td>\n",
              "      <td>14.847500</td>\n",
              "      <td>15.798500</td>\n",
              "      <td>15.518000</td>\n",
              "      <td>15.479250</td>\n",
              "      <td>15.093333</td>\n",
              "      <td>15.676000</td>\n",
              "      <td>15.812167</td>\n",
              "      <td>14.510333</td>\n",
              "      <td>16.206125</td>\n",
              "    </tr>\n",
              "    <tr>\n",
              "      <th>Angola</th>\n",
              "      <th>Luanda</th>\n",
              "      <td>24.410333</td>\n",
              "      <td>24.427083</td>\n",
              "      <td>24.790917</td>\n",
              "      <td>24.867167</td>\n",
              "      <td>24.216167</td>\n",
              "      <td>24.414583</td>\n",
              "      <td>24.138417</td>\n",
              "      <td>24.241583</td>\n",
              "      <td>24.266333</td>\n",
              "      <td>24.325083</td>\n",
              "      <td>24.440250</td>\n",
              "      <td>24.150750</td>\n",
              "      <td>24.240083</td>\n",
              "      <td>24.553875</td>\n",
              "    </tr>\n",
              "    <tr>\n",
              "      <th rowspan=\"2\" valign=\"top\">Australia</th>\n",
              "      <th>Melbourne</th>\n",
              "      <td>14.320083</td>\n",
              "      <td>14.180000</td>\n",
              "      <td>14.075833</td>\n",
              "      <td>13.985583</td>\n",
              "      <td>13.742083</td>\n",
              "      <td>14.378500</td>\n",
              "      <td>13.991083</td>\n",
              "      <td>14.991833</td>\n",
              "      <td>14.110583</td>\n",
              "      <td>14.647417</td>\n",
              "      <td>14.231667</td>\n",
              "      <td>14.190917</td>\n",
              "      <td>14.268667</td>\n",
              "      <td>14.741500</td>\n",
              "    </tr>\n",
              "    <tr>\n",
              "      <th>Sydney</th>\n",
              "      <td>17.567417</td>\n",
              "      <td>17.854500</td>\n",
              "      <td>17.733833</td>\n",
              "      <td>17.592333</td>\n",
              "      <td>17.869667</td>\n",
              "      <td>18.028083</td>\n",
              "      <td>17.749500</td>\n",
              "      <td>18.020833</td>\n",
              "      <td>17.321083</td>\n",
              "      <td>18.175833</td>\n",
              "      <td>17.999000</td>\n",
              "      <td>17.713333</td>\n",
              "      <td>17.474333</td>\n",
              "      <td>18.089750</td>\n",
              "    </tr>\n",
              "    <tr>\n",
              "      <th>Bangladesh</th>\n",
              "      <th>Dhaka</th>\n",
              "      <td>25.905250</td>\n",
              "      <td>25.931250</td>\n",
              "      <td>26.095000</td>\n",
              "      <td>25.927417</td>\n",
              "      <td>26.136083</td>\n",
              "      <td>26.193333</td>\n",
              "      <td>26.440417</td>\n",
              "      <td>25.951333</td>\n",
              "      <td>26.004500</td>\n",
              "      <td>26.535583</td>\n",
              "      <td>26.648167</td>\n",
              "      <td>25.803250</td>\n",
              "      <td>26.283583</td>\n",
              "      <td>26.587000</td>\n",
              "    </tr>\n",
              "  </tbody>\n",
              "</table>\n",
              "</div>\n",
              "      <button class=\"colab-df-convert\" onclick=\"convertToInteractive('df-f607fbf2-fde8-4988-9262-163031907d31')\"\n",
              "              title=\"Convert this dataframe to an interactive table.\"\n",
              "              style=\"display:none;\">\n",
              "        \n",
              "  <svg xmlns=\"http://www.w3.org/2000/svg\" height=\"24px\"viewBox=\"0 0 24 24\"\n",
              "       width=\"24px\">\n",
              "    <path d=\"M0 0h24v24H0V0z\" fill=\"none\"/>\n",
              "    <path d=\"M18.56 5.44l.94 2.06.94-2.06 2.06-.94-2.06-.94-.94-2.06-.94 2.06-2.06.94zm-11 1L8.5 8.5l.94-2.06 2.06-.94-2.06-.94L8.5 2.5l-.94 2.06-2.06.94zm10 10l.94 2.06.94-2.06 2.06-.94-2.06-.94-.94-2.06-.94 2.06-2.06.94z\"/><path d=\"M17.41 7.96l-1.37-1.37c-.4-.4-.92-.59-1.43-.59-.52 0-1.04.2-1.43.59L10.3 9.45l-7.72 7.72c-.78.78-.78 2.05 0 2.83L4 21.41c.39.39.9.59 1.41.59.51 0 1.02-.2 1.41-.59l7.78-7.78 2.81-2.81c.8-.78.8-2.07 0-2.86zM5.41 20L4 18.59l7.72-7.72 1.47 1.35L5.41 20z\"/>\n",
              "  </svg>\n",
              "      </button>\n",
              "      \n",
              "  <style>\n",
              "    .colab-df-container {\n",
              "      display:flex;\n",
              "      flex-wrap:wrap;\n",
              "      gap: 12px;\n",
              "    }\n",
              "\n",
              "    .colab-df-convert {\n",
              "      background-color: #E8F0FE;\n",
              "      border: none;\n",
              "      border-radius: 50%;\n",
              "      cursor: pointer;\n",
              "      display: none;\n",
              "      fill: #1967D2;\n",
              "      height: 32px;\n",
              "      padding: 0 0 0 0;\n",
              "      width: 32px;\n",
              "    }\n",
              "\n",
              "    .colab-df-convert:hover {\n",
              "      background-color: #E2EBFA;\n",
              "      box-shadow: 0px 1px 2px rgba(60, 64, 67, 0.3), 0px 1px 3px 1px rgba(60, 64, 67, 0.15);\n",
              "      fill: #174EA6;\n",
              "    }\n",
              "\n",
              "    [theme=dark] .colab-df-convert {\n",
              "      background-color: #3B4455;\n",
              "      fill: #D2E3FC;\n",
              "    }\n",
              "\n",
              "    [theme=dark] .colab-df-convert:hover {\n",
              "      background-color: #434B5C;\n",
              "      box-shadow: 0px 1px 3px 1px rgba(0, 0, 0, 0.15);\n",
              "      filter: drop-shadow(0px 1px 2px rgba(0, 0, 0, 0.3));\n",
              "      fill: #FFFFFF;\n",
              "    }\n",
              "  </style>\n",
              "\n",
              "      <script>\n",
              "        const buttonEl =\n",
              "          document.querySelector('#df-f607fbf2-fde8-4988-9262-163031907d31 button.colab-df-convert');\n",
              "        buttonEl.style.display =\n",
              "          google.colab.kernel.accessAllowed ? 'block' : 'none';\n",
              "\n",
              "        async function convertToInteractive(key) {\n",
              "          const element = document.querySelector('#df-f607fbf2-fde8-4988-9262-163031907d31');\n",
              "          const dataTable =\n",
              "            await google.colab.kernel.invokeFunction('convertToInteractive',\n",
              "                                                     [key], {});\n",
              "          if (!dataTable) return;\n",
              "\n",
              "          const docLinkHtml = 'Like what you see? Visit the ' +\n",
              "            '<a target=\"_blank\" href=https://colab.research.google.com/notebooks/data_table.ipynb>data table notebook</a>'\n",
              "            + ' to learn more about interactive tables.';\n",
              "          element.innerHTML = '';\n",
              "          dataTable['output_type'] = 'display_data';\n",
              "          await google.colab.output.renderOutput(dataTable, element);\n",
              "          const docLink = document.createElement('div');\n",
              "          docLink.innerHTML = docLinkHtml;\n",
              "          element.appendChild(docLink);\n",
              "        }\n",
              "      </script>\n",
              "    </div>\n",
              "  </div>\n",
              "  "
            ],
            "text/plain": [
              "year                        2000       2001  ...       2012       2013\n",
              "country     city                             ...                      \n",
              "Afghanistan Kabul      15.822667  15.847917  ...  14.510333  16.206125\n",
              "Angola      Luanda     24.410333  24.427083  ...  24.240083  24.553875\n",
              "Australia   Melbourne  14.320083  14.180000  ...  14.268667  14.741500\n",
              "            Sydney     17.567417  17.854500  ...  17.474333  18.089750\n",
              "Bangladesh  Dhaka      25.905250  25.931250  ...  26.283583  26.587000\n",
              "\n",
              "[5 rows x 14 columns]"
            ]
          },
          "metadata": {},
          "execution_count": 108
        }
      ]
    },
    {
      "cell_type": "markdown",
      "source": [
        "### Subsetting pivot tables\n",
        "A pivot table is just a DataFrame with sorted indexes, so the techniques you have learned already can be used to subset them. In particular, the `.loc[]` + slicing combination is often helpful."
      ],
      "metadata": {
        "id": "OiEJLJvVEeeN"
      }
    },
    {
      "cell_type": "markdown",
      "source": [
        "* Use `.loc[]` on `temp_by_country_city_vs_year` to take subsets.\n",
        "\n",
        " * From Egypt to India.\n",
        " * From Egypt, Cairo to India, Delhi.\n",
        " * From Egypt, Cairo to India, Delhi, and 2005 to 2010."
      ],
      "metadata": {
        "id": "EPaKgV2gFbsk"
      }
    },
    {
      "cell_type": "code",
      "source": [
        "# Subset for Egypt to India\n",
        "print(temp_by_country_city_vs_year.loc[\"Egypt\":\"India\"])"
      ],
      "metadata": {
        "colab": {
          "base_uri": "https://localhost:8080/"
        },
        "id": "bjgx2JVNDtXZ",
        "outputId": "93fc38ba-f705-471d-c443-b211f34d15c8"
      },
      "execution_count": null,
      "outputs": [
        {
          "output_type": "stream",
          "name": "stdout",
          "text": [
            "year                       2000       2001  ...       2012       2013\n",
            "country  city                               ...                      \n",
            "Egypt    Alexandria   20.744500  21.454583  ...  21.552583  21.438500\n",
            "         Cairo        21.486167  22.330833  ...  22.484250  22.907000\n",
            "         Gizeh        21.486167  22.330833  ...  22.484250  22.907000\n",
            "Ethiopia Addis Abeba  18.241250  18.296417  ...  18.448583  19.539000\n",
            "France   Paris        11.739667  11.371250  ...  11.219917  11.011625\n",
            "Germany  Berlin       10.963667   9.690250  ...   9.964333  10.121500\n",
            "India    Ahmadabad    27.436000  27.198083  ...  27.027250  27.608625\n",
            "         Bangalore    25.337917  25.528167  ...  26.042333  26.610500\n",
            "         Bombay       27.203667  27.243667  ...  27.192500  26.713000\n",
            "         Calcutta     26.491333  26.515167  ...  26.935083  27.369250\n",
            "         Delhi        26.048333  25.862917  ...  25.889417  26.709250\n",
            "         Hyderabad    27.231833  27.555167  ...  28.018583  28.851250\n",
            "         Jaipur       26.430250  26.023000  ...  25.884500  26.844125\n",
            "         Kanpur       25.353917  25.326500  ...  25.445417  26.121250\n",
            "         Lakhnau      25.353917  25.326500  ...  25.445417  26.121250\n",
            "         Madras       28.811667  29.162917  ...  29.778417  30.411750\n",
            "         Nagpur       26.181417  26.321667  ...  26.327917  27.112375\n",
            "         New Delhi    26.048333  25.862917  ...  25.889417  26.709250\n",
            "         Pune         25.110917  25.337833  ...  25.296833  25.847625\n",
            "         Surat        27.029000  26.897250  ...  26.889250  27.437750\n",
            "\n",
            "[20 rows x 14 columns]\n"
          ]
        }
      ]
    },
    {
      "cell_type": "code",
      "source": [
        "# Subset for Egypt, Cairo to India, Delhi\n",
        "print(temp_by_country_city_vs_year.loc[(\"Egypt\", \"Cairo\"):(\"India\", \"Delhi\")])"
      ],
      "metadata": {
        "colab": {
          "base_uri": "https://localhost:8080/"
        },
        "id": "MBV3fYvUG7Sn",
        "outputId": "42c8f381-2aaa-417a-bffc-2b72e786a4d4"
      },
      "execution_count": null,
      "outputs": [
        {
          "output_type": "stream",
          "name": "stdout",
          "text": [
            "year                       2000       2001  ...       2012       2013\n",
            "country  city                               ...                      \n",
            "Egypt    Cairo        21.486167  22.330833  ...  22.484250  22.907000\n",
            "         Gizeh        21.486167  22.330833  ...  22.484250  22.907000\n",
            "Ethiopia Addis Abeba  18.241250  18.296417  ...  18.448583  19.539000\n",
            "France   Paris        11.739667  11.371250  ...  11.219917  11.011625\n",
            "Germany  Berlin       10.963667   9.690250  ...   9.964333  10.121500\n",
            "India    Ahmadabad    27.436000  27.198083  ...  27.027250  27.608625\n",
            "         Bangalore    25.337917  25.528167  ...  26.042333  26.610500\n",
            "         Bombay       27.203667  27.243667  ...  27.192500  26.713000\n",
            "         Calcutta     26.491333  26.515167  ...  26.935083  27.369250\n",
            "         Delhi        26.048333  25.862917  ...  25.889417  26.709250\n",
            "\n",
            "[10 rows x 14 columns]\n"
          ]
        }
      ]
    },
    {
      "cell_type": "code",
      "source": [
        "# Subset in both directions at once aka from Egypt, Cairo to India, Delhi, and 2005 to 2010\n",
        "print(temp_by_country_city_vs_year.loc[(\"Egypt\", \"Cairo\"):(\"India\", \"Delhi\"), \"2005\": \"2010\"])"
      ],
      "metadata": {
        "colab": {
          "base_uri": "https://localhost:8080/"
        },
        "id": "63QrGoqKHuqP",
        "outputId": "3bd050cf-6a71-40bb-bc5b-8943666ba7ab"
      },
      "execution_count": null,
      "outputs": [
        {
          "output_type": "stream",
          "name": "stdout",
          "text": [
            "year                       2005       2006  ...       2009       2010\n",
            "country  city                               ...                      \n",
            "Egypt    Cairo        22.006500  22.050000  ...  22.625000  23.718250\n",
            "         Gizeh        22.006500  22.050000  ...  22.625000  23.718250\n",
            "Ethiopia Addis Abeba  18.312833  18.427083  ...  18.765333  18.298250\n",
            "France   Paris        11.552917  11.788500  ...  11.464083  10.409833\n",
            "Germany  Berlin        9.919083  10.545333  ...  10.062500   8.606833\n",
            "India    Ahmadabad    26.828083  27.282833  ...  28.095833  28.017833\n",
            "         Bangalore    25.476500  25.418250  ...  25.725750  25.705250\n",
            "         Bombay       27.035750  27.381500  ...  27.844500  27.765417\n",
            "         Calcutta     26.729167  26.986250  ...  27.153250  27.288833\n",
            "         Delhi        25.716083  26.365917  ...  26.554250  26.520250\n",
            "\n",
            "[10 rows x 6 columns]\n"
          ]
        }
      ]
    },
    {
      "cell_type": "markdown",
      "source": [
        "### Calculating on a pivot table\n",
        "Pivot tables are filled with summary statistics, but they are only a first step to finding something insightful. Often you'll need to perform further calculations on them. `A common thing to do is to find the rows or columns where the highest or lowest value occurs.`\n",
        "\n",
        "Recall from Chapter 1 that you can easily subset a Series or DataFrame to find rows of interest using a logical condition inside of square brackets. For example: `series[series > value]`."
      ],
      "metadata": {
        "id": "5MXUm9YuINHU"
      }
    },
    {
      "cell_type": "code",
      "source": [
        "temp_by_country_city_vs_year.head()"
      ],
      "metadata": {
        "colab": {
          "base_uri": "https://localhost:8080/",
          "height": 301
        },
        "id": "jbdCwilmNGhi",
        "outputId": "f9760c7f-b9eb-4ea6-d595-e8e1d0d1d32b"
      },
      "execution_count": null,
      "outputs": [
        {
          "output_type": "execute_result",
          "data": {
            "text/html": [
              "\n",
              "  <div id=\"df-eea6e78a-3c5e-4f34-9390-f8ac7bfcbc60\">\n",
              "    <div class=\"colab-df-container\">\n",
              "      <div>\n",
              "<style scoped>\n",
              "    .dataframe tbody tr th:only-of-type {\n",
              "        vertical-align: middle;\n",
              "    }\n",
              "\n",
              "    .dataframe tbody tr th {\n",
              "        vertical-align: top;\n",
              "    }\n",
              "\n",
              "    .dataframe thead th {\n",
              "        text-align: right;\n",
              "    }\n",
              "</style>\n",
              "<table border=\"1\" class=\"dataframe\">\n",
              "  <thead>\n",
              "    <tr style=\"text-align: right;\">\n",
              "      <th></th>\n",
              "      <th>year</th>\n",
              "      <th>2000</th>\n",
              "      <th>2001</th>\n",
              "      <th>2002</th>\n",
              "      <th>2003</th>\n",
              "      <th>2004</th>\n",
              "      <th>2005</th>\n",
              "      <th>2006</th>\n",
              "      <th>2007</th>\n",
              "      <th>2008</th>\n",
              "      <th>2009</th>\n",
              "      <th>2010</th>\n",
              "      <th>2011</th>\n",
              "      <th>2012</th>\n",
              "      <th>2013</th>\n",
              "    </tr>\n",
              "    <tr>\n",
              "      <th>country</th>\n",
              "      <th>city</th>\n",
              "      <th></th>\n",
              "      <th></th>\n",
              "      <th></th>\n",
              "      <th></th>\n",
              "      <th></th>\n",
              "      <th></th>\n",
              "      <th></th>\n",
              "      <th></th>\n",
              "      <th></th>\n",
              "      <th></th>\n",
              "      <th></th>\n",
              "      <th></th>\n",
              "      <th></th>\n",
              "      <th></th>\n",
              "    </tr>\n",
              "  </thead>\n",
              "  <tbody>\n",
              "    <tr>\n",
              "      <th>Afghanistan</th>\n",
              "      <th>Kabul</th>\n",
              "      <td>15.822667</td>\n",
              "      <td>15.847917</td>\n",
              "      <td>15.714583</td>\n",
              "      <td>15.132583</td>\n",
              "      <td>16.128417</td>\n",
              "      <td>14.847500</td>\n",
              "      <td>15.798500</td>\n",
              "      <td>15.518000</td>\n",
              "      <td>15.479250</td>\n",
              "      <td>15.093333</td>\n",
              "      <td>15.676000</td>\n",
              "      <td>15.812167</td>\n",
              "      <td>14.510333</td>\n",
              "      <td>16.206125</td>\n",
              "    </tr>\n",
              "    <tr>\n",
              "      <th>Angola</th>\n",
              "      <th>Luanda</th>\n",
              "      <td>24.410333</td>\n",
              "      <td>24.427083</td>\n",
              "      <td>24.790917</td>\n",
              "      <td>24.867167</td>\n",
              "      <td>24.216167</td>\n",
              "      <td>24.414583</td>\n",
              "      <td>24.138417</td>\n",
              "      <td>24.241583</td>\n",
              "      <td>24.266333</td>\n",
              "      <td>24.325083</td>\n",
              "      <td>24.440250</td>\n",
              "      <td>24.150750</td>\n",
              "      <td>24.240083</td>\n",
              "      <td>24.553875</td>\n",
              "    </tr>\n",
              "    <tr>\n",
              "      <th rowspan=\"2\" valign=\"top\">Australia</th>\n",
              "      <th>Melbourne</th>\n",
              "      <td>14.320083</td>\n",
              "      <td>14.180000</td>\n",
              "      <td>14.075833</td>\n",
              "      <td>13.985583</td>\n",
              "      <td>13.742083</td>\n",
              "      <td>14.378500</td>\n",
              "      <td>13.991083</td>\n",
              "      <td>14.991833</td>\n",
              "      <td>14.110583</td>\n",
              "      <td>14.647417</td>\n",
              "      <td>14.231667</td>\n",
              "      <td>14.190917</td>\n",
              "      <td>14.268667</td>\n",
              "      <td>14.741500</td>\n",
              "    </tr>\n",
              "    <tr>\n",
              "      <th>Sydney</th>\n",
              "      <td>17.567417</td>\n",
              "      <td>17.854500</td>\n",
              "      <td>17.733833</td>\n",
              "      <td>17.592333</td>\n",
              "      <td>17.869667</td>\n",
              "      <td>18.028083</td>\n",
              "      <td>17.749500</td>\n",
              "      <td>18.020833</td>\n",
              "      <td>17.321083</td>\n",
              "      <td>18.175833</td>\n",
              "      <td>17.999000</td>\n",
              "      <td>17.713333</td>\n",
              "      <td>17.474333</td>\n",
              "      <td>18.089750</td>\n",
              "    </tr>\n",
              "    <tr>\n",
              "      <th>Bangladesh</th>\n",
              "      <th>Dhaka</th>\n",
              "      <td>25.905250</td>\n",
              "      <td>25.931250</td>\n",
              "      <td>26.095000</td>\n",
              "      <td>25.927417</td>\n",
              "      <td>26.136083</td>\n",
              "      <td>26.193333</td>\n",
              "      <td>26.440417</td>\n",
              "      <td>25.951333</td>\n",
              "      <td>26.004500</td>\n",
              "      <td>26.535583</td>\n",
              "      <td>26.648167</td>\n",
              "      <td>25.803250</td>\n",
              "      <td>26.283583</td>\n",
              "      <td>26.587000</td>\n",
              "    </tr>\n",
              "  </tbody>\n",
              "</table>\n",
              "</div>\n",
              "      <button class=\"colab-df-convert\" onclick=\"convertToInteractive('df-eea6e78a-3c5e-4f34-9390-f8ac7bfcbc60')\"\n",
              "              title=\"Convert this dataframe to an interactive table.\"\n",
              "              style=\"display:none;\">\n",
              "        \n",
              "  <svg xmlns=\"http://www.w3.org/2000/svg\" height=\"24px\"viewBox=\"0 0 24 24\"\n",
              "       width=\"24px\">\n",
              "    <path d=\"M0 0h24v24H0V0z\" fill=\"none\"/>\n",
              "    <path d=\"M18.56 5.44l.94 2.06.94-2.06 2.06-.94-2.06-.94-.94-2.06-.94 2.06-2.06.94zm-11 1L8.5 8.5l.94-2.06 2.06-.94-2.06-.94L8.5 2.5l-.94 2.06-2.06.94zm10 10l.94 2.06.94-2.06 2.06-.94-2.06-.94-.94-2.06-.94 2.06-2.06.94z\"/><path d=\"M17.41 7.96l-1.37-1.37c-.4-.4-.92-.59-1.43-.59-.52 0-1.04.2-1.43.59L10.3 9.45l-7.72 7.72c-.78.78-.78 2.05 0 2.83L4 21.41c.39.39.9.59 1.41.59.51 0 1.02-.2 1.41-.59l7.78-7.78 2.81-2.81c.8-.78.8-2.07 0-2.86zM5.41 20L4 18.59l7.72-7.72 1.47 1.35L5.41 20z\"/>\n",
              "  </svg>\n",
              "      </button>\n",
              "      \n",
              "  <style>\n",
              "    .colab-df-container {\n",
              "      display:flex;\n",
              "      flex-wrap:wrap;\n",
              "      gap: 12px;\n",
              "    }\n",
              "\n",
              "    .colab-df-convert {\n",
              "      background-color: #E8F0FE;\n",
              "      border: none;\n",
              "      border-radius: 50%;\n",
              "      cursor: pointer;\n",
              "      display: none;\n",
              "      fill: #1967D2;\n",
              "      height: 32px;\n",
              "      padding: 0 0 0 0;\n",
              "      width: 32px;\n",
              "    }\n",
              "\n",
              "    .colab-df-convert:hover {\n",
              "      background-color: #E2EBFA;\n",
              "      box-shadow: 0px 1px 2px rgba(60, 64, 67, 0.3), 0px 1px 3px 1px rgba(60, 64, 67, 0.15);\n",
              "      fill: #174EA6;\n",
              "    }\n",
              "\n",
              "    [theme=dark] .colab-df-convert {\n",
              "      background-color: #3B4455;\n",
              "      fill: #D2E3FC;\n",
              "    }\n",
              "\n",
              "    [theme=dark] .colab-df-convert:hover {\n",
              "      background-color: #434B5C;\n",
              "      box-shadow: 0px 1px 3px 1px rgba(0, 0, 0, 0.15);\n",
              "      filter: drop-shadow(0px 1px 2px rgba(0, 0, 0, 0.3));\n",
              "      fill: #FFFFFF;\n",
              "    }\n",
              "  </style>\n",
              "\n",
              "      <script>\n",
              "        const buttonEl =\n",
              "          document.querySelector('#df-eea6e78a-3c5e-4f34-9390-f8ac7bfcbc60 button.colab-df-convert');\n",
              "        buttonEl.style.display =\n",
              "          google.colab.kernel.accessAllowed ? 'block' : 'none';\n",
              "\n",
              "        async function convertToInteractive(key) {\n",
              "          const element = document.querySelector('#df-eea6e78a-3c5e-4f34-9390-f8ac7bfcbc60');\n",
              "          const dataTable =\n",
              "            await google.colab.kernel.invokeFunction('convertToInteractive',\n",
              "                                                     [key], {});\n",
              "          if (!dataTable) return;\n",
              "\n",
              "          const docLinkHtml = 'Like what you see? Visit the ' +\n",
              "            '<a target=\"_blank\" href=https://colab.research.google.com/notebooks/data_table.ipynb>data table notebook</a>'\n",
              "            + ' to learn more about interactive tables.';\n",
              "          element.innerHTML = '';\n",
              "          dataTable['output_type'] = 'display_data';\n",
              "          await google.colab.output.renderOutput(dataTable, element);\n",
              "          const docLink = document.createElement('div');\n",
              "          docLink.innerHTML = docLinkHtml;\n",
              "          element.appendChild(docLink);\n",
              "        }\n",
              "      </script>\n",
              "    </div>\n",
              "  </div>\n",
              "  "
            ],
            "text/plain": [
              "year                        2000       2001  ...       2012       2013\n",
              "country     city                             ...                      \n",
              "Afghanistan Kabul      15.822667  15.847917  ...  14.510333  16.206125\n",
              "Angola      Luanda     24.410333  24.427083  ...  24.240083  24.553875\n",
              "Australia   Melbourne  14.320083  14.180000  ...  14.268667  14.741500\n",
              "            Sydney     17.567417  17.854500  ...  17.474333  18.089750\n",
              "Bangladesh  Dhaka      25.905250  25.931250  ...  26.283583  26.587000\n",
              "\n",
              "[5 rows x 14 columns]"
            ]
          },
          "metadata": {},
          "execution_count": 114
        }
      ]
    },
    {
      "cell_type": "markdown",
      "source": [
        "1. Calculate the mean temperature for each year, assigning to `mean_temp_by_year`."
      ],
      "metadata": {
        "id": "SGtJxo-gI7h3"
      }
    },
    {
      "cell_type": "code",
      "source": [
        "# Get the worldwide mean temp by year\n",
        "mean_temp_by_year = temp_by_country_city_vs_year.mean()\n",
        "mean_temp_by_year.head()"
      ],
      "metadata": {
        "colab": {
          "base_uri": "https://localhost:8080/"
        },
        "id": "2v07Mt3SI-fr",
        "outputId": "75988b91-6473-4d0c-d428-4045ba6e3de5"
      },
      "execution_count": null,
      "outputs": [
        {
          "output_type": "execute_result",
          "data": {
            "text/plain": [
              "year\n",
              "2000    19.506243\n",
              "2001    19.679352\n",
              "2002    19.855685\n",
              "2003    19.630197\n",
              "2004    19.672204\n",
              "dtype: float64"
            ]
          },
          "metadata": {},
          "execution_count": 117
        }
      ]
    },
    {
      "cell_type": "markdown",
      "source": [
        "2. Filter `mean_temp_by_year` for the year that had the `highest mean` temperature."
      ],
      "metadata": {
        "id": "crkZ5QSlNrDO"
      }
    },
    {
      "cell_type": "code",
      "source": [
        "# Filter for the year that had the highest mean temp\n",
        "print(mean_temp_by_year[mean_temp_by_year == mean_temp_by_year.max()])"
      ],
      "metadata": {
        "colab": {
          "base_uri": "https://localhost:8080/"
        },
        "id": "BJ_g3kWVNWUy",
        "outputId": "31d52395-bcaf-4347-f401-8965c14ac92d"
      },
      "execution_count": null,
      "outputs": [
        {
          "output_type": "stream",
          "name": "stdout",
          "text": [
            "year\n",
            "2013    20.312285\n",
            "dtype: float64\n"
          ]
        }
      ]
    },
    {
      "cell_type": "markdown",
      "source": [
        "3. Calculate the `mean temperature` for `each city` (across columns), assigning to `mean_temp_by_city`."
      ],
      "metadata": {
        "id": "wKkqzU2uO-7Z"
      }
    },
    {
      "cell_type": "code",
      "source": [
        "# Get the mean temp by city\n",
        "mean_temp_by_city = temp_by_country_city_vs_year.mean(axis=\"columns\")\n",
        "mean_temp_by_city.head()"
      ],
      "metadata": {
        "colab": {
          "base_uri": "https://localhost:8080/"
        },
        "id": "CuSJD2c_Ozg-",
        "outputId": "fcb06eae-9642-4411-86b9-3e3b8b3635c9"
      },
      "execution_count": null,
      "outputs": [
        {
          "output_type": "execute_result",
          "data": {
            "text/plain": [
              "country      city     \n",
              "Afghanistan  Kabul        15.541955\n",
              "Angola       Luanda       24.391616\n",
              "Australia    Melbourne    14.275411\n",
              "             Sydney       17.799250\n",
              "Bangladesh   Dhaka        26.174440\n",
              "dtype: float64"
            ]
          },
          "metadata": {},
          "execution_count": 120
        }
      ]
    },
    {
      "cell_type": "markdown",
      "source": [
        "4. Filter `mean_temp_by_city` for the city that had the `lowest mean temperature`."
      ],
      "metadata": {
        "id": "7yWujdNEPWBh"
      }
    },
    {
      "cell_type": "code",
      "source": [
        "# Filter for the city that had the lowest mean temp\n",
        "print(mean_temp_by_city[mean_temp_by_city == mean_temp_by_city.min()])"
      ],
      "metadata": {
        "colab": {
          "base_uri": "https://localhost:8080/"
        },
        "id": "3hlmRXwqPTeG",
        "outputId": "93acc2e1-5ee6-426d-d5ec-2291e54f2d3c"
      },
      "execution_count": null,
      "outputs": [
        {
          "output_type": "stream",
          "name": "stdout",
          "text": [
            "country  city  \n",
            "China    Harbin    4.876551\n",
            "dtype: float64\n"
          ]
        }
      ]
    },
    {
      "cell_type": "markdown",
      "source": [
        "# Visualizing your data"
      ],
      "metadata": {
        "id": "hFv0Fuy8gu9f"
      }
    },
    {
      "cell_type": "markdown",
      "source": [
        "The file given is in `.pkl` format. We need to convert it into `.csv` to load."
      ],
      "metadata": {
        "id": "MQ2rrUW7in2f"
      }
    },
    {
      "cell_type": "code",
      "source": [
        "import pickle as pkl\n",
        "import pandas as pd\n",
        "with open(\"avoplotto.pkl\", \"rb\") as f:\n",
        "    avocado = pkl.load(f)\n",
        "    \n",
        "avocados = pd.DataFrame(avocado)\n",
        "avocados.to_csv(r'avocadoprices.csv')"
      ],
      "metadata": {
        "id": "G1Vz_1vQiqBY"
      },
      "execution_count": null,
      "outputs": []
    },
    {
      "cell_type": "markdown",
      "source": [
        "## Which avocado size is most popular?\n",
        "Avocados are increasingly popular and delicious in guacamole and on toast. The Hass Avocado Board keeps track of avocado supply and demand across the USA, including the sales of three different sizes of avocado. In this exercise, you'll use a bar plot to figure out `which size is the most popular`.\n",
        "\n",
        "`Bar plots` are great for `revealing relationships between categorical` (size) and `numeric` (number sold) variables, but you'll often have to manipulate your data first in order to get the numbers you need for plotting."
      ],
      "metadata": {
        "id": "mHjehuVKjyRI"
      }
    },
    {
      "cell_type": "code",
      "source": [
        "# Import matplotlib.pyplot with alias plt\n",
        "import matplotlib.pyplot as plt"
      ],
      "metadata": {
        "id": "VxhLN9OWkPDh"
      },
      "execution_count": null,
      "outputs": []
    },
    {
      "cell_type": "markdown",
      "source": [
        "1. Print the head of the avocados dataset to see what columns are available."
      ],
      "metadata": {
        "id": "Tesnz7I5kDCe"
      }
    },
    {
      "cell_type": "code",
      "source": [
        "avocados.head()"
      ],
      "metadata": {
        "colab": {
          "base_uri": "https://localhost:8080/",
          "height": 206
        },
        "id": "8pqhh5QQjeTf",
        "outputId": "6a8531cc-8475-47bb-d77c-7cee916e6c39"
      },
      "execution_count": null,
      "outputs": [
        {
          "output_type": "execute_result",
          "data": {
            "text/html": [
              "\n",
              "  <div id=\"df-efd3f007-5327-4740-81e2-882a5abf4918\">\n",
              "    <div class=\"colab-df-container\">\n",
              "      <div>\n",
              "<style scoped>\n",
              "    .dataframe tbody tr th:only-of-type {\n",
              "        vertical-align: middle;\n",
              "    }\n",
              "\n",
              "    .dataframe tbody tr th {\n",
              "        vertical-align: top;\n",
              "    }\n",
              "\n",
              "    .dataframe thead th {\n",
              "        text-align: right;\n",
              "    }\n",
              "</style>\n",
              "<table border=\"1\" class=\"dataframe\">\n",
              "  <thead>\n",
              "    <tr style=\"text-align: right;\">\n",
              "      <th></th>\n",
              "      <th>date</th>\n",
              "      <th>type</th>\n",
              "      <th>year</th>\n",
              "      <th>avg_price</th>\n",
              "      <th>size</th>\n",
              "      <th>nb_sold</th>\n",
              "    </tr>\n",
              "  </thead>\n",
              "  <tbody>\n",
              "    <tr>\n",
              "      <th>0</th>\n",
              "      <td>2015-12-27</td>\n",
              "      <td>conventional</td>\n",
              "      <td>2015</td>\n",
              "      <td>0.95</td>\n",
              "      <td>small</td>\n",
              "      <td>9626901.09</td>\n",
              "    </tr>\n",
              "    <tr>\n",
              "      <th>1</th>\n",
              "      <td>2015-12-20</td>\n",
              "      <td>conventional</td>\n",
              "      <td>2015</td>\n",
              "      <td>0.98</td>\n",
              "      <td>small</td>\n",
              "      <td>8710021.76</td>\n",
              "    </tr>\n",
              "    <tr>\n",
              "      <th>2</th>\n",
              "      <td>2015-12-13</td>\n",
              "      <td>conventional</td>\n",
              "      <td>2015</td>\n",
              "      <td>0.93</td>\n",
              "      <td>small</td>\n",
              "      <td>9855053.66</td>\n",
              "    </tr>\n",
              "    <tr>\n",
              "      <th>3</th>\n",
              "      <td>2015-12-06</td>\n",
              "      <td>conventional</td>\n",
              "      <td>2015</td>\n",
              "      <td>0.89</td>\n",
              "      <td>small</td>\n",
              "      <td>9405464.36</td>\n",
              "    </tr>\n",
              "    <tr>\n",
              "      <th>4</th>\n",
              "      <td>2015-11-29</td>\n",
              "      <td>conventional</td>\n",
              "      <td>2015</td>\n",
              "      <td>0.99</td>\n",
              "      <td>small</td>\n",
              "      <td>8094803.56</td>\n",
              "    </tr>\n",
              "  </tbody>\n",
              "</table>\n",
              "</div>\n",
              "      <button class=\"colab-df-convert\" onclick=\"convertToInteractive('df-efd3f007-5327-4740-81e2-882a5abf4918')\"\n",
              "              title=\"Convert this dataframe to an interactive table.\"\n",
              "              style=\"display:none;\">\n",
              "        \n",
              "  <svg xmlns=\"http://www.w3.org/2000/svg\" height=\"24px\"viewBox=\"0 0 24 24\"\n",
              "       width=\"24px\">\n",
              "    <path d=\"M0 0h24v24H0V0z\" fill=\"none\"/>\n",
              "    <path d=\"M18.56 5.44l.94 2.06.94-2.06 2.06-.94-2.06-.94-.94-2.06-.94 2.06-2.06.94zm-11 1L8.5 8.5l.94-2.06 2.06-.94-2.06-.94L8.5 2.5l-.94 2.06-2.06.94zm10 10l.94 2.06.94-2.06 2.06-.94-2.06-.94-.94-2.06-.94 2.06-2.06.94z\"/><path d=\"M17.41 7.96l-1.37-1.37c-.4-.4-.92-.59-1.43-.59-.52 0-1.04.2-1.43.59L10.3 9.45l-7.72 7.72c-.78.78-.78 2.05 0 2.83L4 21.41c.39.39.9.59 1.41.59.51 0 1.02-.2 1.41-.59l7.78-7.78 2.81-2.81c.8-.78.8-2.07 0-2.86zM5.41 20L4 18.59l7.72-7.72 1.47 1.35L5.41 20z\"/>\n",
              "  </svg>\n",
              "      </button>\n",
              "      \n",
              "  <style>\n",
              "    .colab-df-container {\n",
              "      display:flex;\n",
              "      flex-wrap:wrap;\n",
              "      gap: 12px;\n",
              "    }\n",
              "\n",
              "    .colab-df-convert {\n",
              "      background-color: #E8F0FE;\n",
              "      border: none;\n",
              "      border-radius: 50%;\n",
              "      cursor: pointer;\n",
              "      display: none;\n",
              "      fill: #1967D2;\n",
              "      height: 32px;\n",
              "      padding: 0 0 0 0;\n",
              "      width: 32px;\n",
              "    }\n",
              "\n",
              "    .colab-df-convert:hover {\n",
              "      background-color: #E2EBFA;\n",
              "      box-shadow: 0px 1px 2px rgba(60, 64, 67, 0.3), 0px 1px 3px 1px rgba(60, 64, 67, 0.15);\n",
              "      fill: #174EA6;\n",
              "    }\n",
              "\n",
              "    [theme=dark] .colab-df-convert {\n",
              "      background-color: #3B4455;\n",
              "      fill: #D2E3FC;\n",
              "    }\n",
              "\n",
              "    [theme=dark] .colab-df-convert:hover {\n",
              "      background-color: #434B5C;\n",
              "      box-shadow: 0px 1px 3px 1px rgba(0, 0, 0, 0.15);\n",
              "      filter: drop-shadow(0px 1px 2px rgba(0, 0, 0, 0.3));\n",
              "      fill: #FFFFFF;\n",
              "    }\n",
              "  </style>\n",
              "\n",
              "      <script>\n",
              "        const buttonEl =\n",
              "          document.querySelector('#df-efd3f007-5327-4740-81e2-882a5abf4918 button.colab-df-convert');\n",
              "        buttonEl.style.display =\n",
              "          google.colab.kernel.accessAllowed ? 'block' : 'none';\n",
              "\n",
              "        async function convertToInteractive(key) {\n",
              "          const element = document.querySelector('#df-efd3f007-5327-4740-81e2-882a5abf4918');\n",
              "          const dataTable =\n",
              "            await google.colab.kernel.invokeFunction('convertToInteractive',\n",
              "                                                     [key], {});\n",
              "          if (!dataTable) return;\n",
              "\n",
              "          const docLinkHtml = 'Like what you see? Visit the ' +\n",
              "            '<a target=\"_blank\" href=https://colab.research.google.com/notebooks/data_table.ipynb>data table notebook</a>'\n",
              "            + ' to learn more about interactive tables.';\n",
              "          element.innerHTML = '';\n",
              "          dataTable['output_type'] = 'display_data';\n",
              "          await google.colab.output.renderOutput(dataTable, element);\n",
              "          const docLink = document.createElement('div');\n",
              "          docLink.innerHTML = docLinkHtml;\n",
              "          element.appendChild(docLink);\n",
              "        }\n",
              "      </script>\n",
              "    </div>\n",
              "  </div>\n",
              "  "
            ],
            "text/plain": [
              "         date          type  year  avg_price   size     nb_sold\n",
              "0  2015-12-27  conventional  2015       0.95  small  9626901.09\n",
              "1  2015-12-20  conventional  2015       0.98  small  8710021.76\n",
              "2  2015-12-13  conventional  2015       0.93  small  9855053.66\n",
              "3  2015-12-06  conventional  2015       0.89  small  9405464.36\n",
              "4  2015-11-29  conventional  2015       0.99  small  8094803.56"
            ]
          },
          "metadata": {},
          "execution_count": 8
        }
      ]
    },
    {
      "cell_type": "markdown",
      "source": [
        "2. For each avocado size group, calculate the `total number sold`, storing as `nb_sold_by_size.`"
      ],
      "metadata": {
        "id": "E-0SMxAEk5Jw"
      }
    },
    {
      "cell_type": "code",
      "source": [
        "nb_sold_by_size = avocados.groupby('size')['nb_sold'].sum()\n",
        "nb_sold_by_size"
      ],
      "metadata": {
        "colab": {
          "base_uri": "https://localhost:8080/"
        },
        "id": "JgB5fjfEkKDd",
        "outputId": "ec39583b-b92a-46c9-ff0c-3bbad0316c49"
      },
      "execution_count": null,
      "outputs": [
        {
          "output_type": "execute_result",
          "data": {
            "text/plain": [
              "size\n",
              "extra_large    1.561752e+08\n",
              "large          2.015012e+09\n",
              "small          2.054936e+09\n",
              "Name: nb_sold, dtype: float64"
            ]
          },
          "metadata": {},
          "execution_count": 11
        }
      ]
    },
    {
      "cell_type": "markdown",
      "source": [
        "3. Create a bar plot of the number of avocados sold by size. Show the plot."
      ],
      "metadata": {
        "id": "apgrmaYMloVD"
      }
    },
    {
      "cell_type": "code",
      "source": [
        "# Create a bar plot of the number of avocados sold by size\n",
        "nb_sold_by_size.plot(kind='bar', title= \"number of avocados sold by size\")\n",
        "\n",
        "# Print the plot\n",
        "plt.show()"
      ],
      "metadata": {
        "colab": {
          "base_uri": "https://localhost:8080/",
          "height": 342
        },
        "id": "vrZ3fnWzlIXl",
        "outputId": "85e7fb17-5fc3-49bf-b9f2-b264afcfc201"
      },
      "execution_count": null,
      "outputs": [
        {
          "output_type": "display_data",
          "data": {
            "image/png": "[encoded data removed]",
            "text/plain": [
              "<Figure size 432x288 with 1 Axes>"
            ]
          },
          "metadata": {
            "needs_background": "light"
          }
        }
      ]
    },
    {
      "cell_type": "markdown",
      "source": [
        "## Changes in sales over time\n",
        "Line plots are designed to visualize the `relationship between two numeric variables`, where each data values is connected to the next one. They are especially `useful for visualizing the change in a number over time` since `each time point is naturally connected to the next time point`. In this exercise, you'll visualize the change in avocado sales over three years."
      ],
      "metadata": {
        "id": "q7RHUTZ1nTXG"
      }
    },
    {
      "cell_type": "markdown",
      "source": [
        "1. Get the total number of avocados sold on each date. The DataFrame has two rows for each date -- one for `organic`, and one for `conventional`. Save this as `nb_sold_by_date`."
      ],
      "metadata": {
        "id": "oY-WcizSngDW"
      }
    },
    {
      "cell_type": "code",
      "source": [
        "nb_sold_by_date = avocados.groupby(['date','type'])['nb_sold'].sum()\n",
        "nb_sold_by_date"
      ],
      "metadata": {
        "colab": {
          "base_uri": "https://localhost:8080/"
        },
        "id": "qA6ucnSPly2g",
        "outputId": "a074b281-4f02-40ec-da5f-4b9caf59f302"
      },
      "execution_count": null,
      "outputs": [
        {
          "output_type": "execute_result",
          "data": {
            "text/plain": [
              "date        type        \n",
              "2015-01-04  conventional    26825337.71\n",
              "            organic           454268.32\n",
              "2015-01-11  conventional    24546158.57\n",
              "            organic           535768.76\n",
              "2015-01-18  conventional    24391389.04\n",
              "                               ...     \n",
              "2018-03-11  organic           539335.09\n",
              "2018-03-18  conventional    25413822.05\n",
              "            organic           616796.92\n",
              "2018-03-25  conventional    27015311.64\n",
              "            organic           464931.28\n",
              "Name: nb_sold, Length: 338, dtype: float64"
            ]
          },
          "metadata": {},
          "execution_count": 18
        }
      ]
    },
    {
      "cell_type": "code",
      "source": [
        "# Get the total number of avocados sold on each date\n",
        "nb_sold_by_date = avocados.groupby('date')['nb_sold'].sum()\n",
        "nb_sold_by_date.head()"
      ],
      "metadata": {
        "colab": {
          "base_uri": "https://localhost:8080/"
        },
        "id": "GpIFvpC5ovhG",
        "outputId": "44da24f7-428a-44cf-a6bb-a4c235a0e636"
      },
      "execution_count": null,
      "outputs": [
        {
          "output_type": "execute_result",
          "data": {
            "text/plain": [
              "date\n",
              "2015-01-04    27279606.03\n",
              "2015-01-11    25081927.33\n",
              "2015-01-18    24961540.48\n",
              "2015-01-25    24094678.66\n",
              "2015-02-01    39838734.08\n",
              "Name: nb_sold, dtype: float64"
            ]
          },
          "metadata": {},
          "execution_count": 20
        }
      ]
    },
    {
      "cell_type": "code",
      "source": [
        "# Create a line plot of the number of avocados sold by date\n",
        "nb_sold_by_date.plot(kind=\"line\", title=\"number of avocados sold by date\")\n",
        "plt.show()"
      ],
      "metadata": {
        "colab": {
          "base_uri": "https://localhost:8080/",
          "height": 313
        },
        "id": "nz5qRPaIpWge",
        "outputId": "13752c1f-03c6-4520-b0c3-785c04bbd567"
      },
      "execution_count": null,
      "outputs": [
        {
          "output_type": "execute_result",
          "data": {
            "text/plain": [
              "<matplotlib.axes._subplots.AxesSubplot at 0x7f30ed3ce090>"
            ]
          },
          "metadata": {},
          "execution_count": 22
        },
        {
          "output_type": "display_data",
          "data": {
            "image/png": "[encoded data removed]",
            "text/plain": [
              "<Figure size 432x288 with 1 Axes>"
            ]
          },
          "metadata": {
            "needs_background": "light"
          }
        }
      ]
    },
    {
      "cell_type": "markdown",
      "source": [
        "## Avocado supply and demand\n",
        "Scatter plots are ideal for visualizing `relationships between numerical variables`. In this exercise, you'll compare the number of avocados sold to average price and see if they're at all related. If they're related, you may be able to use one number to predict the other. "
      ],
      "metadata": {
        "id": "6cVmD7sYqVXZ"
      }
    },
    {
      "cell_type": "markdown",
      "source": [
        "1. Create a scatter plot with `nb_sold` on the x-axis and `avg_price` on the y-axis. Title it \"Number of avocados sold vs. average price\"."
      ],
      "metadata": {
        "id": "frlcneJKy4O4"
      }
    },
    {
      "cell_type": "code",
      "source": [
        "# Scatter plot of nb_sold vs avg_price with title\n",
        "avocados.plot(kind='scatter', x='nb_sold', y='avg_price', title='Number of avocados sold vs. average price')\n",
        "plt.show()"
      ],
      "metadata": {
        "colab": {
          "base_uri": "https://localhost:8080/",
          "height": 295
        },
        "id": "HFwPftCBqKUW",
        "outputId": "9b749475-a9df-40a1-8662-4e1a51f9e059"
      },
      "execution_count": null,
      "outputs": [
        {
          "output_type": "display_data",
          "data": {
            "image/png": "[encoded data removed]",
            "text/plain": [
              "<Figure size 432x288 with 1 Axes>"
            ]
          },
          "metadata": {
            "needs_background": "light"
          }
        }
      ]
    },
    {
      "cell_type": "markdown",
      "source": [
        "## Price of conventional vs. organic avocados\n",
        "Creating multiple plots for different subsets of data allows you to compare groups. In this exercise, you'll create multiple histograms to compare the prices of conventional and organic avocados."
      ],
      "metadata": {
        "id": "j-cDTjjs0Sdk"
      }
    },
    {
      "cell_type": "markdown",
      "source": [
        "1. \n",
        "* Subset avocados for the `conventional type`, and the `average price` column. Create a histogram.\n",
        "*  Create a histogram of `avg_price` for organic type avocados.\n",
        "* Add a legend to your plot, with the names \"conventional\" and \"organic\".\n",
        "* Show your plot."
      ],
      "metadata": {
        "id": "YvqmhtRM0aqJ"
      }
    },
    {
      "cell_type": "code",
      "source": [
        "# Histogram of conventional avg_price, modify histogram transparency to 0.5, bins=20\n",
        "avocados[avocados[\"type\"] == \"conventional\"][\"avg_price\"].hist(alpha=0.5, bins=20)\n",
        "\n",
        "# # Histogram of organic avg_price, modify histogram transparency to 0.5, bins=20\n",
        "avocados[avocados[\"type\"] == \"organic\"][\"avg_price\"].hist(alpha=0.5, bins=20)\n",
        "\n",
        "# Add a legend\n",
        "plt.legend([\"conventional\", \"organic\"])\n",
        "\n",
        "# Show the plot\n",
        "plt.show()"
      ],
      "metadata": {
        "colab": {
          "base_uri": "https://localhost:8080/",
          "height": 267
        },
        "id": "oLCql_pTzQG7",
        "outputId": "be6c0443-88ac-4f6f-82a8-c8dc4e249ed3"
      },
      "execution_count": null,
      "outputs": [
        {
          "output_type": "display_data",
          "data": {
            "image/png": "[encoded data removed]",
            "text/plain": [
              "<Figure size 432x288 with 1 Axes>"
            ]
          },
          "metadata": {
            "needs_background": "light"
          }
        }
      ]
    },
    {
      "cell_type": "markdown",
      "source": [
        "## Missing values"
      ],
      "metadata": {
        "id": "9izPdT4jBE4_"
      }
    },
    {
      "cell_type": "markdown",
      "source": [
        "### Finding missing values\n",
        "Missing values are everywhere, and you don't want them interfering with your work. Some functions ignore missing data by default, but that's not always the behavior you might want. Some functions can't handle missing values at all, so these values need to be taken care of before you can use them. If you don't know where your missing values are, or if they exist, you could make mistakes in your analysis. In this exercise, you'll determine if there are missing values in the dataset, and if so, how many."
      ],
      "metadata": {
        "id": "fNB7XBCMBMSv"
      }
    },
    {
      "cell_type": "markdown",
      "source": [
        "For this demonstration of handling with missing values, we will be using the subset that only contains sales from 2016. Let's create a subset from `avocados.`"
      ],
      "metadata": {
        "id": "_fHNDFH5Bh8J"
      }
    },
    {
      "cell_type": "code",
      "source": [
        "# Subset data that contains sales from 2016\n",
        "avocados_2016 = avocados[avocados['year'] >= 2016]\n",
        "avocados_2016.head()"
      ],
      "metadata": {
        "colab": {
          "base_uri": "https://localhost:8080/",
          "height": 206
        },
        "id": "kCqg-W2C17dA",
        "outputId": "23b9ba62-5048-4868-eb77-19c4989a7524"
      },
      "execution_count": null,
      "outputs": [
        {
          "output_type": "execute_result",
          "data": {
            "text/html": [
              "\n",
              "  <div id=\"df-c977a13c-3386-4cf9-8b2b-2e0c224a294f\">\n",
              "    <div class=\"colab-df-container\">\n",
              "      <div>\n",
              "<style scoped>\n",
              "    .dataframe tbody tr th:only-of-type {\n",
              "        vertical-align: middle;\n",
              "    }\n",
              "\n",
              "    .dataframe tbody tr th {\n",
              "        vertical-align: top;\n",
              "    }\n",
              "\n",
              "    .dataframe thead th {\n",
              "        text-align: right;\n",
              "    }\n",
              "</style>\n",
              "<table border=\"1\" class=\"dataframe\">\n",
              "  <thead>\n",
              "    <tr style=\"text-align: right;\">\n",
              "      <th></th>\n",
              "      <th>date</th>\n",
              "      <th>type</th>\n",
              "      <th>year</th>\n",
              "      <th>avg_price</th>\n",
              "      <th>size</th>\n",
              "      <th>nb_sold</th>\n",
              "    </tr>\n",
              "  </thead>\n",
              "  <tbody>\n",
              "    <tr>\n",
              "      <th>52</th>\n",
              "      <td>2016-12-25</td>\n",
              "      <td>conventional</td>\n",
              "      <td>2016</td>\n",
              "      <td>1.00</td>\n",
              "      <td>small</td>\n",
              "      <td>9255125.20</td>\n",
              "    </tr>\n",
              "    <tr>\n",
              "      <th>53</th>\n",
              "      <td>2016-12-18</td>\n",
              "      <td>conventional</td>\n",
              "      <td>2016</td>\n",
              "      <td>0.96</td>\n",
              "      <td>small</td>\n",
              "      <td>9394065.91</td>\n",
              "    </tr>\n",
              "    <tr>\n",
              "      <th>54</th>\n",
              "      <td>2016-12-11</td>\n",
              "      <td>conventional</td>\n",
              "      <td>2016</td>\n",
              "      <td>0.98</td>\n",
              "      <td>small</td>\n",
              "      <td>9009996.11</td>\n",
              "    </tr>\n",
              "    <tr>\n",
              "      <th>55</th>\n",
              "      <td>2016-12-04</td>\n",
              "      <td>conventional</td>\n",
              "      <td>2016</td>\n",
              "      <td>1.00</td>\n",
              "      <td>small</td>\n",
              "      <td>11043350.90</td>\n",
              "    </tr>\n",
              "    <tr>\n",
              "      <th>56</th>\n",
              "      <td>2016-11-27</td>\n",
              "      <td>conventional</td>\n",
              "      <td>2016</td>\n",
              "      <td>1.21</td>\n",
              "      <td>small</td>\n",
              "      <td>7891487.94</td>\n",
              "    </tr>\n",
              "  </tbody>\n",
              "</table>\n",
              "</div>\n",
              "      <button class=\"colab-df-convert\" onclick=\"convertToInteractive('df-c977a13c-3386-4cf9-8b2b-2e0c224a294f')\"\n",
              "              title=\"Convert this dataframe to an interactive table.\"\n",
              "              style=\"display:none;\">\n",
              "        \n",
              "  <svg xmlns=\"http://www.w3.org/2000/svg\" height=\"24px\"viewBox=\"0 0 24 24\"\n",
              "       width=\"24px\">\n",
              "    <path d=\"M0 0h24v24H0V0z\" fill=\"none\"/>\n",
              "    <path d=\"M18.56 5.44l.94 2.06.94-2.06 2.06-.94-2.06-.94-.94-2.06-.94 2.06-2.06.94zm-11 1L8.5 8.5l.94-2.06 2.06-.94-2.06-.94L8.5 2.5l-.94 2.06-2.06.94zm10 10l.94 2.06.94-2.06 2.06-.94-2.06-.94-.94-2.06-.94 2.06-2.06.94z\"/><path d=\"M17.41 7.96l-1.37-1.37c-.4-.4-.92-.59-1.43-.59-.52 0-1.04.2-1.43.59L10.3 9.45l-7.72 7.72c-.78.78-.78 2.05 0 2.83L4 21.41c.39.39.9.59 1.41.59.51 0 1.02-.2 1.41-.59l7.78-7.78 2.81-2.81c.8-.78.8-2.07 0-2.86zM5.41 20L4 18.59l7.72-7.72 1.47 1.35L5.41 20z\"/>\n",
              "  </svg>\n",
              "      </button>\n",
              "      \n",
              "  <style>\n",
              "    .colab-df-container {\n",
              "      display:flex;\n",
              "      flex-wrap:wrap;\n",
              "      gap: 12px;\n",
              "    }\n",
              "\n",
              "    .colab-df-convert {\n",
              "      background-color: #E8F0FE;\n",
              "      border: none;\n",
              "      border-radius: 50%;\n",
              "      cursor: pointer;\n",
              "      display: none;\n",
              "      fill: #1967D2;\n",
              "      height: 32px;\n",
              "      padding: 0 0 0 0;\n",
              "      width: 32px;\n",
              "    }\n",
              "\n",
              "    .colab-df-convert:hover {\n",
              "      background-color: #E2EBFA;\n",
              "      box-shadow: 0px 1px 2px rgba(60, 64, 67, 0.3), 0px 1px 3px 1px rgba(60, 64, 67, 0.15);\n",
              "      fill: #174EA6;\n",
              "    }\n",
              "\n",
              "    [theme=dark] .colab-df-convert {\n",
              "      background-color: #3B4455;\n",
              "      fill: #D2E3FC;\n",
              "    }\n",
              "\n",
              "    [theme=dark] .colab-df-convert:hover {\n",
              "      background-color: #434B5C;\n",
              "      box-shadow: 0px 1px 3px 1px rgba(0, 0, 0, 0.15);\n",
              "      filter: drop-shadow(0px 1px 2px rgba(0, 0, 0, 0.3));\n",
              "      fill: #FFFFFF;\n",
              "    }\n",
              "  </style>\n",
              "\n",
              "      <script>\n",
              "        const buttonEl =\n",
              "          document.querySelector('#df-c977a13c-3386-4cf9-8b2b-2e0c224a294f button.colab-df-convert');\n",
              "        buttonEl.style.display =\n",
              "          google.colab.kernel.accessAllowed ? 'block' : 'none';\n",
              "\n",
              "        async function convertToInteractive(key) {\n",
              "          const element = document.querySelector('#df-c977a13c-3386-4cf9-8b2b-2e0c224a294f');\n",
              "          const dataTable =\n",
              "            await google.colab.kernel.invokeFunction('convertToInteractive',\n",
              "                                                     [key], {});\n",
              "          if (!dataTable) return;\n",
              "\n",
              "          const docLinkHtml = 'Like what you see? Visit the ' +\n",
              "            '<a target=\"_blank\" href=https://colab.research.google.com/notebooks/data_table.ipynb>data table notebook</a>'\n",
              "            + ' to learn more about interactive tables.';\n",
              "          element.innerHTML = '';\n",
              "          dataTable['output_type'] = 'display_data';\n",
              "          await google.colab.output.renderOutput(dataTable, element);\n",
              "          const docLink = document.createElement('div');\n",
              "          docLink.innerHTML = docLinkHtml;\n",
              "          element.appendChild(docLink);\n",
              "        }\n",
              "      </script>\n",
              "    </div>\n",
              "  </div>\n",
              "  "
            ],
            "text/plain": [
              "          date          type  year  avg_price   size      nb_sold\n",
              "52  2016-12-25  conventional  2016       1.00  small   9255125.20\n",
              "53  2016-12-18  conventional  2016       0.96  small   9394065.91\n",
              "54  2016-12-11  conventional  2016       0.98  small   9009996.11\n",
              "55  2016-12-04  conventional  2016       1.00  small  11043350.90\n",
              "56  2016-11-27  conventional  2016       1.21  small   7891487.94"
            ]
          },
          "metadata": {},
          "execution_count": 33
        }
      ]
    },
    {
      "cell_type": "code",
      "source": [
        "avocados_2016.info()"
      ],
      "metadata": {
        "colab": {
          "base_uri": "https://localhost:8080/"
        },
        "id": "aPKko3btCg2Z",
        "outputId": "fb21c5a4-d5a3-439d-ef5b-2b71b7bf47c9"
      },
      "execution_count": null,
      "outputs": [
        {
          "output_type": "stream",
          "name": "stdout",
          "text": [
            "<class 'pandas.core.frame.DataFrame'>\n",
            "Int64Index: 702 entries, 52 to 1013\n",
            "Data columns (total 6 columns):\n",
            " #   Column     Non-Null Count  Dtype  \n",
            "---  ------     --------------  -----  \n",
            " 0   date       702 non-null    object \n",
            " 1   type       702 non-null    object \n",
            " 2   year       702 non-null    int64  \n",
            " 3   avg_price  702 non-null    float64\n",
            " 4   size       702 non-null    object \n",
            " 5   nb_sold    702 non-null    float64\n",
            "dtypes: float64(2), int64(1), object(3)\n",
            "memory usage: 38.4+ KB\n"
          ]
        }
      ]
    },
    {
      "cell_type": "code",
      "source": [
        "# Import matplotlib.pyplot with alias plt\n",
        "import matplotlib.pyplot as plt\n",
        "\n",
        "# Check individual values for missing values\n",
        "print(avocados_2016.isna())\n",
        "\n",
        "# Check each column for missing values, shows whether any value in each column is missing or not.\n",
        "print(avocados_2016.isna().any())\n",
        "\n",
        "# Bar plot of missing values by variable\n",
        "avocados_2016.isna().sum().plot(kind=\"bar\")\n",
        "\n",
        "# Show plot"
      ],
      "metadata": {
        "colab": {
          "base_uri": "https://localhost:8080/",
          "height": 710
        },
        "id": "IOj2n7OyCwmh",
        "outputId": "6bc76e95-c14b-42c4-95e6-ba7075570bb2"
      },
      "execution_count": null,
      "outputs": [
        {
          "output_type": "stream",
          "name": "stdout",
          "text": [
            "       date   type   year  avg_price   size  nb_sold\n",
            "52    False  False  False      False  False    False\n",
            "53    False  False  False      False  False    False\n",
            "54    False  False  False      False  False    False\n",
            "55    False  False  False      False  False    False\n",
            "56    False  False  False      False  False    False\n",
            "...     ...    ...    ...        ...    ...      ...\n",
            "1009  False  False  False      False  False    False\n",
            "1010  False  False  False      False  False    False\n",
            "1011  False  False  False      False  False    False\n",
            "1012  False  False  False      False  False    False\n",
            "1013  False  False  False      False  False    False\n",
            "\n",
            "[702 rows x 6 columns]\n",
            "date         False\n",
            "type         False\n",
            "year         False\n",
            "avg_price    False\n",
            "size         False\n",
            "nb_sold      False\n",
            "dtype: bool\n"
          ]
        },
        {
          "output_type": "execute_result",
          "data": {
            "text/plain": [
              "<matplotlib.axes._subplots.AxesSubplot at 0x7f30ed611690>"
            ]
          },
          "metadata": {},
          "execution_count": 35
        },
        {
          "output_type": "display_data",
          "data": {
            "image/png": "[encoded data removed]",
            "text/plain": [
              "<Figure size 432x288 with 1 Axes>"
            ]
          },
          "metadata": {
            "needs_background": "light"
          }
        }
      ]
    },
    {
      "cell_type": "markdown",
      "source": [
        "### Removing missing values\n",
        "Now that you know there are some missing values in your DataFrame, you have a few options to deal with them. One way is to remove them from the dataset completely. In this exercise, you'll remove missing values by removing all rows that contain missing values."
      ],
      "metadata": {
        "id": "TAnHvzCBDbsE"
      }
    },
    {
      "cell_type": "markdown",
      "source": [
        "1. Remove the rows of `avocados_2016` that contain missing values and store the remaining rows in `avocados_complete`.\n",
        "2. Verify that all missing values have been removed from `avocados_complete`. Calculate each column that has NAs and print."
      ],
      "metadata": {
        "id": "ySltpAqwDkRl"
      }
    },
    {
      "cell_type": "code",
      "source": [
        "# Remove rows with missing values\n",
        "avocados_complete = avocados_2016.dropna()\n",
        "\n",
        "# Check if any columns contain missing values\n",
        "print(avocados_complete.isna().any())"
      ],
      "metadata": {
        "id": "9MYJPQLdDuje"
      },
      "execution_count": null,
      "outputs": []
    },
    {
      "cell_type": "markdown",
      "source": [
        "### Replacing missing values\n",
        "Another way of handling missing values is to replace them all with the same value. For numerical variables, one option is to replace values with 0— you'll do this here. However, when you replace missing values, you make assumptions about what a missing value means. In this case, you will assume that a missing number sold means that no sales for that avocado type were made that week.\n",
        "\n",
        "In this exercise, you'll see how replacing missing values can affect the distribution of a variable using histograms. You can plot histograms for multiple variables at a time as follows:\n",
        "```\n",
        "dogs[[\"height_cm\", \"weight_kg\"]].hist()\n",
        "```"
      ],
      "metadata": {
        "id": "xjG4GmiMD5T7"
      }
    },
    {
      "cell_type": "markdown",
      "source": [
        "1. A list has been created, cols_with_missing, containing the names of columns with missing values: `\"small_sold\"`, `\"large_sold\"`, and `\"xl_sold\"`. Create a histogram of those columns.\n",
        "Show the plot."
      ],
      "metadata": {
        "id": "wXp8XZKYEPzb"
      }
    },
    {
      "cell_type": "code",
      "source": [
        "# List the columns with missing values\n",
        "cols_with_missing = [\"small_sold\", \"large_sold\", \"xl_sold\"]\n",
        "\n",
        "# Create histograms showing the distributions cols_with_missing\n",
        "avocados_2016[cols_with_missing].hist()\n",
        "\n",
        "# Show the plot\n",
        "plt.show()"
      ],
      "metadata": {
        "id": "UikgjMY5EG0m"
      },
      "execution_count": null,
      "outputs": []
    },
    {
      "cell_type": "markdown",
      "source": [
        "2. Replace the missing values of avocados_2016 with `0s` and store the result as a`vocados_filled`.\n",
        "Create a histogram of the `cols_with_missing` columns of `avocados_filled`."
      ],
      "metadata": {
        "id": "oDUgLWRlEMME"
      }
    },
    {
      "cell_type": "code",
      "source": [
        "# From previous step\n",
        "cols_with_missing = [\"small_sold\", \"large_sold\", \"xl_sold\"]\n",
        "avocados_2016[cols_with_missing].hist()\n",
        "plt.show()\n",
        "\n",
        "# Fill in missing values with 0\n",
        "avocados_filled = avocados_2016.fillna(0)\n",
        "\n",
        "# Create histograms of the filled columns\n",
        "avocados_filled[cols_with_missing].hist()\n",
        "\n",
        "# Show the plot\n",
        "plt.show()"
      ],
      "metadata": {
        "id": "a7f55jP7Ene8"
      },
      "execution_count": null,
      "outputs": []
    },
    {
      "cell_type": "markdown",
      "source": [
        "# Creating DataFrame"
      ],
      "metadata": {
        "id": "i0wPefsSIoby"
      }
    },
    {
      "cell_type": "markdown",
      "source": [
        "## Creating DF from list of dictionaries\n",
        "\n",
        "You recently got some new avocado data from 2019 that you'd like to put in a DataFrame using the list of dictionaries method. Remember that with this method, you go through the data row by row.\n"
      ],
      "metadata": {
        "id": "7RriWiy0IxRr"
      }
    },
    {
      "cell_type": "code",
      "source": [
        "# Create a list of dictionaries with new data\n",
        "avocados_list = [\n",
        "    {'date': \"2019-11-03\", 'small_sold': 10376832, 'large_sold': 7835071},\n",
        "    {'date': \"2019-11-10\", 'small_sold': 10717154, 'large_sold': 8561348},\n",
        "]\n",
        "\n",
        "# Convert list into DataFrame\n",
        "avocados_2019 = pd.DataFrame(avocados_list)\n",
        "\n",
        "# Print the new DataFrame\n",
        "avocados_2019"
      ],
      "metadata": {
        "colab": {
          "base_uri": "https://localhost:8080/",
          "height": 112
        },
        "id": "KsgZ6RPtJCB2",
        "outputId": "702a7d46-0ce5-4834-dc5f-15958e608004"
      },
      "execution_count": null,
      "outputs": [
        {
          "output_type": "execute_result",
          "data": {
            "text/html": [
              "\n",
              "  <div id=\"df-b30937d7-23a8-4813-8187-ee2c62bc2f62\">\n",
              "    <div class=\"colab-df-container\">\n",
              "      <div>\n",
              "<style scoped>\n",
              "    .dataframe tbody tr th:only-of-type {\n",
              "        vertical-align: middle;\n",
              "    }\n",
              "\n",
              "    .dataframe tbody tr th {\n",
              "        vertical-align: top;\n",
              "    }\n",
              "\n",
              "    .dataframe thead th {\n",
              "        text-align: right;\n",
              "    }\n",
              "</style>\n",
              "<table border=\"1\" class=\"dataframe\">\n",
              "  <thead>\n",
              "    <tr style=\"text-align: right;\">\n",
              "      <th></th>\n",
              "      <th>date</th>\n",
              "      <th>small_sold</th>\n",
              "      <th>large_sold</th>\n",
              "    </tr>\n",
              "  </thead>\n",
              "  <tbody>\n",
              "    <tr>\n",
              "      <th>0</th>\n",
              "      <td>2019-11-03</td>\n",
              "      <td>10376832</td>\n",
              "      <td>7835071</td>\n",
              "    </tr>\n",
              "    <tr>\n",
              "      <th>1</th>\n",
              "      <td>2019-11-10</td>\n",
              "      <td>10717154</td>\n",
              "      <td>8561348</td>\n",
              "    </tr>\n",
              "  </tbody>\n",
              "</table>\n",
              "</div>\n",
              "      <button class=\"colab-df-convert\" onclick=\"convertToInteractive('df-b30937d7-23a8-4813-8187-ee2c62bc2f62')\"\n",
              "              title=\"Convert this dataframe to an interactive table.\"\n",
              "              style=\"display:none;\">\n",
              "        \n",
              "  <svg xmlns=\"http://www.w3.org/2000/svg\" height=\"24px\"viewBox=\"0 0 24 24\"\n",
              "       width=\"24px\">\n",
              "    <path d=\"M0 0h24v24H0V0z\" fill=\"none\"/>\n",
              "    <path d=\"M18.56 5.44l.94 2.06.94-2.06 2.06-.94-2.06-.94-.94-2.06-.94 2.06-2.06.94zm-11 1L8.5 8.5l.94-2.06 2.06-.94-2.06-.94L8.5 2.5l-.94 2.06-2.06.94zm10 10l.94 2.06.94-2.06 2.06-.94-2.06-.94-.94-2.06-.94 2.06-2.06.94z\"/><path d=\"M17.41 7.96l-1.37-1.37c-.4-.4-.92-.59-1.43-.59-.52 0-1.04.2-1.43.59L10.3 9.45l-7.72 7.72c-.78.78-.78 2.05 0 2.83L4 21.41c.39.39.9.59 1.41.59.51 0 1.02-.2 1.41-.59l7.78-7.78 2.81-2.81c.8-.78.8-2.07 0-2.86zM5.41 20L4 18.59l7.72-7.72 1.47 1.35L5.41 20z\"/>\n",
              "  </svg>\n",
              "      </button>\n",
              "      \n",
              "  <style>\n",
              "    .colab-df-container {\n",
              "      display:flex;\n",
              "      flex-wrap:wrap;\n",
              "      gap: 12px;\n",
              "    }\n",
              "\n",
              "    .colab-df-convert {\n",
              "      background-color: #E8F0FE;\n",
              "      border: none;\n",
              "      border-radius: 50%;\n",
              "      cursor: pointer;\n",
              "      display: none;\n",
              "      fill: #1967D2;\n",
              "      height: 32px;\n",
              "      padding: 0 0 0 0;\n",
              "      width: 32px;\n",
              "    }\n",
              "\n",
              "    .colab-df-convert:hover {\n",
              "      background-color: #E2EBFA;\n",
              "      box-shadow: 0px 1px 2px rgba(60, 64, 67, 0.3), 0px 1px 3px 1px rgba(60, 64, 67, 0.15);\n",
              "      fill: #174EA6;\n",
              "    }\n",
              "\n",
              "    [theme=dark] .colab-df-convert {\n",
              "      background-color: #3B4455;\n",
              "      fill: #D2E3FC;\n",
              "    }\n",
              "\n",
              "    [theme=dark] .colab-df-convert:hover {\n",
              "      background-color: #434B5C;\n",
              "      box-shadow: 0px 1px 3px 1px rgba(0, 0, 0, 0.15);\n",
              "      filter: drop-shadow(0px 1px 2px rgba(0, 0, 0, 0.3));\n",
              "      fill: #FFFFFF;\n",
              "    }\n",
              "  </style>\n",
              "\n",
              "      <script>\n",
              "        const buttonEl =\n",
              "          document.querySelector('#df-b30937d7-23a8-4813-8187-ee2c62bc2f62 button.colab-df-convert');\n",
              "        buttonEl.style.display =\n",
              "          google.colab.kernel.accessAllowed ? 'block' : 'none';\n",
              "\n",
              "        async function convertToInteractive(key) {\n",
              "          const element = document.querySelector('#df-b30937d7-23a8-4813-8187-ee2c62bc2f62');\n",
              "          const dataTable =\n",
              "            await google.colab.kernel.invokeFunction('convertToInteractive',\n",
              "                                                     [key], {});\n",
              "          if (!dataTable) return;\n",
              "\n",
              "          const docLinkHtml = 'Like what you see? Visit the ' +\n",
              "            '<a target=\"_blank\" href=https://colab.research.google.com/notebooks/data_table.ipynb>data table notebook</a>'\n",
              "            + ' to learn more about interactive tables.';\n",
              "          element.innerHTML = '';\n",
              "          dataTable['output_type'] = 'display_data';\n",
              "          await google.colab.output.renderOutput(dataTable, element);\n",
              "          const docLink = document.createElement('div');\n",
              "          docLink.innerHTML = docLinkHtml;\n",
              "          element.appendChild(docLink);\n",
              "        }\n",
              "      </script>\n",
              "    </div>\n",
              "  </div>\n",
              "  "
            ],
            "text/plain": [
              "         date  small_sold  large_sold\n",
              "0  2019-11-03    10376832     7835071\n",
              "1  2019-11-10    10717154     8561348"
            ]
          },
          "metadata": {},
          "execution_count": 36
        }
      ]
    },
    {
      "cell_type": "markdown",
      "source": [
        "## Creating DF from dictionary of lists\n",
        "Some more data just came in! This time, you'll use the dictionary of lists method, parsing the data column by column."
      ],
      "metadata": {
        "id": "hbwqlYudJozT"
      }
    },
    {
      "cell_type": "code",
      "source": [
        "# Create a dictionary of lists with new data\n",
        "avocados_dict = {\n",
        "  \"date\": [\"2019-11-17\", \"2019-12-01\"],\n",
        "  \"small_sold\": [10859987, 9291631],\n",
        "  \"large_sold\": [7674135, 6238096]\n",
        "}\n",
        "\n",
        "# Convert dictionary into DataFrame\n",
        "avocados_2019 = pd.DataFrame(avocados_dict)\n",
        "\n",
        "# Print the new DataFrame\n",
        "print(avocados_2019)"
      ],
      "metadata": {
        "colab": {
          "base_uri": "https://localhost:8080/"
        },
        "id": "bpbF3-isJgDb",
        "outputId": "9e46c325-a0f2-4c75-c63a-a8b0ea6e1287"
      },
      "execution_count": null,
      "outputs": [
        {
          "output_type": "stream",
          "name": "stdout",
          "text": [
            "         date  small_sold  large_sold\n",
            "0  2019-11-17    10859987     7674135\n",
            "1  2019-12-01     9291631     6238096\n"
          ]
        }
      ]
    },
    {
      "cell_type": "markdown",
      "source": [
        "# Reading and writing CSVs"
      ],
      "metadata": {
        "id": "E_6KjOMTKK2W"
      }
    },
    {
      "cell_type": "markdown",
      "source": [
        "## CSV to DataFrame\n",
        "You work for an airline, and your manager has asked you to do a competitive analysis and see how often passengers flying on other airlines are involuntarily bumped from their flights. You got a CSV file (airline_bumping.csv) from the Department of Transportation containing data on passengers that were involuntarily denied boarding in 2016 and 2017, but it doesn't have the exact numbers you want. In order to figure this out, you'll need to get the CSV into a pandas DataFrame and do some manipulation!"
      ],
      "metadata": {
        "id": "3kPTchzjNLK4"
      }
    },
    {
      "cell_type": "code",
      "source": [
        "# Read CSV as DataFrame called airline_bumping\n",
        "airline_bumping = pd.read_csv('airline_bumping.csv')\n",
        "\n",
        "# Take a look at the DataFrame\n",
        "print(airline_bumping.head())\n",
        "\n",
        "# Create new col, bumps_per_10k: no. of bumps per 10k passengers for each airline\n",
        "airline_totals[\"bumps_per_10k\"] = airline_totals['nb_bumped'] / airline_totals['total_passengers'] * 10000\n",
        "\n",
        "# Print airline_totals\n",
        "print(airline_totals)"
      ],
      "metadata": {
        "id": "GotrbrwAKBZI"
      },
      "execution_count": null,
      "outputs": []
    },
    {
      "cell_type": "markdown",
      "source": [
        "## DataFrame to CSV\n",
        "You're almost there! To make things easier to read, you'll need to sort the data and export it to CSV so that your colleagues can read it."
      ],
      "metadata": {
        "id": "Y97x-kDjNXgM"
      }
    },
    {
      "cell_type": "code",
      "source": [
        "# Create airline_totals_sorted\n",
        "airline_totals_sorted = airline_totals.sort_values(\"bumps_per_10k\", ascending=False)\n",
        "\n",
        "# Print airline_totals_sorted\n",
        "print(airline_totals_sorted)\n",
        "\n",
        "# Save as airline_totals_sorted.csv\n",
        "airline_totals_sorted.to_csv(\"airline_totals_sorted.csv\")"
      ],
      "metadata": {
        "id": "JBikqMG5NZ8r"
      },
      "execution_count": null,
      "outputs": []
    }
  ],
  "metadata": {
    "colab": {
      "name": "Data Manipulation with Pandas.ipynb",
      "provenance": [],
      "authorship_tag": "ABX9TyPJHUV4wPWhWHmptamZKopA",
      "include_colab_link": true
    },
    "kernelspec": {
      "display_name": "Python 3",
      "name": "python3"
    },
    "language_info": {
      "name": "python"
    }
  },
  "nbformat": 4,
  "nbformat_minor": 0
}